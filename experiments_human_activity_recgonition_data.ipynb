{
 "cells": [
  {
   "cell_type": "code",
   "execution_count": 1,
   "metadata": {
    "ExecuteTime": {
     "end_time": "2021-06-22T10:20:19.999059Z",
     "start_time": "2021-06-22T10:20:18.379194Z"
    }
   },
   "outputs": [],
   "source": [
    "import pandas as pd\n",
    "from sklearn.decomposition import PCA\n",
    "from sklearn.manifold import TSNE\n",
    "import matplotlib.pyplot as plt\n",
    "from sklearn.neighbors import KNeighborsClassifier\n",
    "import networkx as nx"
   ]
  },
  {
   "cell_type": "code",
   "execution_count": 2,
   "metadata": {
    "ExecuteTime": {
     "end_time": "2021-06-22T10:20:22.744678Z",
     "start_time": "2021-06-22T10:20:20.148711Z"
    }
   },
   "outputs": [
    {
     "ename": "ModuleNotFoundError",
     "evalue": "No module named 'hyppo._utils'",
     "output_type": "error",
     "traceback": [
      "\u001b[0;31m---------------------------------------------------------------------------\u001b[0m",
      "\u001b[0;31mModuleNotFoundError\u001b[0m                       Traceback (most recent call last)",
      "\u001b[0;32m<ipython-input-2-15a0025e12c6>\u001b[0m in \u001b[0;36m<module>\u001b[0;34m\u001b[0m\n\u001b[1;32m      1\u001b[0m \u001b[0;32mfrom\u001b[0m \u001b[0mtorch\u001b[0m\u001b[0;34m.\u001b[0m\u001b[0mautograd\u001b[0m \u001b[0;32mimport\u001b[0m \u001b[0mVariable\u001b[0m\u001b[0;34m\u001b[0m\u001b[0;34m\u001b[0m\u001b[0m\n\u001b[0;32m----> 2\u001b[0;31m \u001b[0;32mfrom\u001b[0m \u001b[0mgraspy\u001b[0m\u001b[0;34m.\u001b[0m\u001b[0msimulations\u001b[0m \u001b[0;32mimport\u001b[0m \u001b[0msbm\u001b[0m\u001b[0;34m\u001b[0m\u001b[0;34m\u001b[0m\u001b[0m\n\u001b[0m",
      "\u001b[0;32m/opt/anaconda3/lib/python3.7/site-packages/graspy/__init__.py\u001b[0m in \u001b[0;36m<module>\u001b[0;34m\u001b[0m\n\u001b[1;32m      4\u001b[0m \u001b[0;32mimport\u001b[0m \u001b[0mgraspy\u001b[0m\u001b[0;34m.\u001b[0m\u001b[0mdatasets\u001b[0m\u001b[0;34m\u001b[0m\u001b[0;34m\u001b[0m\u001b[0m\n\u001b[1;32m      5\u001b[0m \u001b[0;32mimport\u001b[0m \u001b[0mgraspy\u001b[0m\u001b[0;34m.\u001b[0m\u001b[0membed\u001b[0m\u001b[0;34m\u001b[0m\u001b[0;34m\u001b[0m\u001b[0m\n\u001b[0;32m----> 6\u001b[0;31m \u001b[0;32mimport\u001b[0m \u001b[0mgraspy\u001b[0m\u001b[0;34m.\u001b[0m\u001b[0minference\u001b[0m\u001b[0;34m\u001b[0m\u001b[0;34m\u001b[0m\u001b[0m\n\u001b[0m\u001b[1;32m      7\u001b[0m \u001b[0;32mimport\u001b[0m \u001b[0mgraspy\u001b[0m\u001b[0;34m.\u001b[0m\u001b[0mmodels\u001b[0m\u001b[0;34m\u001b[0m\u001b[0;34m\u001b[0m\u001b[0m\n\u001b[1;32m      8\u001b[0m \u001b[0;32mimport\u001b[0m \u001b[0mgraspy\u001b[0m\u001b[0;34m.\u001b[0m\u001b[0mpipeline\u001b[0m\u001b[0;34m\u001b[0m\u001b[0;34m\u001b[0m\u001b[0m\n",
      "\u001b[0;32m/opt/anaconda3/lib/python3.7/site-packages/graspy/inference/__init__.py\u001b[0m in \u001b[0;36m<module>\u001b[0;34m\u001b[0m\n\u001b[1;32m      1\u001b[0m \u001b[0;32mfrom\u001b[0m \u001b[0;34m.\u001b[0m\u001b[0mlatent_position_test\u001b[0m \u001b[0;32mimport\u001b[0m \u001b[0mLatentPositionTest\u001b[0m\u001b[0;34m\u001b[0m\u001b[0;34m\u001b[0m\u001b[0m\n\u001b[0;32m----> 2\u001b[0;31m \u001b[0;32mfrom\u001b[0m \u001b[0;34m.\u001b[0m\u001b[0mlatent_distribution_test\u001b[0m \u001b[0;32mimport\u001b[0m \u001b[0mLatentDistributionTest\u001b[0m\u001b[0;34m\u001b[0m\u001b[0;34m\u001b[0m\u001b[0m\n\u001b[0m\u001b[1;32m      3\u001b[0m \u001b[0;34m\u001b[0m\u001b[0m\n\u001b[1;32m      4\u001b[0m \u001b[0m__all__\u001b[0m \u001b[0;34m=\u001b[0m \u001b[0;34m[\u001b[0m\u001b[0;34m\"LatentPositionTest\"\u001b[0m\u001b[0;34m,\u001b[0m \u001b[0;34m\"LatentDistributionTest\"\u001b[0m\u001b[0;34m]\u001b[0m\u001b[0;34m\u001b[0m\u001b[0;34m\u001b[0m\u001b[0m\n",
      "\u001b[0;32m/opt/anaconda3/lib/python3.7/site-packages/graspy/inference/latent_distribution_test.py\u001b[0m in \u001b[0;36m<module>\u001b[0;34m\u001b[0m\n\u001b[1;32m     26\u001b[0m \u001b[0;32mfrom\u001b[0m \u001b[0msklearn\u001b[0m\u001b[0;34m.\u001b[0m\u001b[0mmetrics\u001b[0m\u001b[0;34m.\u001b[0m\u001b[0mpairwise\u001b[0m \u001b[0;32mimport\u001b[0m \u001b[0mPAIRWISE_KERNEL_FUNCTIONS\u001b[0m\u001b[0;34m\u001b[0m\u001b[0;34m\u001b[0m\u001b[0m\n\u001b[1;32m     27\u001b[0m \u001b[0;32mfrom\u001b[0m \u001b[0mhyppo\u001b[0m\u001b[0;34m.\u001b[0m\u001b[0mksample\u001b[0m \u001b[0;32mimport\u001b[0m \u001b[0mKSample\u001b[0m\u001b[0;34m\u001b[0m\u001b[0;34m\u001b[0m\u001b[0m\n\u001b[0;32m---> 28\u001b[0;31m \u001b[0;32mfrom\u001b[0m \u001b[0mhyppo\u001b[0m\u001b[0;34m.\u001b[0m\u001b[0m_utils\u001b[0m \u001b[0;32mimport\u001b[0m \u001b[0mgaussian\u001b[0m\u001b[0;34m\u001b[0m\u001b[0;34m\u001b[0m\u001b[0m\n\u001b[0m\u001b[1;32m     29\u001b[0m \u001b[0;34m\u001b[0m\u001b[0m\n\u001b[1;32m     30\u001b[0m \u001b[0m_VALID_DISTANCES\u001b[0m \u001b[0;34m=\u001b[0m \u001b[0mlist\u001b[0m\u001b[0;34m(\u001b[0m\u001b[0mPAIRED_DISTANCES\u001b[0m\u001b[0;34m.\u001b[0m\u001b[0mkeys\u001b[0m\u001b[0;34m(\u001b[0m\u001b[0;34m)\u001b[0m\u001b[0;34m)\u001b[0m\u001b[0;34m\u001b[0m\u001b[0;34m\u001b[0m\u001b[0m\n",
      "\u001b[0;31mModuleNotFoundError\u001b[0m: No module named 'hyppo._utils'"
     ]
    }
   ],
   "source": [
    "from torch.autograd import Variable\n",
    "from graspy.simulations import sbm"
   ]
  },
  {
   "cell_type": "markdown",
   "metadata": {},
   "source": [
    "# Experiments on Human Activity Recognition Dataset\n",
    "The purpose of this notebook is to explore machine learning methods to do human activity recognition in federated settings. by using this dataset. https://www.kaggle.com/uciml/human-activity-recognition-with-smartphones?select=train.csv\n",
    "\n",
    "Data are collected from smartphone (Samsung Galaxy S II) accelerometer and gyroscope, 21 people wearing a smart phone on waist perform one of six activities: walking, walking-upstairs, walking-downstairs, sitting, standing and lying-down. The raw sensor signals (accelerometer and gyroscope) were pre-processed by applying noise filters and then sampled in fixed-width sliding windows of 2.56 sec and 50% overlap (128 readings/window). The sensor acceleration signal, which has gravitational and body motion components, was separated using a Butterworth low-pass filter into body acceleration and gravity. The gravitational force is assumed to have only low frequency components, therefore a filter with 0.3 Hz cutoff frequency was used. From each window, a vector of features was obtained by calculating variables from the time and frequency domain. Ultimately, 561-length feature vectors of time and frequency domain variables are generated for each instance (as one datapoint).\n",
    "\n",
    "We model each individual as a separate task and predict between sitting and the other activities (a binary classification problem). We formulate the problem as federated multi-task learning on graph. Each individual has 281-409 instance,i.e. 281-409 datappoints representing a local dataset associated with one node/vertex of the graph.\n",
    "\n",
    "\n"
   ]
  },
  {
   "cell_type": "code",
   "execution_count": 5,
   "metadata": {
    "ExecuteTime": {
     "end_time": "2021-06-22T10:20:30.150570Z",
     "start_time": "2021-06-22T10:20:29.214068Z"
    }
   },
   "outputs": [],
   "source": [
    "data = pd.read_csv('smart_sensor/train.csv')"
   ]
  },
  {
   "cell_type": "code",
   "execution_count": 6,
   "metadata": {
    "ExecuteTime": {
     "end_time": "2021-06-22T10:20:30.833513Z",
     "start_time": "2021-06-22T10:20:30.814376Z"
    }
   },
   "outputs": [
    {
     "data": {
      "text/plain": [
       "array(['STANDING', 'SITTING', 'LAYING', 'WALKING', 'WALKING_DOWNSTAIRS',\n",
       "       'WALKING_UPSTAIRS'], dtype=object)"
      ]
     },
     "execution_count": 6,
     "metadata": {},
     "output_type": "execute_result"
    }
   ],
   "source": [
    "data.Activity.unique()"
   ]
  },
  {
   "cell_type": "code",
   "execution_count": 7,
   "metadata": {
    "ExecuteTime": {
     "end_time": "2021-06-22T10:20:32.294433Z",
     "start_time": "2021-06-22T10:20:32.270171Z"
    }
   },
   "outputs": [],
   "source": [
    "data.replace(['SITTING'],1,inplace=True)\n",
    "# for the sake of simplification, we convert the task to a binary classification problem\n",
    "data.replace(['WALKING_UPSTAIRS','STANDING', 'WALKING', 'LAYING','WALKING_DOWNSTAIRS'],0,inplace=True)"
   ]
  },
  {
   "cell_type": "code",
   "execution_count": 8,
   "metadata": {
    "ExecuteTime": {
     "end_time": "2021-06-22T10:20:37.814551Z",
     "start_time": "2021-06-22T10:20:37.803540Z"
    }
   },
   "outputs": [],
   "source": [
    "subject_array = data.subject.unique() # identitifier of 21 individual "
   ]
  },
  {
   "cell_type": "code",
   "execution_count": 9,
   "metadata": {
    "ExecuteTime": {
     "end_time": "2021-06-22T10:20:38.576401Z",
     "start_time": "2021-06-22T10:20:38.562838Z"
    }
   },
   "outputs": [
    {
     "name": "stdout",
     "output_type": "stream",
     "text": [
      "num of tasks: 21\n"
     ]
    }
   ],
   "source": [
    "num_tasks = len(subject_array)\n",
    "print('num of tasks:',num_tasks)"
   ]
  },
  {
   "cell_type": "markdown",
   "metadata": {},
   "source": [
    "## define models, optimizers, penalties"
   ]
  },
  {
   "cell_type": "code",
   "execution_count": 12,
   "metadata": {
    "ExecuteTime": {
     "end_time": "2021-06-22T10:20:48.008969Z",
     "start_time": "2021-06-22T10:20:47.982873Z"
    }
   },
   "outputs": [],
   "source": [
    "import torch\n",
    "import abc\n",
    "import torch.nn.functional as F\n",
    "\n",
    "from abc import ABC\n",
    "\n",
    "\n",
    "# The linear model which implemented by pytorch\n",
    "class TorchLogModel(torch.nn.Module):\n",
    "    def __init__(self, n):\n",
    "        super(TorchLogModel, self).__init__()\n",
    "        self.linear = torch.nn.Linear(n, 1, bias=False)\n",
    "\n",
    "    def forward(self, x):\n",
    "        y_pred = torch.sigmoid(self.linear(x))\n",
    "        return y_pred\n",
    "    \n",
    "    \n",
    "# The abstract optimizer model which should have model, optimizer, and criterion\n",
    "class Optimizer(ABC):\n",
    "    def __init__(self, model, optimizer, criterion):\n",
    "        self.model = model\n",
    "        self.optimizer = optimizer\n",
    "        self.criterion = criterion\n",
    "\n",
    "    @abc.abstractmethod\n",
    "    def optimize(self, x_data, y_data, old_weight, regularizer_term):\n",
    "        torch_old_weight = torch.from_numpy(np.array(old_weight, dtype=np.float32))\n",
    "        self.model.linear.weight.data = torch_old_weight\n",
    "        for iterinner in range(5):\n",
    "            self.optimizer.zero_grad()\n",
    "            y_pred = self.model(x_data)\n",
    "            loss1 = self.criterion(y_pred, y_data)\n",
    "            loss2 = 1 / (2 * regularizer_term) * torch.mean((self.model.linear.weight - torch_old_weight) ** 2) \n",
    "            loss = loss1 + loss2\n",
    "            loss.backward()\n",
    "            self.optimizer.step()\n",
    "\n",
    "        return self.model.linear.weight.data.numpy()\n",
    "    \n",
    "    \n",
    "# The Linear optimizer model which implemented by pytorch    \n",
    "class TorchLogOptimizer(Optimizer):\n",
    "    def __init__(self, model):\n",
    "        criterion = torch.nn.BCELoss(reduction='mean')\n",
    "        optimizer = torch.optim.Adam(model.parameters())\n",
    "        super(TorchLogOptimizer, self).__init__(model, optimizer, criterion)\n",
    "\n",
    "    def optimize(self, x_data, y_data, old_weight, regularizer_term):\n",
    "        torch_old_weight = torch.from_numpy(np.array(old_weight, dtype=np.float32))\n",
    "        self.model.linear.weight.data = torch_old_weight\n",
    "        for iterinner in range(5):\n",
    "            self.optimizer.zero_grad()\n",
    "            y_pred = self.model(x_data)\n",
    "            loss1 = self.criterion(y_pred, y_data)\n",
    "            loss2 = 1 / (2 * regularizer_term) * torch.mean((self.model.linear.weight - torch_old_weight) ** 2) \n",
    "            loss = loss1 + loss2\n",
    "            loss.backward()\n",
    "            self.optimizer.step()\n",
    "\n",
    "        return self.model.linear.weight.data.numpy()"
   ]
  },
  {
   "cell_type": "code",
   "execution_count": 13,
   "metadata": {
    "ExecuteTime": {
     "end_time": "2021-06-22T10:20:48.986482Z",
     "start_time": "2021-06-22T10:20:48.954024Z"
    }
   },
   "outputs": [],
   "source": [
    "# The abstract penalty function which has a function update\n",
    "class Penalty(ABC):\n",
    "    def __init__(self, lambda_lasso, weight_vec, Sigma, n):\n",
    "        self.lambda_lasso = lambda_lasso\n",
    "        self.weight_vec = weight_vec\n",
    "        self.Sigma = Sigma\n",
    "\n",
    "    @abc.abstractmethod\n",
    "    def update(self, new_u):\n",
    "        pass\n",
    "\n",
    "\n",
    "# The norm2 penalty function\n",
    "class Norm2Pelanty(Penalty):\n",
    "    def __init__(self, lambda_lasso, weight_vec, Sigma, n):\n",
    "        super(Norm2Pelanty, self).__init__(lambda_lasso, weight_vec, Sigma, n)\n",
    "        self.limit = np.array(lambda_lasso * weight_vec)\n",
    "\n",
    "    def update(self, new_u):\n",
    "        normalized_u = np.where(np.linalg.norm(new_u, axis=1) >= self.limit)\n",
    "        new_u[normalized_u] = (new_u[normalized_u].T * self.limit[normalized_u] / np.linalg.norm(new_u[normalized_u], axis=1)).T\n",
    "        return new_u\n",
    "\n",
    "\n",
    "# The MOCHA penalty function\n",
    "class MOCHAPelanty(Penalty):\n",
    "    def __init__(self, lambda_lasso, weight_vec, Sigma, n):\n",
    "        super(MOCHAPelanty, self).__init__(lambda_lasso, weight_vec, Sigma, n)\n",
    "        self.normalize_factor = 1 + np.dot(2 * self.Sigma, 1/(self.lambda_lasso * self.weight_vec))\n",
    "\n",
    "    def update(self, new_u):\n",
    "        for i in range(new_u.shape[1]):\n",
    "            new_u[:, i] /= self.normalize_factor\n",
    "\n",
    "        return new_u\n",
    "\n",
    "    \n",
    "# The norm1 penalty function\n",
    "class Norm1Pelanty(Penalty):\n",
    "    def __init__(self, lambda_lasso, weight_vec, Sigma, n):\n",
    "        super(Norm1Pelanty, self).__init__(lambda_lasso, weight_vec, Sigma, n)\n",
    "        self.limit = np.array([np.zeros(n) for i in range(len(weight_vec))])\n",
    "        for i in range(n):\n",
    "            self.limit[:, i] = lambda_lasso * weight_vec\n",
    "\n",
    "    def update(self, new_u):\n",
    "        normalized_u = np.where(abs(new_u) >= self.limit)\n",
    "        new_u[normalized_u] = self.limit[normalized_u] * new_u[normalized_u] / abs(new_u[normalized_u])\n",
    "        return new_u\n"
   ]
  },
  {
   "cell_type": "code",
   "execution_count": 14,
   "metadata": {
    "ExecuteTime": {
     "end_time": "2021-06-22T10:20:50.301432Z",
     "start_time": "2021-06-22T10:20:50.285243Z"
    }
   },
   "outputs": [],
   "source": [
    "from torch.autograd import Variable\n",
    "from graspy.simulations import sbm\n",
    "\n",
    "\n",
    "def get_B_weight_vec(num_nodes,num_edges):\n",
    "    '''\n",
    "    :param num_nodes: number of nodes\n",
    "    :param num_edges: number of edges\n",
    "    \n",
    "    :return B: incidence matrix of the graph\n",
    "    :return weight_vec: a list containing the edges's weights of the graph\n",
    "    '''\n",
    "   \n",
    "    N = num_nodes\n",
    "    E = num_edges\n",
    "    '''\n",
    "    N: total number of nodes\n",
    "    E: total number of edges\n",
    "    '''\n",
    "        \n",
    "    # create B(adjacency matrix) and edges's weights vector(weight_vec) based on the graph G\n",
    "    B = np.zeros((E, N))\n",
    "    '''\n",
    "    B: incidence matrix of the graph with the shape of E*N\n",
    "    '''\n",
    "    weight_vec = np.zeros(E)\n",
    "    '''\n",
    "    weight_vec: a list containing the edges's weights of the graph with the shape of E\n",
    "    '''\n",
    "    \n",
    "    cnt = 0\n",
    "    for i in range(N):\n",
    "        for j in range(N):\n",
    "            if i >= j:\n",
    "                continue\n",
    "            B[cnt, i] = 1\n",
    "            B[cnt, j] = -1\n",
    "\n",
    "            weight_vec[cnt] = 0.01\n",
    "            cnt += 1\n",
    "    \n",
    "    return B, weight_vec"
   ]
  },
  {
   "cell_type": "code",
   "execution_count": 15,
   "metadata": {
    "ExecuteTime": {
     "end_time": "2021-06-22T10:20:51.474953Z",
     "start_time": "2021-06-22T10:20:51.442740Z"
    }
   },
   "outputs": [
    {
     "ename": "IndentationError",
     "evalue": "unexpected indent (<ipython-input-15-1feeb7ccb3f3>, line 6)",
     "output_type": "error",
     "traceback": [
      "\u001b[0;36m  File \u001b[0;32m\"<ipython-input-15-1feeb7ccb3f3>\"\u001b[0;36m, line \u001b[0;32m6\u001b[0m\n\u001b[0;31m    loss=0\u001b[0m\n\u001b[0m    ^\u001b[0m\n\u001b[0;31mIndentationError\u001b[0m\u001b[0;31m:\u001b[0m unexpected indent\n"
     ]
    }
   ],
   "source": [
    "def total_loss(datapoints,new_w,new_B,new_weight_vec):\n",
    "   '''\n",
    "   Total loss of the graph structure learning algorithm\n",
    "   '''\n",
    "    \n",
    "    loss=0\n",
    "    N = new_w.shape[0]\n",
    "    \n",
    "    for i in range(N):\n",
    "        y = datapoints[i]['label']\n",
    "        model = datapoints[i]['model']\n",
    "        model.linear.weight.data = torch.from_numpy(np.array(new_w[i], dtype=np.float32))\n",
    "#         print(model.linear.weight)\n",
    "#         print(new_w[i])\n",
    "        y_pred = model(datapoints[i]['features'])\n",
    "        criterion = torch.nn.MSELoss(reduction='mean')\n",
    "        \n",
    "        loss += criterion(y,y_pred)\n",
    "    loss = loss+np.dot(new_weight_vec,np.linalg.norm(new_B.dot(new_w),ord=1,axis=1))\n",
    "    return loss"
   ]
  },
  {
   "cell_type": "markdown",
   "metadata": {},
   "source": [
    "\n",
    "## Generate local datasets from the csv file\n",
    "\n",
    "\n",
    "To simulate the fact that the amount of training data is usually insufficient, we randomly selected 100 datapoints as training data for each local datatset.The left datapoints will be used for test."
   ]
  },
  {
   "cell_type": "code",
   "execution_count": 39,
   "metadata": {
    "ExecuteTime": {
     "end_time": "2021-06-22T10:31:49.149909Z",
     "start_time": "2021-06-22T10:31:49.125908Z"
    }
   },
   "outputs": [],
   "source": [
    "from sklearn.preprocessing import MinMaxScaler\n",
    "def generate_datapoints(data):\n",
    "    '''\n",
    "    Input\n",
    "       data: dataframe storing all datasets\n",
    "    Output\n",
    "       datapoints: a dictionary containing the attributes for each node in the graph,\n",
    "       which are features, label, model, and also the optimizer for each node\n",
    "    '''\n",
    "    datapoints = {}\n",
    "    subject_array = data.subject.unique()\n",
    "    scaler = MinMaxScaler()\n",
    "    for i,subject in enumerate(subject_array):\n",
    "        temp = data[data.subject==subject]\n",
    "        temp = temp.sample(frac=1,replace=True).reset_index(drop=True) #shuffle the dataset\n",
    "        features = np.array(temp.drop(['subject','Activity'],axis=1))\n",
    "        features = scaler.fit_transform(features)\n",
    "#         print(len(features))\n",
    "        labels=np.array(temp.Activity)\n",
    "        n = features.shape[1]\n",
    "\n",
    "        model = TorchLogModel(n)\n",
    "        '''\n",
    "        model : the logistic model for the node i that is implemented by pytorch\n",
    "        '''\n",
    "        optimizer = TorchLogOptimizer(model)\n",
    "        '''\n",
    "        optimizer : the optimizer model for the node i that is implemented by pytorch with BCE loss function\n",
    "        '''\n",
    "\n",
    "        datapoints[i] = {\n",
    "            'features': Variable(torch.from_numpy(features[:100,:])).to(torch.float32),\n",
    "            'model': model,\n",
    "            'label': Variable(torch.from_numpy(labels[:100])).to(torch.float32),\n",
    "            'optimizer': optimizer,\n",
    "            \n",
    "            'features_val': Variable(torch.from_numpy(features[100:150,:])).to(torch.float32),\n",
    "            'label_val': Variable(torch.from_numpy(labels[100:150])).to(torch.float32),\n",
    "            'features_test': Variable(torch.from_numpy(features[150:,:])).to(torch.float32),\n",
    "            'label_test': Variable(torch.from_numpy(labels[150:])).to(torch.float32)\n",
    "        }\n",
    "    return datapoints"
   ]
  },
  {
   "cell_type": "code",
   "execution_count": 40,
   "metadata": {
    "ExecuteTime": {
     "end_time": "2021-06-22T10:31:50.497039Z",
     "start_time": "2021-06-22T10:31:50.289600Z"
    },
    "scrolled": true
   },
   "outputs": [
    {
     "data": {
      "text/plain": [
       "{'features': tensor([[0.7759, 0.4274, 0.2338,  ..., 0.0640, 0.8728, 0.7383],\n",
       "         [0.6281, 0.4089, 0.3529,  ..., 0.0312, 0.8416, 0.9055],\n",
       "         [0.5920, 0.3987, 0.3770,  ..., 0.1896, 0.9961, 0.9165],\n",
       "         ...,\n",
       "         [0.6060, 0.4263, 0.2402,  ..., 0.3874, 0.4906, 0.1158],\n",
       "         [0.5829, 0.4197, 0.3356,  ..., 0.9609, 0.0529, 0.1275],\n",
       "         [0.6463, 0.4877, 0.3634,  ..., 0.0326, 0.8443, 0.8947]]),\n",
       " 'model': TorchLogModel(\n",
       "   (linear): Linear(in_features=561, out_features=1, bias=False)\n",
       " ),\n",
       " 'label': tensor([0., 0., 0., 0., 0., 0., 0., 0., 0., 1., 0., 0., 0., 0., 1., 0., 1., 0.,\n",
       "         0., 0., 0., 1., 0., 0., 1., 0., 1., 0., 0., 0., 0., 0., 0., 0., 1., 0.,\n",
       "         0., 0., 0., 0., 0., 0., 0., 0., 0., 1., 1., 0., 0., 0., 0., 0., 1., 0.,\n",
       "         0., 0., 0., 0., 1., 1., 0., 0., 0., 0., 0., 0., 1., 0., 0., 0., 0., 0.,\n",
       "         0., 0., 0., 0., 1., 0., 0., 0., 0., 0., 1., 0., 0., 0., 1., 0., 1., 0.,\n",
       "         0., 1., 0., 0., 0., 0., 0., 1., 0., 0.]),\n",
       " 'optimizer': <__main__.TorchLogOptimizer at 0x7fb87b7f68d0>,\n",
       " 'features_val': tensor([[0.5754, 0.4685, 0.3031,  ..., 0.0846, 0.7742, 0.5205],\n",
       "         [0.5414, 0.3772, 0.2249,  ..., 0.3765, 0.5115, 0.0494],\n",
       "         [0.7314, 0.4684, 0.3728,  ..., 0.0218, 0.8308, 0.9036],\n",
       "         ...,\n",
       "         [0.5920, 0.4251, 0.2613,  ..., 0.0853, 0.7686, 0.5316],\n",
       "         [0.5104, 0.4228, 0.3737,  ..., 0.0271, 0.8406, 0.8726],\n",
       "         [0.8815, 0.4862, 0.4635,  ..., 0.0047, 0.8125, 0.8109]]),\n",
       " 'label_val': tensor([1., 1., 0., 0., 0., 0., 1., 0., 1., 0., 1., 0., 0., 0., 0., 0., 0., 0.,\n",
       "         0., 0., 0., 0., 0., 0., 0., 0., 0., 0., 0., 0., 0., 0., 0., 0., 0., 0.,\n",
       "         0., 0., 0., 1., 1., 0., 0., 0., 0., 1., 0., 1., 0., 0.]),\n",
       " 'features_test': tensor([[0.5349, 0.4010, 0.4620,  ..., 0.0085, 0.8082, 0.8028],\n",
       "         [0.5842, 0.4223, 0.3291,  ..., 0.9696, 0.0176, 0.2832],\n",
       "         [0.5787, 0.4151, 0.3470,  ..., 0.0551, 0.8546, 0.6781],\n",
       "         ...,\n",
       "         [0.6068, 0.4715, 0.1514,  ..., 0.1044, 0.8108, 0.3914],\n",
       "         [0.5496, 0.3821, 0.4558,  ..., 0.0552, 0.8522, 0.6665],\n",
       "         [0.8728, 0.5439, 0.7244,  ..., 0.0090, 0.8147, 0.8823]]),\n",
       " 'label_test': tensor([0., 0., 0., 0., 0., 0., 0., 0., 0., 1., 0., 0., 0., 0., 0., 0., 0., 1.,\n",
       "         0., 0., 0., 0., 0., 0., 0., 1., 0., 0., 0., 1., 0., 0., 0., 0., 1., 0.,\n",
       "         0., 0., 0., 0., 0., 0., 0., 0., 0., 0., 0., 0., 1., 0., 0., 1., 0., 0.,\n",
       "         0., 0., 1., 0., 0., 0., 0., 0., 0., 0., 1., 0., 0., 0., 0., 0., 0., 0.,\n",
       "         0., 0., 0., 0., 0., 0., 1., 0., 0., 0., 0., 0., 1., 1., 1., 1., 0., 0.,\n",
       "         0., 0., 0., 0., 0., 0., 1., 0., 0., 0., 0., 0., 0., 0., 0., 0., 0., 0.,\n",
       "         0., 0., 0., 0., 0., 0., 0., 1., 0., 0., 0., 1., 0., 0., 0., 0., 1., 0.,\n",
       "         0., 0., 0., 0., 1., 1., 1., 0., 0., 0., 0., 1., 0., 0., 0., 0., 0., 0.,\n",
       "         0., 0., 0., 0., 0., 0., 0., 0.])}"
      ]
     },
     "execution_count": 40,
     "metadata": {},
     "output_type": "execute_result"
    }
   ],
   "source": [
    "datapoints = generate_datapoints(data)\n",
    "datapoints[2]"
   ]
  },
  {
   "cell_type": "markdown",
   "metadata": {},
   "source": [
    "## Algorithms"
   ]
  },
  {
   "cell_type": "code",
   "execution_count": 20,
   "metadata": {
    "ExecuteTime": {
     "end_time": "2021-06-22T10:21:45.214796Z",
     "start_time": "2021-06-22T10:21:45.179648Z"
    }
   },
   "outputs": [],
   "source": [
    "def learn_graph_structure(K1,K2, graph,learning_rate, lambda_lasso=1, penalty_func_name='norm1', get_loss=False):\n",
    "    '''\n",
    "    The algorithm to learn datasets relationships.\n",
    "    Inputs\n",
    "        K1: out iteration numbers\n",
    "        K2: inner iteration numbers\n",
    "        graph: graph with node attributes setted up\n",
    "    Outputs:\n",
    "        new_weight_vec: updated dual variable\n",
    "        Loss: iteration loss\n",
    "    '''\n",
    "    num_nodes = len(graph.nodes)\n",
    "    num_edges = len(graph.edges)\n",
    "    B, weight_vec = get_B_weight_vec(num_nodes,num_edges)\n",
    "    Sigma = np.diag(np.full(weight_vec.shape, 0.9 / 2))\n",
    "    T_matrix = np.diag(np.array((1.0 / (np.sum(abs(B), 0)))).ravel())\n",
    "    '''\n",
    "    T_matrix: the block diagonal matrix T\n",
    "    '''\n",
    "\n",
    "    E, N = B.shape\n",
    "    '''\n",
    "    shape of the graph\n",
    "    '''\n",
    "    m, n = graph.nodes[1]['features'].shape\n",
    "    '''\n",
    "    shape of the feature vectors of each node in the graph\n",
    "    '''\n",
    "\n",
    "    new_w = np.array([np.zeros(n) for i in range(N)])\n",
    "    \n",
    "    new_u = np.array([np.zeros(n) for i in range(E)])\n",
    "    new_weight_vec = weight_vec\n",
    "    \n",
    "    \n",
    "    Loss = {}\n",
    "    iteration_scores = []\n",
    "    for j in range(K1):\n",
    "        \n",
    "        new_B = np.dot(np.diag(new_weight_vec),B)\n",
    "        T_matrix = np.diag(np.array((1 / (np.sum(abs(B), 0)))).ravel())\n",
    "        T = np.array((1 / (np.sum(abs(B), 0)))).ravel()\n",
    "        \n",
    "        \n",
    "        for iterk in range(K2):\n",
    "            # if iterk % 100 == 0:\n",
    "            #     print ('iter:', iterk)\n",
    "\n",
    "            prev_w = np.copy(new_w)\n",
    "\n",
    "            # line 2 algorithm 1\n",
    "            hat_w = new_w - np.dot(T_matrix, np.dot(new_B.T, new_u))\n",
    "\n",
    "\n",
    "            for i in range(N):\n",
    "                optimizer = graph.nodes[i]['optimizer']\n",
    "                new_w[i] = optimizer.optimize(graph.nodes[i]['features'],graph.nodes[i]['label'], hat_w[i],T[i])\n",
    "\n",
    "            tilde_w = 2 * new_w - prev_w\n",
    "            new_u = new_u + np.dot(Sigma, np.dot(new_B, tilde_w))\n",
    "\n",
    "            penalty_func = Norm1Pelanty(lambda_lasso, new_weight_vec, Sigma, n)\n",
    "            new_u = penalty_func.update(new_u)\n",
    "        new_weight_vec = new_weight_vec +learning_rate*np.linalg.norm(np.dot(B, new_w),ord=1,axis=1)\n",
    "        if get_loss==True:\n",
    "            Loss[j] = total_loss(graph.nodes,new_w,new_B,new_weight_vec)\n",
    "\n",
    "    return new_weight_vec,Loss"
   ]
  },
  {
   "cell_type": "code",
   "execution_count": 21,
   "metadata": {
    "ExecuteTime": {
     "end_time": "2021-06-22T10:21:46.412399Z",
     "start_time": "2021-06-22T10:21:46.378377Z"
    }
   },
   "outputs": [],
   "source": [
    "\n",
    "from sklearn.metrics import mean_squared_error\n",
    "\n",
    "\n",
    "def algorithm_1(K,graph,lambda_lasso, penalty_func_name='norm1', calculate_score=False):\n",
    "    '''\n",
    "    :param K: the number of iterations\n",
    "    :param D: the block incidence matrix\n",
    "    :param graph: a graph with node attributes setted up\n",
    "    :param lambda_lasso: the parameter lambda\n",
    "    :param penalty_func_name: the name of the penalty function used in the algorithm\n",
    "\n",
    "    :return iteration_scores: the mean squared error of the predicted weight vectors in each iteration\n",
    "    :return new_w: the predicted weigh vectors for each node\n",
    "    '''\n",
    "    num_nodes = len(graph.nodes)\n",
    "    num_edges = len(graph.edges)\n",
    "    D = np.zeros((num_edges,num_nodes))\n",
    "    for i,e in enumerate(graph.edges):\n",
    "        D[i,e[0]]=1\n",
    "        D[i,e[1]]=-1\n",
    "#     D, _ = get_B_weight_vec(num_nodes,num_edges)\n",
    "    weight_vec = np.array(list(nx.get_edge_attributes(graph,'weight').values()))\n",
    "    Sigma = np.diag(np.full(weight_vec.shape, 0.9 / 2))\n",
    "    '''\n",
    "    Sigma: the block diagonal matrix Sigma\n",
    "    '''\n",
    "    T_matrix = np.diag(np.array(1.0 / (np.sum(abs(D), 0))).ravel())\n",
    "      \n",
    "    '''\n",
    "    T_matrix: the block diagonal matrix T\n",
    "    '''\n",
    "    T = np.array(1.0 / (np.sum(abs(D), 0))).ravel()\n",
    "#     T = np.ones(num_nodes)*0.5\n",
    "\n",
    "#     T_matrix = np.eye(num_nodes)*0.5\n",
    "    E, N = D.shape\n",
    "    m, n = graph.nodes[0]['features'].shape\n",
    "\n",
    "    # define the penalty function\n",
    "    if penalty_func_name == 'norm1':\n",
    "        penalty_func = Norm1Pelanty(lambda_lasso, weight_vec, Sigma, n)\n",
    "\n",
    "    elif penalty_func_name == 'norm2':\n",
    "        penalty_func = Norm2Pelanty(lambda_lasso, weight_vec, Sigma, n)\n",
    "\n",
    "    elif penalty_func_name == 'mocha':\n",
    "        penalty_func = MOCHAPelanty(lambda_lasso, weight_vec, Sigma, n)\n",
    "\n",
    "    else:\n",
    "        raise Exception('Invalid penalty name')\n",
    "\n",
    "    # starting algorithm 1\n",
    "\n",
    "    new_w = np.array([np.zeros(n) for i in range(N)])\n",
    "    '''\n",
    "    new_w: the primal variable of the algorithm 1\n",
    "    '''\n",
    "    new_u = np.array([np.zeros(n) for i in range(E)])\n",
    "    '''\n",
    "    new_u: the dual variable of the algorithm 1\n",
    "    '''\n",
    "\n",
    "    iteration_scores = []\n",
    "    for iterk in range(K):\n",
    "        prev_w = np.copy(new_w)\n",
    "\n",
    "        hat_w = new_w - np.dot(T_matrix, np.dot(D.T, new_u))\n",
    "        for i in range(N):\n",
    "                optimizer = graph.nodes[i]['optimizer']\n",
    "#                 datapoints[i]['optimizer']\n",
    "                new_w[i] = optimizer.optimize(graph.nodes[i]['features'],\n",
    "                                              graph.nodes[i]['label'], \n",
    "                                              hat_w[i],T[i])\n",
    "\n",
    "        \n",
    "        tilde_w = 2 * new_w - prev_w\n",
    "        new_u = new_u + np.dot(Sigma, np.dot(D, tilde_w))\n",
    "\n",
    "        new_u = penalty_func.update(new_u)\n",
    "\n",
    "        # calculate the MSE of the predicted weight vectors\n",
    "        if calculate_score:\n",
    "            Y_pred = []\n",
    "            for i in range(N):\n",
    "                Y_pred.append(np.dot(graph.nodes[i]['features'], new_w[i]))\n",
    "\n",
    "            iteration_scores.append(mean_squared_error(true_labels.reshape(N, m), Y_pred))\n",
    "\n",
    "    # print (np.max(abs(new_w - prev_w)))\n",
    "\n",
    "    return iteration_scores, new_w"
   ]
  },
  {
   "cell_type": "markdown",
   "metadata": {},
   "source": [
    "## run experiments"
   ]
  },
  {
   "cell_type": "markdown",
   "metadata": {},
   "source": [
    "### datasets relationships\n",
    "#### learn relations via dual-ascent "
   ]
  },
  {
   "cell_type": "code",
   "execution_count": 45,
   "metadata": {
    "ExecuteTime": {
     "end_time": "2021-06-22T10:33:11.358135Z",
     "start_time": "2021-06-22T10:33:11.339718Z"
    }
   },
   "outputs": [],
   "source": [
    "g = nx.complete_graph(21)             # we assume a fully connected graph initially\n",
    "nx.set_node_attributes(g,datapoints)  # set up the graph with a dictionary datapoints generated from raw datsets"
   ]
  },
  {
   "cell_type": "code",
   "execution_count": 47,
   "metadata": {
    "ExecuteTime": {
     "end_time": "2021-06-22T10:35:08.152150Z",
     "start_time": "2021-06-22T10:33:34.292238Z"
    }
   },
   "outputs": [],
   "source": [
    "# Learn edge weights from datasets associated with nodes\n",
    "new_weight_vec,_ = learn_graph_structure(5,300,g,0.01,1)  "
   ]
  },
  {
   "cell_type": "code",
   "execution_count": 48,
   "metadata": {
    "ExecuteTime": {
     "end_time": "2021-06-22T10:35:09.284919Z",
     "start_time": "2021-06-22T10:35:09.101707Z"
    }
   },
   "outputs": [
    {
     "data": {
      "text/plain": [
       "[<matplotlib.lines.Line2D at 0x7fb88230bed0>]"
      ]
     },
     "execution_count": 48,
     "metadata": {},
     "output_type": "execute_result"
    },
    {
     "data": {
      "image/png": "[encoded data removed]",
      "text/plain": [
       "<Figure size 432x288 with 1 Axes>"
      ]
     },
     "metadata": {
      "needs_background": "light"
     },
     "output_type": "display_data"
    }
   ],
   "source": [
    "# Inverse of the learned dual variables as weights associated with graph edges\n",
    "learned_weight_vec = np.exp(-new_weight_vec/1) \n",
    "plt.plot(learned_weight_vec,'bo')  "
   ]
  },
  {
   "cell_type": "code",
   "execution_count": 49,
   "metadata": {
    "ExecuteTime": {
     "end_time": "2021-06-22T10:35:10.431170Z",
     "start_time": "2021-06-22T10:35:10.263112Z"
    },
    "scrolled": true
   },
   "outputs": [
    {
     "data": {
      "text/plain": [
       "[<matplotlib.lines.Line2D at 0x7fb87e599c50>]"
      ]
     },
     "execution_count": 49,
     "metadata": {},
     "output_type": "execute_result"
    },
    {
     "data": {
      "image/png": "[encoded data removed]",
      "text/plain": [
       "<Figure size 432x288 with 1 Axes>"
      ]
     },
     "metadata": {
      "needs_background": "light"
     },
     "output_type": "display_data"
    }
   ],
   "source": [
    "plt.plot(new_weight_vec,'bo')  "
   ]
  },
  {
   "cell_type": "markdown",
   "metadata": {},
   "source": [
    "<ul style=\"color:black;font-size:25px\">\n",
    "  <li>Should I threshold the learned edge weights? </li>\n",
    "  <br>  \n",
    "    \n",
    "  <li>After thresholding, some nodes will become isolated nodes, can we allow this?</li>\n",
    "</ul>"
   ]
  },
  {
   "cell_type": "code",
   "execution_count": null,
   "metadata": {
    "ExecuteTime": {
     "end_time": "2021-06-14T07:55:59.550189Z",
     "start_time": "2021-06-14T07:55:59.545596Z"
    }
   },
   "outputs": [],
   "source": [
    "thresh_weight_vec = np.exp(-new_weight_vec)\n",
    "thresh_weight_vec[thresh_weight_vec<0.4]=0"
   ]
  },
  {
   "cell_type": "code",
   "execution_count": null,
   "metadata": {
    "ExecuteTime": {
     "end_time": "2021-06-14T05:25:24.425894Z",
     "start_time": "2021-06-14T05:25:24.419978Z"
    },
    "scrolled": true
   },
   "outputs": [],
   "source": [
    "def generate_similarity_matrix(weight_vector):\n",
    "    '''\n",
    "    Generate similarity matrix from the learned weight vector\n",
    "    '''\n",
    "    \n",
    "    similarity_matrix = np.zeros((21,21))\n",
    "    cnt=0\n",
    "    for i in range(21):\n",
    "        similarity_matrix[i,i+1:]=weight_vector[cnt:cnt+20-i]\n",
    "        cnt+=20-i\n",
    "    return similarity_matrix+similarity_matrix.T\n",
    "    "
   ]
  },
  {
   "cell_type": "code",
   "execution_count": null,
   "metadata": {
    "ExecuteTime": {
     "end_time": "2021-06-14T07:56:01.797528Z",
     "start_time": "2021-06-14T07:56:01.793348Z"
    }
   },
   "outputs": [],
   "source": [
    "similarity_matrix =  generate_similarity_matrix(thresh_weight_vec)"
   ]
  },
  {
   "cell_type": "code",
   "execution_count": null,
   "metadata": {
    "ExecuteTime": {
     "end_time": "2021-06-14T05:23:36.010354Z",
     "start_time": "2021-06-14T05:23:35.231879Z"
    }
   },
   "outputs": [],
   "source": [
    "import seaborn as sns"
   ]
  },
  {
   "cell_type": "code",
   "execution_count": null,
   "metadata": {
    "ExecuteTime": {
     "end_time": "2021-06-14T07:22:17.755483Z",
     "start_time": "2021-06-14T07:22:17.748782Z"
    }
   },
   "outputs": [],
   "source": [
    "thresh_weight_vec.shape"
   ]
  },
  {
   "cell_type": "code",
   "execution_count": null,
   "metadata": {
    "ExecuteTime": {
     "end_time": "2021-06-14T17:05:03.866688Z",
     "start_time": "2021-06-14T17:05:03.501002Z"
    }
   },
   "outputs": [],
   "source": [
    "plt.plot(learned_weight_vec,'bo')"
   ]
  },
  {
   "cell_type": "code",
   "execution_count": null,
   "metadata": {
    "ExecuteTime": {
     "end_time": "2021-06-14T06:25:36.370116Z",
     "start_time": "2021-06-14T06:25:36.361749Z"
    }
   },
   "outputs": [],
   "source": [
    "np.sum(similarity_matrix,axis=0)"
   ]
  },
  {
   "cell_type": "code",
   "execution_count": null,
   "metadata": {
    "ExecuteTime": {
     "end_time": "2021-06-14T07:56:06.225911Z",
     "start_time": "2021-06-14T07:56:05.894190Z"
    }
   },
   "outputs": [],
   "source": [
    "sns.heatmap(similarity_matrix,annot=None)"
   ]
  },
  {
   "cell_type": "markdown",
   "metadata": {},
   "source": [
    "#### visulize dataset relations via T-sne"
   ]
  },
  {
   "cell_type": "code",
   "execution_count": null,
   "metadata": {
    "ExecuteTime": {
     "end_time": "2021-06-14T06:37:14.378763Z",
     "start_time": "2021-06-14T06:36:06.549955Z"
    }
   },
   "outputs": [],
   "source": [
    "features = data.drop(['subject','Activity'],axis=1)\n",
    "subject_temp = data.subject\n",
    "tsne = TSNE(2)\n",
    "feat_tsne = tsne.fit_transform (features) \n",
    "\n",
    "feat_tsne = pd.DataFrame(feat_tsne)\n",
    "feat_tsne[\"subject\"] = subject_temp\n",
    "print(feat_tsne.shape)"
   ]
  },
  {
   "cell_type": "code",
   "execution_count": null,
   "metadata": {
    "ExecuteTime": {
     "end_time": "2021-06-14T06:49:52.486785Z",
     "start_time": "2021-06-14T06:49:52.115961Z"
    }
   },
   "outputs": [],
   "source": [
    "figure = plt.figure(figsize=(12,12))\n",
    "for i,sub in enumerate(subject_array[[6,7,5]]):   \n",
    "    print(i)\n",
    "    plt.scatter(feat_tsne[feat_tsne[\"subject\"]==sub].iloc[:,0],\n",
    "                feat_tsne[feat_tsne[\"subject\"]==sub].iloc[:,1],\n",
    "               label=str(i)) \n",
    "    plt.legend()"
   ]
  },
  {
   "cell_type": "markdown",
   "metadata": {},
   "source": [
    "#### obtain relation via KNN"
   ]
  },
  {
   "cell_type": "code",
   "execution_count": null,
   "metadata": {
    "ExecuteTime": {
     "end_time": "2021-06-14T07:49:41.804685Z",
     "start_time": "2021-06-14T07:48:20.153250Z"
    }
   },
   "outputs": [],
   "source": [
    "accuracy = []\n",
    "for i in subject_array[0:]:\n",
    "    for j in subject_array[0:]:\n",
    "        if i>=j:\n",
    "            continue\n",
    "        knn = KNeighborsClassifier(5)\n",
    "        X = data[data.subject.isin([i,j])]\n",
    "#         print(i,j)\n",
    "        \n",
    "        knn.fit(X.iloc[:,:-2],X.iloc[:,-2])\n",
    "        score = knn.score(X.iloc[:,:-2],X.iloc[:,-2])\n",
    "        accuracy.append(score)\n",
    "accus = np.array(accuracy)"
   ]
  },
  {
   "cell_type": "code",
   "execution_count": null,
   "metadata": {
    "ExecuteTime": {
     "end_time": "2021-06-14T07:52:39.408634Z",
     "start_time": "2021-06-14T07:52:39.397623Z"
    }
   },
   "outputs": [],
   "source": [
    "learned_weight_vec = accus"
   ]
  },
  {
   "cell_type": "markdown",
   "metadata": {},
   "source": [
    "### learn tailored predictor for each local dataset\n"
   ]
  },
  {
   "cell_type": "code",
   "execution_count": 26,
   "metadata": {
    "ExecuteTime": {
     "end_time": "2021-06-22T10:24:07.617529Z",
     "start_time": "2021-06-22T10:24:07.602209Z"
    }
   },
   "outputs": [],
   "source": [
    "def update_graph_weight(g,weight_vector,sparse=True,threshold=None):\n",
    "    if sparse:\n",
    "        ind = np.argwhere(weight_vector<threshold)\n",
    "        weigh = {}\n",
    "    for i,e in enumerate(g.edges(data=False)):\n",
    "        if i in ind:\n",
    "            g.remove_edge(*e)\n",
    "            continue\n",
    "        else:\n",
    "            ran = np.random.rand(1)\n",
    "            if ran>0.5:\n",
    "                g.remove_edge(*e)\n",
    "                continue\n",
    "            weigh[e] = {'weight':weight_vector[i]}\n",
    "    nx.set_edge_attributes(g,weigh)\n",
    "    return g "
   ]
  },
  {
   "cell_type": "code",
   "execution_count": null,
   "metadata": {
    "ExecuteTime": {
     "end_time": "2021-06-16T04:24:10.757378Z",
     "start_time": "2021-06-16T04:24:10.668564Z"
    }
   },
   "outputs": [],
   "source": [
    "# Run the main algorithm to obtain hypothesis function weights for local datasets, \n",
    "# in this case, a tailored logistic regression model for each local dataset.\n"
   ]
  },
  {
   "cell_type": "code",
   "execution_count": 27,
   "metadata": {
    "ExecuteTime": {
     "end_time": "2021-06-22T10:24:10.783273Z",
     "start_time": "2021-06-22T10:24:10.767245Z"
    }
   },
   "outputs": [],
   "source": [
    "def sigmoid(z):\n",
    "    return 1/(1 + np.exp(-z))"
   ]
  },
  {
   "cell_type": "code",
   "execution_count": 28,
   "metadata": {
    "ExecuteTime": {
     "end_time": "2021-06-22T10:24:15.308798Z",
     "start_time": "2021-06-22T10:24:15.080033Z"
    },
    "scrolled": true
   },
   "outputs": [
    {
     "data": {
      "text/plain": [
       "[<matplotlib.lines.Line2D at 0x7fb87b7e4110>]"
      ]
     },
     "execution_count": 28,
     "metadata": {},
     "output_type": "execute_result"
    },
    {
     "data": {
      "image/png": "[encoded data removed]",
      "text/plain": [
       "<Figure size 432x288 with 1 Axes>"
      ]
     },
     "metadata": {
      "needs_background": "light"
     },
     "output_type": "display_data"
    }
   ],
   "source": [
    "plt.plot(learned_weight_vec,'go')"
   ]
  },
  {
   "cell_type": "code",
   "execution_count": 50,
   "metadata": {
    "ExecuteTime": {
     "end_time": "2021-06-22T10:35:42.028785Z",
     "start_time": "2021-06-22T10:35:42.015802Z"
    }
   },
   "outputs": [],
   "source": [
    "g = update_graph_weight(g,learned_weight_vec,sparse=True,threshold=0.42)"
   ]
  },
  {
   "cell_type": "code",
   "execution_count": 51,
   "metadata": {
    "ExecuteTime": {
     "end_time": "2021-06-22T10:38:40.829396Z",
     "start_time": "2021-06-22T10:35:49.000805Z"
    },
    "scrolled": true
   },
   "outputs": [
    {
     "name": "stdout",
     "output_type": "stream",
     "text": [
      "0.01\n",
      "accuracy on test sets: 0.990051921100478\n"
     ]
    }
   ],
   "source": [
    "# Calculate the averaged accuracy on test sets\n",
    "\n",
    "for lambd in [0.01]:\n",
    "    print(lambd)\n",
    "    _, new_w = algorithm_1(3000,g,lambd)\n",
    "    accus = []\n",
    "    for i in range(21):\n",
    "        y_pred=sigmoid(np.dot(g.nodes[i]['features_test'],new_w[i]))\n",
    "\n",
    "        y_pred = [1 if i>=0.5 else 0 for i in y_pred]\n",
    "\n",
    "        accu = 1-np.sum(abs(y_pred-g.nodes[i]['label_test'].numpy()))/len(y_pred)\n",
    "        accus.append(accu)\n",
    "    print('accuracy on test sets:', np.mean(accus))"
   ]
  },
  {
   "cell_type": "code",
   "execution_count": 52,
   "metadata": {
    "ExecuteTime": {
     "end_time": "2021-06-22T10:58:04.042581Z",
     "start_time": "2021-06-22T10:39:24.633897Z"
    },
    "scrolled": true
   },
   "outputs": [
    {
     "name": "stdout",
     "output_type": "stream",
     "text": [
      "0.001\n",
      "accuracy on val sets: 0.9800000000000001\n",
      "0.01\n",
      "accuracy on val sets: 0.9933333333333333\n",
      "0.1\n",
      "accuracy on val sets: 0.9723809523809527\n",
      "1\n",
      "accuracy on val sets: 0.9733333333333334\n",
      "5\n",
      "accuracy on val sets: 0.9733333333333334\n",
      "10\n",
      "accuracy on val sets: 0.9733333333333334\n"
     ]
    }
   ],
   "source": [
    "# Calculate the averaged accuracy on test sets\n",
    "\n",
    "for lambd in [0.001,0.01,0.1,1,5,10]:\n",
    "    print(lambd)\n",
    "    _, new_w = algorithm_1(3000,g,lambd)\n",
    "    accus = []\n",
    "    for i in range(21):\n",
    "        y_pred=sigmoid(np.dot(g.nodes[i]['features_val'],new_w[i]))\n",
    "\n",
    "        y_pred = [1 if i>=0.5 else 0 for i in y_pred]\n",
    "\n",
    "        accu = 1-np.sum(abs(y_pred-g.nodes[i]['label_val'].numpy()))/len(y_pred)\n",
    "        accus.append(accu)\n",
    "    print('accuracy on val sets:', np.mean(accus))"
   ]
  },
  {
   "cell_type": "markdown",
   "metadata": {},
   "source": [
    "## locally fitted logistic regression for each node seperately\n",
    "Local logistic regression models were fitted to each local dataset seperately to provide a baseline. Gridsearchs were executed to select the best hyper-parameters, for each model using 5-fold cross-validation. The averaged accuracy is around 97%. "
   ]
  },
  {
   "cell_type": "code",
   "execution_count": 32,
   "metadata": {
    "ExecuteTime": {
     "end_time": "2021-06-22T10:29:46.850236Z",
     "start_time": "2021-06-22T10:29:46.839468Z"
    }
   },
   "outputs": [],
   "source": [
    "from sklearn.linear_model import LogisticRegression\n",
    "from sklearn.model_selection import GridSearchCV"
   ]
  },
  {
   "cell_type": "code",
   "execution_count": 46,
   "metadata": {
    "ExecuteTime": {
     "end_time": "2021-06-22T10:33:26.610412Z",
     "start_time": "2021-06-22T10:33:14.744894Z"
    }
   },
   "outputs": [
    {
     "name": "stdout",
     "output_type": "stream",
     "text": [
      "mean accuracy on test sets: 0.9859225450679552\n",
      "mean accuracy on val sets: 0.9885714285714287\n"
     ]
    }
   ],
   "source": [
    "## Gridsearch for the best hyper-parameters for each local Logistic regression model\n",
    "## for each model using 5-fold cross-validation\n",
    "## Calculate accuracy on test sets\n",
    "accus_test = []\n",
    "accus_val = []\n",
    "for i in range(21):\n",
    "    grid={\"C\":np.logspace(-3,3,7), \"penalty\":[\"l1\",\"l2\"],\"solver\":['liblinear']}\n",
    "    \n",
    "    logreg=LogisticRegression()\n",
    "    logreg_cv=GridSearchCV(logreg,grid,cv=5)\n",
    "\n",
    "    X = torch.cat((datapoints[i]['features'],datapoints[i]['features_val']))\n",
    "    y = torch.cat((datapoints[i]['label'],datapoints[i]['label_val']))\n",
    "    best_clf =logreg_cv.fit(X,y)\n",
    "    accu_test = best_clf.score(g.nodes[i]['features_test'],g.nodes[i]['label_test'].squeeze())\n",
    "    accus_test.append(accu_test)\n",
    "    \n",
    "    accu_val = best_clf.best_score_\n",
    "    accus_val.append(accu_val)\n",
    "print('mean accuracy on test sets:',np.mean(accus_test))\n",
    "print('mean accuracy on val sets:',np.mean(accus_val))"
   ]
  },
  {
   "cell_type": "code",
   "execution_count": null,
   "metadata": {
    "ExecuteTime": {
     "start_time": "2021-06-22T09:35:32.912Z"
    }
   },
   "outputs": [],
   "source": [
    "## Gridsearch for the best hyper-parameters for each local Logistic regression model\n",
    "## for each model using 5-fold cross-validation\n",
    "## Calculate accuracy on test sets\n",
    "accus_test = []\n",
    "accus_val = []\n",
    "for i in range(21):\n",
    "    grid={\"C\":np.logspace(-3,3,7), \"penalty\":[\"l1\",\"l2\"],\"solver\":['liblinear']}\n",
    "    \n",
    "    logreg=LogisticRegression()\n",
    "    logreg_cv=GridSearchCV(logreg,grid,cv=3)\n",
    "\n",
    "    X = torch.cat((datapoints[i]['features'],datapoints[i]['features_val']))\n",
    "    y = torch.cat((datapoints[i]['label'],datapoints[i]['label_val']))\n",
    "    best_clf =logreg_cv.fit(X,y)\n",
    "    accu_test = best_clf.score(g.nodes[i]['features_test'],g.nodes[i]['label_test'].squeeze())\n",
    "    accus_test.append(accu_test)\n",
    "    \n",
    "    accu_val = best_clf.best_score_\n",
    "    accus_val.append(accu_val)\n",
    "print('mean accuracy on test sets:',np.mean(accus))\n",
    "print('mean accuracy on val sets:',np.mean(accus_val))"
   ]
  },
  {
   "cell_type": "code",
   "execution_count": null,
   "metadata": {
    "ExecuteTime": {
     "end_time": "2021-06-22T07:09:26.350877Z",
     "start_time": "2021-06-22T07:09:26.313322Z"
    }
   },
   "outputs": [],
   "source": [
    "data.head()"
   ]
  },
  {
   "cell_type": "code",
   "execution_count": null,
   "metadata": {},
   "outputs": [],
   "source": []
  }
 ],
 "metadata": {
  "kernelspec": {
   "display_name": "Python 3",
   "language": "python",
   "name": "python3"
  },
  "language_info": {
   "codemirror_mode": {
    "name": "ipython",
    "version": 3
   },
   "file_extension": ".py",
   "mimetype": "text/x-python",
   "name": "python",
   "nbconvert_exporter": "python",
   "pygments_lexer": "ipython3",
   "version": "3.7.6"
  },
  "latex_envs": {
   "LaTeX_envs_menu_present": true,
   "autoclose": false,
   "autocomplete": true,
   "bibliofile": "biblio.bib",
   "cite_by": "apalike",
   "current_citInitial": 1,
   "eqLabelWithNumbers": true,
   "eqNumInitial": 1,
   "hotkeys": {
    "equation": "Ctrl-E",
    "itemize": "Ctrl-I"
   },
   "labels_anchors": false,
   "latex_user_defs": false,
   "report_style_numbering": false,
   "user_envs_cfg": false
  },
  "toc": {
   "base_numbering": 1,
   "nav_menu": {},
   "number_sections": true,
   "sideBar": true,
   "skip_h1_title": false,
   "title_cell": "Table of Contents",
   "title_sidebar": "Contents",
   "toc_cell": false,
   "toc_position": {
    "height": "calc(100% - 180px)",
    "left": "10px",
    "top": "150px",
    "width": "316.4791564941406px"
   },
   "toc_section_display": true,
   "toc_window_display": true
  },
  "varInspector": {
   "cols": {
    "lenName": 16,
    "lenType": 16,
    "lenVar": 40
   },
   "kernels_config": {
    "python": {
     "delete_cmd_postfix": "",
     "delete_cmd_prefix": "del ",
     "library": "var_list.py",
     "varRefreshCmd": "print(var_dic_list())"
    },
    "r": {
     "delete_cmd_postfix": ") ",
     "delete_cmd_prefix": "rm(",
     "library": "var_list.r",
     "varRefreshCmd": "cat(var_dic_list()) "
    }
   },
   "types_to_exclude": [
    "module",
    "function",
    "builtin_function_or_method",
    "instance",
    "_Feature"
   ],
   "window_display": false
  }
 },
 "nbformat": 4,
 "nbformat_minor": 4
}
