{
 "cells": [
  {
   "cell_type": "code",
   "execution_count": 1,
   "metadata": {
    "ExecuteTime": {
     "end_time": "2021-11-29T10:48:36.177432Z",
     "start_time": "2021-11-29T10:48:35.877663Z"
    }
   },
   "outputs": [],
   "source": [
    "import numpy as np\n",
    "import datetime\n",
    "\n",
    "import matplotlib.pyplot as plt"
   ]
  },
  {
   "cell_type": "code",
   "execution_count": 2,
   "metadata": {
    "ExecuteTime": {
     "end_time": "2021-11-29T10:48:37.552373Z",
     "start_time": "2021-11-29T10:48:36.539774Z"
    }
   },
   "outputs": [],
   "source": [
    "from scipy.sparse import csr_matrix\n",
    "import matplotlib.pyplot as plt\n",
    "from seaborn import heatmap"
   ]
  },
  {
   "cell_type": "code",
   "execution_count": 3,
   "metadata": {
    "ExecuteTime": {
     "end_time": "2021-11-29T10:48:37.827775Z",
     "start_time": "2021-11-29T10:48:37.601107Z"
    }
   },
   "outputs": [],
   "source": [
    "from sklearn.cluster import KMeans\n",
    "from sklearn.cluster import spectral_clustering"
   ]
  },
  {
   "cell_type": "code",
   "execution_count": 4,
   "metadata": {
    "ExecuteTime": {
     "end_time": "2021-11-29T10:48:37.966905Z",
     "start_time": "2021-11-29T10:48:37.956875Z"
    }
   },
   "outputs": [],
   "source": [
    "def get_B_and_weight_vec(matrix,threshold):\n",
    "    N = matrix.shape[0]\n",
    "    A = matrix\n",
    "\n",
    "    row = []\n",
    "    col = []\n",
    "    data = []\n",
    "    weight_vec = []\n",
    "    cnt = 0\n",
    "    for i in range(N):\n",
    "        for j in range(N):\n",
    "            if j <= i:\n",
    "                continue\n",
    "            if A[i, j] < threshold:   \n",
    "                A[i, j] = 0\n",
    "                A[j, i] = 0\n",
    "                continue\n",
    "            row.append(cnt)\n",
    "            col.append(i)\n",
    "            data.append(1)\n",
    "\n",
    "            row.append(cnt)\n",
    "            col.append(j)\n",
    "            data.append(-1)\n",
    "            cnt += 1\n",
    "            weight_vec.append(A[i, j])\n",
    "\n",
    "    B = csr_matrix((data, (row, col)), shape=(cnt, N))\n",
    "    weight_vec = np.array(weight_vec)\n",
    "    return B, weight_vec"
   ]
  },
  {
   "cell_type": "code",
   "execution_count": 5,
   "metadata": {
    "ExecuteTime": {
     "end_time": "2021-11-29T10:48:38.917585Z",
     "start_time": "2021-11-29T10:48:38.897742Z"
    }
   },
   "outputs": [],
   "source": [
    "def algorithm(B, weight_vec,seeds, K=15000,alpha=0.01, lambda_nLasso=None, check_s=False):\n",
    "    E, N = B.shape\n",
    "#     weight_vec = np.ones(E)\n",
    "\n",
    "    Gamma_vec = np.array(1./(np.sum(abs(B), 0)))[0]  # \\in [0, 1]\n",
    "    Gamma = np.diag(Gamma_vec)\n",
    "\n",
    "    Sigma = 0.5\n",
    "    \n",
    "    \n",
    "    seednodesindicator= np.zeros(N)\n",
    "    seednodesindicator[seeds] = 1   \n",
    "    \n",
    "    noseednodeindicator = np.ones(N)\n",
    "    noseednodeindicator[seeds] = 0\n",
    "    \n",
    "    if lambda_nLasso == None:\n",
    "        lambda_nLasso = 2 / math.sqrt(np.sum(weight_vec))\n",
    "    \n",
    "    if check_s:\n",
    "        s = 0.0\n",
    "        for item in range(len(weight_vec)):\n",
    "            x = B[item].toarray()[0]\n",
    "            i = np.where(x == -1)[0][0]\n",
    "            j = np.where(x == 1)[0][0]\n",
    "            if i < N1 <= j:\n",
    "                s += weight_vec[item]\n",
    "            elif i >= N1 > j:\n",
    "                s += weight_vec[item]\n",
    "\n",
    "        if lambda_nLasso * s >= alpha * N2 / 2:\n",
    "            print ('eq(24)', lambda_nLasso * s, alpha * N2 / 2)\n",
    "    \n",
    "    fac_alpha = 1./(Gamma_vec*alpha+1)  # \\in [0, 1]\n",
    "\n",
    "    hatx = np.zeros(N)\n",
    "    newx = np.zeros(N)\n",
    "    prevx = np.zeros(N)\n",
    "    haty = np.array([x/(E-1) for x in range(0, E)])\n",
    "    history = []\n",
    "    for iterk in range(K):\n",
    "        # if 0 < np.max(abs(newx - prevx)) < 1e-4:\n",
    "        #     print(iterk)\n",
    "        #     break\n",
    "        tildex = 2 * hatx - prevx\n",
    "        newy = haty + Sigma * B.dot(tildex)  # chould be negative\n",
    "        haty = newy / np.maximum(abs(newy) / (lambda_nLasso * weight_vec), np.ones(E))  # could be negative\n",
    "\n",
    "        newx = hatx - Gamma_vec * B.T.dot(haty)  # could  be negative\n",
    "        newx[seeds] = (newx[seeds] + Gamma_vec[seeds]) / (1 + Gamma_vec[seeds])\n",
    "\n",
    "        newx = seednodesindicator * newx + noseednodeindicator * (newx * fac_alpha)\n",
    "        prevx = np.copy(hatx)\n",
    "        hatx = newx  # could be negative\n",
    "        history.append(newx)\n",
    "    \n",
    "    history = np.array(history)\n",
    "\n",
    "    return history\n",
    "    \n",
    "    "
   ]
  },
  {
   "cell_type": "markdown",
   "metadata": {},
   "source": [
    "# 10 nodes with Various boundary weight"
   ]
  },
  {
   "cell_type": "code",
   "execution_count": 799,
   "metadata": {
    "ExecuteTime": {
     "end_time": "2021-11-29T12:06:30.660550Z",
     "start_time": "2021-11-29T12:06:30.652595Z"
    }
   },
   "outputs": [],
   "source": [
    "# generate weights matrix\n",
    "weights_matrix_10 = np.zeros((10,10))\n",
    "for i in range(100):\n",
    "    for j in range(10):\n",
    "        if i == 3:\n",
    "            weights_matrix_10[i][4] = 0.5\n",
    "            weights_matrix_10[4][i] = 0.5\n",
    "            continue\n",
    "        if j == i+1:\n",
    "            weights_matrix_10[i][j] = 1\n",
    "            weights_matrix_10[j][i] = 1"
   ]
  },
  {
   "cell_type": "code",
   "execution_count": 800,
   "metadata": {
    "ExecuteTime": {
     "end_time": "2021-11-29T12:06:31.977503Z",
     "start_time": "2021-11-29T12:06:31.421851Z"
    }
   },
   "outputs": [
    {
     "data": {
      "text/plain": [
       "<matplotlib.axes._subplots.AxesSubplot at 0x7fedbc27a1d0>"
      ]
     },
     "execution_count": 800,
     "metadata": {},
     "output_type": "execute_result"
    },
    {
     "data": {
      "image/png": "[encoded data removed]",
      "text/plain": [
       "<Figure size 432x288 with 2 Axes>"
      ]
     },
     "metadata": {
      "needs_background": "light"
     },
     "output_type": "display_data"
    }
   ],
   "source": [
    "heatmap(weights_matrix_10, annot=True)"
   ]
  },
  {
   "cell_type": "code",
   "execution_count": 801,
   "metadata": {
    "ExecuteTime": {
     "end_time": "2021-11-29T12:06:32.154649Z",
     "start_time": "2021-11-29T12:06:32.142636Z"
    }
   },
   "outputs": [],
   "source": [
    "def run_chain_10(matrix,seeds,K=100, alpha=0.02,threshold = 0.000001, lambda_nLasso=0.1):\n",
    "\n",
    "    B, weight_vec = get_B_and_weight_vec(matrix,threshold = threshold)\n",
    "    print(weight_vec)\n",
    "    X = []\n",
    "    for s in seeds:\n",
    "        history = algorithm(B, weight_vec,seeds=s, K=K, alpha=alpha, lambda_nLasso=lambda_nLasso)\n",
    "        X.append(np.nan_to_num(history[-1]))\n",
    "    X = np.array(X)\n",
    "    start = datetime.datetime.now()\n",
    "    spectral_labels = spectral_clustering(matrix, n_clusters=2)\n",
    "    print ('spectral clustering time: ', datetime.datetime.now() - start)\n",
    "    return X, spectral_labels"
   ]
  },
  {
   "cell_type": "code",
   "execution_count": null,
   "metadata": {
    "ExecuteTime": {
     "end_time": "2021-11-29T12:03:45.946690Z",
     "start_time": "2021-11-29T12:03:45.939081Z"
    }
   },
   "outputs": [],
   "source": []
  },
  {
   "cell_type": "code",
   "execution_count": 802,
   "metadata": {
    "ExecuteTime": {
     "end_time": "2021-11-29T12:06:33.722201Z",
     "start_time": "2021-11-29T12:06:33.713827Z"
    },
    "scrolled": true
   },
   "outputs": [
    {
     "data": {
      "text/plain": [
       "array([[0.91743119, 0.91743119, 0.91743119, 0.91743119, 0.91743119,\n",
       "        0.91743119, 0.91743119, 0.91743119, 0.91743119, 0.91743119],\n",
       "       [0.71428564, 0.71428564, 0.71428564, 0.71428564, 0.71428564,\n",
       "        0.71428564, 0.71428564, 0.93137255, 0.93137255, 0.93137255],\n",
       "       [0.92281553, 0.92281553, 0.92281553, 0.92281553, 0.82499993,\n",
       "        0.82499993, 0.82499993, 0.82499993, 0.82499993, 0.82499993],\n",
       "       [0.62499993, 0.62499993, 0.62499993, 0.62499993, 0.62499993,\n",
       "        0.62499993, 0.62499993, 0.62499993, 0.94059406, 0.94059406],\n",
       "       [0.91743119, 0.91743119, 0.91743119, 0.91743119, 0.91743119,\n",
       "        0.91743119, 0.91743119, 0.91743119, 0.91743119, 0.91743119]])"
      ]
     },
     "execution_count": 802,
     "metadata": {},
     "output_type": "execute_result"
    }
   ],
   "source": [
    "X"
   ]
  },
  {
   "cell_type": "code",
   "execution_count": 811,
   "metadata": {
    "ExecuteTime": {
     "end_time": "2021-11-29T12:06:48.258451Z",
     "start_time": "2021-11-29T12:06:46.627139Z"
    }
   },
   "outputs": [
    {
     "name": "stdout",
     "output_type": "stream",
     "text": [
      "seeds, [5 6 1 7 2]\n",
      "[1.  1.  1.  0.5 1.  1.  1.  1.  1. ]\n",
      "spectral clustering time:  0:00:00.015396\n"
     ]
    }
   ],
   "source": [
    "seeds = np.random.choice(np.arange(1,9),5,replace=False)\n",
    "print(\"seeds,\",seeds)\n",
    "ALPHA = 0.01\n",
    "LAMBDA = 0.05\n",
    "X, spectral_labels = run_chain_10(weights_matrix_10,seeds=seeds,K=3000,\\\n",
    "                                         alpha=ALPHA,lambda_nLasso=LAMBDA)\n",
    "kmeans = KMeans(n_clusters=2, random_state=0).fit(X.T)"
   ]
  },
  {
   "cell_type": "code",
   "execution_count": 812,
   "metadata": {
    "ExecuteTime": {
     "end_time": "2021-11-29T12:06:48.555094Z",
     "start_time": "2021-11-29T12:06:48.365492Z"
    },
    "scrolled": true
   },
   "outputs": [
    {
     "data": {
      "text/plain": [
       "[<matplotlib.lines.Line2D at 0x7fedbc6ccc10>]"
      ]
     },
     "execution_count": 812,
     "metadata": {},
     "output_type": "execute_result"
    },
    {
     "data": {
      "image/png": "[encoded data removed]",
      "text/plain": [
       "<Figure size 432x288 with 1 Axes>"
      ]
     },
     "metadata": {
      "needs_background": "light"
     },
     "output_type": "display_data"
    }
   ],
   "source": [
    "plt.plot(kmeans.labels_,\"b*\")"
   ]
  },
  {
   "cell_type": "code",
   "execution_count": 813,
   "metadata": {
    "ExecuteTime": {
     "end_time": "2021-11-29T12:06:48.703165Z",
     "start_time": "2021-11-29T12:06:48.689743Z"
    }
   },
   "outputs": [
    {
     "data": {
      "text/plain": [
       "array([0, 0, 0, 0, 1, 1, 1, 1, 1, 1])"
      ]
     },
     "execution_count": 813,
     "metadata": {},
     "output_type": "execute_result"
    }
   ],
   "source": [
    "true_labels"
   ]
  },
  {
   "cell_type": "code",
   "execution_count": 798,
   "metadata": {
    "ExecuteTime": {
     "end_time": "2021-11-29T12:06:22.441127Z",
     "start_time": "2021-11-29T12:06:22.431718Z"
    }
   },
   "outputs": [
    {
     "name": "stdout",
     "output_type": "stream",
     "text": [
      "our method accuracy:  0.6\n",
      "spectral clustering accuracy:  0.9\n"
     ]
    }
   ],
   "source": [
    "true_labels =np.array([0 for i in range(4)]+[1 for i in range(6)])\n",
    "if kmeans.labels_[0] == 0:\n",
    "    print('our method accuracy: ', len(np.where(kmeans.labels_ == true_labels)[0])/len(true_labels))\n",
    "else:\n",
    "    print('our method accuracy: ', len(np.where(kmeans.labels_ == 1-true_labels)[0])/len(true_labels))\n",
    "\n",
    "if spectral_labels[0] == 0:\n",
    "    print('spectral clustering accuracy: ', len(np.where(spectral_labels == true_labels)[0])/len(true_labels))\n",
    "else:\n",
    "    print('spectral clustering accuracy: ', len(np.where(spectral_labels == 1-true_labels)[0])/len(true_labels))\n",
    "    "
   ]
  },
  {
   "cell_type": "code",
   "execution_count": 712,
   "metadata": {
    "ExecuteTime": {
     "end_time": "2021-11-29T12:03:18.820877Z",
     "start_time": "2021-11-29T12:03:18.816031Z"
    }
   },
   "outputs": [],
   "source": [
    "from scipy.sparse.csgraph import laplacian\n",
    "l=laplacian(weights_matrix_10)"
   ]
  },
  {
   "cell_type": "code",
   "execution_count": 696,
   "metadata": {
    "ExecuteTime": {
     "end_time": "2021-11-29T12:02:48.064741Z",
     "start_time": "2021-11-29T12:02:48.056597Z"
    }
   },
   "outputs": [
    {
     "name": "stdout",
     "output_type": "stream",
     "text": [
      "Fiedler vector: [ 0.44222566  0.39979621  0.31900823  0.20761292  0.06170762 -0.07552771\n",
      " -0.20551652 -0.31578699 -0.39575921 -0.43776021]\n"
     ]
    }
   ],
   "source": [
    "import scipy.linalg as la\n",
    "\n",
    "eig_values, eig_vectors = la.eig(l)\n",
    "fiedler_pos = np.where(eig_values.real == np.sort(eig_values.real)[1])[0][0]\n",
    "fiedler_vector = np.transpose(eig_vectors)[fiedler_pos]\n",
    "\n",
    "print(\"Fiedler vector: \" + str(fiedler_vector.real[0:10]))"
   ]
  },
  {
   "cell_type": "code",
   "execution_count": 697,
   "metadata": {
    "ExecuteTime": {
     "end_time": "2021-11-29T12:02:49.553241Z",
     "start_time": "2021-11-29T12:02:49.347980Z"
    },
    "scrolled": true
   },
   "outputs": [
    {
     "data": {
      "text/plain": [
       "<matplotlib.collections.LineCollection at 0x7fedb9feacd0>"
      ]
     },
     "execution_count": 697,
     "metadata": {},
     "output_type": "execute_result"
    },
    {
     "data": {
      "image/png": "[encoded data removed]",
      "text/plain": [
       "<Figure size 576x216 with 1 Axes>"
      ]
     },
     "metadata": {
      "needs_background": "light"
     },
     "output_type": "display_data"
    }
   ],
   "source": [
    "plt.figure(figsize=(8,3))\n",
    "plt.plot(fiedler_vector.real[0:20]*(-7),'yo')\n",
    "plt.plot(history[-1][:20],\"b*\")\n",
    "plt.hlines(0.5,-0.3,20,linestyles='dotted')"
   ]
  },
  {
   "cell_type": "markdown",
   "metadata": {},
   "source": [
    "# 100 nodes various boundary weight"
   ]
  },
  {
   "cell_type": "code",
   "execution_count": 814,
   "metadata": {
    "ExecuteTime": {
     "end_time": "2021-11-29T14:20:46.574746Z",
     "start_time": "2021-11-29T14:20:46.550217Z"
    }
   },
   "outputs": [],
   "source": [
    "# generate weights matrix\n",
    "weights_matrix_100 = np.zeros((100,100))\n",
    "for i in range(100):\n",
    "    for j in range(100):\n",
    "        if i == 3:\n",
    "            weights_matrix_100[i][4] = 0.7\n",
    "            weights_matrix_100[4][i] = 0.7\n",
    "            continue\n",
    "        if j == i+1:\n",
    "            weights_matrix_100[i][j] = 1\n",
    "            weights_matrix_100[j][i] = 1"
   ]
  },
  {
   "cell_type": "code",
   "execution_count": 815,
   "metadata": {
    "ExecuteTime": {
     "end_time": "2021-11-29T14:20:47.772798Z",
     "start_time": "2021-11-29T14:20:47.183277Z"
    }
   },
   "outputs": [
    {
     "data": {
      "text/plain": [
       "<matplotlib.axes._subplots.AxesSubplot at 0x7fedbc7a1450>"
      ]
     },
     "execution_count": 815,
     "metadata": {},
     "output_type": "execute_result"
    },
    {
     "data": {
      "image/png": "[encoded data removed]",
      "text/plain": [
       "<Figure size 432x288 with 2 Axes>"
      ]
     },
     "metadata": {
      "needs_background": "light"
     },
     "output_type": "display_data"
    }
   ],
   "source": [
    "heatmap(weights_matrix_100[:10,:10],annot=True)"
   ]
  },
  {
   "cell_type": "code",
   "execution_count": 816,
   "metadata": {
    "ExecuteTime": {
     "end_time": "2021-11-29T14:20:48.019006Z",
     "start_time": "2021-11-29T14:20:48.002177Z"
    }
   },
   "outputs": [],
   "source": [
    "def run_chain_100(matrix,seeds, K=30,threshold=0.00001, alpha=0.01, lambda_nLasso=LAMBDA):\n",
    "    B, weight_vec = get_B_and_weight_vec(matrix,threshold=threshold)\n",
    "    \n",
    "    start = datetime.datetime.now()\n",
    "    X = []\n",
    "    for s in seeds:\n",
    "        print(s)\n",
    "        \n",
    "        history = algorithm(B, weight_vec,seeds=s, K=K, alpha=alpha, lambda_nLasso=lambda_nLasso)\n",
    "        X.append(np.nan_to_num(history[-1]))\n",
    "    X = np.array(X)\n",
    "#     print('our method time: ', datetime.datetime.now() - start)\n",
    "    \n",
    "    start = datetime.datetime.now()\n",
    "    spectral_labels = spectral_clustering(matrix, n_clusters=2)\n",
    "    print ('spectral clustering time: ', datetime.datetime.now() - start)\n",
    "    \n",
    "    return X, spectral_labels"
   ]
  },
  {
   "cell_type": "code",
   "execution_count": 817,
   "metadata": {
    "ExecuteTime": {
     "end_time": "2021-11-29T14:20:48.642665Z",
     "start_time": "2021-11-29T14:20:48.631740Z"
    },
    "scrolled": false
   },
   "outputs": [
    {
     "data": {
      "text/plain": [
       "array([ 0, 86, 63, 59, 29, 72, 73, 31, 84, 62, 95, 68,  7, 36,  8, 58, 97,\n",
       "       24, 44, 79, 80, 45, 53, 69, 77, 90, 10, 48, 14, 43])"
      ]
     },
     "execution_count": 817,
     "metadata": {},
     "output_type": "execute_result"
    }
   ],
   "source": [
    "seeds = np.random.choice(100,30,replace=False)\n",
    "ALPHA = 0.005\n",
    "LAMBDA = 0.3\n",
    "seeds "
   ]
  },
  {
   "cell_type": "code",
   "execution_count": 818,
   "metadata": {
    "ExecuteTime": {
     "end_time": "2021-11-29T14:21:00.971200Z",
     "start_time": "2021-11-29T14:20:49.423217Z"
    }
   },
   "outputs": [
    {
     "name": "stdout",
     "output_type": "stream",
     "text": [
      "0\n",
      "86\n",
      "63\n",
      "59\n",
      "29\n",
      "72\n",
      "73\n",
      "31\n",
      "84\n",
      "62\n",
      "95\n",
      "68\n",
      "7\n",
      "36\n",
      "8\n",
      "58\n",
      "97\n",
      "24\n",
      "44\n",
      "79\n",
      "80\n",
      "45\n",
      "53\n",
      "69\n",
      "77\n",
      "90\n",
      "10\n",
      "48\n",
      "14\n",
      "43\n",
      "spectral clustering time:  0:00:00.077607\n"
     ]
    }
   ],
   "source": [
    "X, spectral_labels = run_chain_100(weights_matrix_100,seeds=seeds,K=3000,\\\n",
    "                                         alpha=ALPHA,lambda_nLasso=LAMBDA)\n",
    "kmeans = KMeans(n_clusters=2, random_state=0).fit(X.T)"
   ]
  },
  {
   "cell_type": "code",
   "execution_count": 458,
   "metadata": {
    "ExecuteTime": {
     "end_time": "2021-11-29T11:46:23.189106Z",
     "start_time": "2021-11-29T11:46:22.873334Z"
    },
    "scrolled": false
   },
   "outputs": [
    {
     "data": {
      "text/plain": [
       "[<matplotlib.lines.Line2D at 0x7fedb5936210>]"
      ]
     },
     "execution_count": 458,
     "metadata": {},
     "output_type": "execute_result"
    },
    {
     "data": {
      "image/png": "[encoded data removed]",
      "text/plain": [
       "<Figure size 432x288 with 1 Axes>"
      ]
     },
     "metadata": {
      "needs_background": "light"
     },
     "output_type": "display_data"
    }
   ],
   "source": [
    "plt.plot(kmeans.labels_,\"b*\")"
   ]
  },
  {
   "cell_type": "code",
   "execution_count": 459,
   "metadata": {
    "ExecuteTime": {
     "end_time": "2021-11-29T11:46:23.339117Z",
     "start_time": "2021-11-29T11:46:23.324500Z"
    }
   },
   "outputs": [
    {
     "name": "stdout",
     "output_type": "stream",
     "text": [
      "our method accuracy:  1.0\n",
      "spectral clustering accuracy:  0.54\n"
     ]
    }
   ],
   "source": [
    "true_labels =np.array([0 for i in range(4)]+[1 for i in range(96)])\n",
    "if kmeans.labels_[0] == 0:\n",
    "    print('our method accuracy: ', len(np.where(kmeans.labels_ == true_labels)[0])/len(true_labels))\n",
    "else:\n",
    "    print('our method accuracy: ', len(np.where(kmeans.labels_ == 1-true_labels)[0])/len(true_labels))\n",
    "\n",
    "if spectral_labels[0] == 0:\n",
    "    print('spectral clustering accuracy: ', len(np.where(spectral_labels == true_labels)[0])/len(true_labels))\n",
    "else:\n",
    "    print('spectral clustering accuracy: ', len(np.where(spectral_labels == 1-true_labels)[0])/len(true_labels))\n",
    "    "
   ]
  },
  {
   "cell_type": "code",
   "execution_count": 460,
   "metadata": {
    "ExecuteTime": {
     "end_time": "2021-11-29T11:46:23.462816Z",
     "start_time": "2021-11-29T11:46:23.455687Z"
    }
   },
   "outputs": [],
   "source": [
    "from scipy.sparse.csgraph import laplacian\n",
    "l=laplacian(weights_matrix_100)"
   ]
  },
  {
   "cell_type": "code",
   "execution_count": 461,
   "metadata": {
    "ExecuteTime": {
     "end_time": "2021-11-29T11:46:23.617444Z",
     "start_time": "2021-11-29T11:46:23.594895Z"
    }
   },
   "outputs": [
    {
     "name": "stdout",
     "output_type": "stream",
     "text": [
      "Fiedler vector: [0.14146162 0.14132202 0.14104296 0.14062471 0.14000579 0.1393106\n",
      " 0.13847793 0.13750861 0.13640358 0.13516395]\n"
     ]
    }
   ],
   "source": [
    "import scipy.linalg as la\n",
    "\n",
    "eig_values, eig_vectors = la.eig(l)\n",
    "fiedler_pos = np.where(eig_values.real == np.sort(eig_values.real)[1])[0][0]\n",
    "fiedler_vector = np.transpose(eig_vectors)[fiedler_pos]\n",
    "\n",
    "print(\"Fiedler vector: \" + str(fiedler_vector.real[0:10]))"
   ]
  },
  {
   "cell_type": "code",
   "execution_count": 207,
   "metadata": {
    "ExecuteTime": {
     "end_time": "2021-11-29T11:14:02.338488Z",
     "start_time": "2021-11-29T11:14:02.130710Z"
    },
    "scrolled": false
   },
   "outputs": [
    {
     "data": {
      "text/plain": [
       "<matplotlib.collections.LineCollection at 0x7fedcd4bd790>"
      ]
     },
     "execution_count": 207,
     "metadata": {},
     "output_type": "execute_result"
    },
    {
     "data": {
      "image/png": "[encoded data removed]",
      "text/plain": [
       "<Figure size 576x216 with 1 Axes>"
      ]
     },
     "metadata": {
      "needs_background": "light"
     },
     "output_type": "display_data"
    }
   ],
   "source": [
    "plt.figure(figsize=(8,3))\n",
    "plt.plot(fiedler_vector.real[0:40]*(-7),'yo')\n",
    "plt.plot(history[-1][:40],\"b*\")\n",
    "plt.hlines(0.5,-0.3,40,linestyles='dotted')"
   ]
  },
  {
   "cell_type": "markdown",
   "metadata": {},
   "source": [
    "# Chain Graph with 10 nodes"
   ]
  },
  {
   "cell_type": "code",
   "execution_count": 10,
   "metadata": {
    "ExecuteTime": {
     "end_time": "2021-11-29T08:57:54.708362Z",
     "start_time": "2021-11-29T08:57:54.700303Z"
    }
   },
   "outputs": [],
   "source": [
    "# generate weights matrix\n",
    "weights_matrix = np.zeros((20,20))\n",
    "for i in range(20):\n",
    "    for j in range(20):\n",
    "        if i == 4:\n",
    "            weights_matrix[i][5] = 0.9\n",
    "            weights_matrix[5][i] = 0.9\n",
    "            continue\n",
    "        if j == i+1:\n",
    "            weights_matrix[i][j] = 1\n",
    "            weights_matrix[j][i] = 1"
   ]
  },
  {
   "cell_type": "code",
   "execution_count": 11,
   "metadata": {
    "ExecuteTime": {
     "end_time": "2021-11-29T08:57:57.947089Z",
     "start_time": "2021-11-29T08:57:54.742902Z"
    }
   },
   "outputs": [
    {
     "data": {
      "text/plain": [
       "<matplotlib.axes._subplots.AxesSubplot at 0x7f9953a31890>"
      ]
     },
     "execution_count": 11,
     "metadata": {},
     "output_type": "execute_result"
    },
    {
     "data": {
      "image/png": "[encoded data removed]",
      "text/plain": [
       "<Figure size 432x288 with 2 Axes>"
      ]
     },
     "metadata": {
      "needs_background": "light"
     },
     "output_type": "display_data"
    }
   ],
   "source": [
    "# visulize the weights matrix\n",
    "heatmap(weights_matrix,annot=True)"
   ]
  },
  {
   "cell_type": "code",
   "execution_count": 12,
   "metadata": {
    "ExecuteTime": {
     "end_time": "2021-11-29T08:57:58.006791Z",
     "start_time": "2021-11-29T08:57:57.988423Z"
    }
   },
   "outputs": [],
   "source": [
    "def run_chain_10(matrix,seeds,K=100, alpha=0.02,threshold = 0.000001, lambda_nLasso=0.1):\n",
    "\n",
    "    B, weight_vec = get_B_and_weight_vec(matrix,threshold = threshold)\n",
    "    print(weight_vec)\n",
    "    \n",
    "    start = datetime.datetime.now()\n",
    "    history = algorithm(B, weight_vec, seeds,K=K, alpha=alpha, lambda_nLasso=lambda_nLasso)\n",
    "    print('our method time: ', datetime.datetime.now() - start)\n",
    "    \n",
    "    start = datetime.datetime.now()\n",
    "    spectral_labels = spectral_clustering(matrix, n_clusters=2)\n",
    "    print ('spectral clustering time: ', datetime.datetime.now() - start)\n",
    "    return history, spectral_labels"
   ]
  },
  {
   "cell_type": "code",
   "execution_count": 13,
   "metadata": {
    "ExecuteTime": {
     "end_time": "2021-11-29T08:57:58.075558Z",
     "start_time": "2021-11-29T08:57:58.068653Z"
    }
   },
   "outputs": [
    {
     "name": "stdout",
     "output_type": "stream",
     "text": [
      "seeds: [2 0]\n"
     ]
    }
   ],
   "source": [
    "seeds = np.random.choice([i for i in range(4)],2,replace=False)\n",
    "print(f\"seeds: {seeds}\")"
   ]
  },
  {
   "cell_type": "code",
   "execution_count": 14,
   "metadata": {
    "ExecuteTime": {
     "end_time": "2021-11-29T08:57:58.862761Z",
     "start_time": "2021-11-29T08:57:58.104974Z"
    },
    "scrolled": true
   },
   "outputs": [
    {
     "name": "stdout",
     "output_type": "stream",
     "text": [
      "[1.  1.  1.  1.  0.9 1.  1.  1.  1.  1.  1.  1.  1.  1.  1.  1.  1.  1.\n",
      " 1. ]\n",
      "our method time:  0:00:00.479504\n",
      "spectral clustering time:  0:00:00.250445\n"
     ]
    }
   ],
   "source": [
    "ALPHA = 0.01\n",
    "LAMBDA = 0.05\n",
    "history, spectral_labels = run_chain_10(weights_matrix,seeds=seeds,K=3000,alpha=ALPHA,lambda_nLasso=LAMBDA)\n",
    "kmeans = KMeans(n_clusters=2, random_state=0).fit(history[-1].reshape(len(history[-1]), 1))"
   ]
  },
  {
   "cell_type": "code",
   "execution_count": 15,
   "metadata": {
    "ExecuteTime": {
     "end_time": "2021-11-29T08:57:59.371296Z",
     "start_time": "2021-11-29T08:57:58.914975Z"
    }
   },
   "outputs": [
    {
     "data": {
      "text/plain": [
       "<matplotlib.legend.Legend at 0x7f99548c3e50>"
      ]
     },
     "execution_count": 15,
     "metadata": {},
     "output_type": "execute_result"
    },
    {
     "data": {
      "image/png": "[encoded data removed]",
      "text/plain": [
       "<Figure size 432x288 with 1 Axes>"
      ]
     },
     "metadata": {
      "needs_background": "light"
     },
     "output_type": "display_data"
    }
   ],
   "source": [
    "plt.scatter(np.arange(20),history[-1])\n",
    "plt.scatter(seeds,history[-1][seeds],label='seeds')\n",
    "plt.legend()"
   ]
  },
  {
   "cell_type": "code",
   "execution_count": 16,
   "metadata": {
    "ExecuteTime": {
     "end_time": "2021-11-29T08:57:59.446788Z",
     "start_time": "2021-11-29T08:57:59.438895Z"
    },
    "scrolled": false
   },
   "outputs": [
    {
     "name": "stdout",
     "output_type": "stream",
     "text": [
      "[0 0 0 0 0 0 0 0 0 0 1 1 1 1 1 1 1 1 1 1]\n"
     ]
    }
   ],
   "source": [
    "print(spectral_labels)"
   ]
  },
  {
   "cell_type": "code",
   "execution_count": 17,
   "metadata": {
    "ExecuteTime": {
     "end_time": "2021-11-29T08:57:59.507036Z",
     "start_time": "2021-11-29T08:57:59.502279Z"
    },
    "scrolled": true
   },
   "outputs": [
    {
     "name": "stdout",
     "output_type": "stream",
     "text": [
      "[1 1 1 0 0 0 0 0 0 0 0 0 0 0 0 0 0 0 0 0]\n"
     ]
    }
   ],
   "source": [
    "print(kmeans.labels_)"
   ]
  },
  {
   "cell_type": "code",
   "execution_count": 18,
   "metadata": {
    "ExecuteTime": {
     "end_time": "2021-11-29T08:57:59.933501Z",
     "start_time": "2021-11-29T08:57:59.590540Z"
    }
   },
   "outputs": [
    {
     "ename": "NameError",
     "evalue": "name 'true_labels' is not defined",
     "output_type": "error",
     "traceback": [
      "\u001b[0;31m---------------------------------------------------------------------------\u001b[0m",
      "\u001b[0;31mNameError\u001b[0m                                 Traceback (most recent call last)",
      "\u001b[0;32m<ipython-input-18-3b986b676951>\u001b[0m in \u001b[0;36m<module>\u001b[0;34m\u001b[0m\n\u001b[0;32m----> 1\u001b[0;31m \u001b[0mprint\u001b[0m\u001b[0;34m(\u001b[0m\u001b[0;34mf\"true labels: {1-true_labels}\"\u001b[0m\u001b[0;34m)\u001b[0m\u001b[0;34m\u001b[0m\u001b[0;34m\u001b[0m\u001b[0m\n\u001b[0m",
      "\u001b[0;31mNameError\u001b[0m: name 'true_labels' is not defined"
     ]
    }
   ],
   "source": [
    "print(f\"true labels: {1-true_labels}\")"
   ]
  },
  {
   "cell_type": "code",
   "execution_count": 176,
   "metadata": {
    "ExecuteTime": {
     "end_time": "2021-11-19T17:09:06.485925Z",
     "start_time": "2021-11-19T17:09:06.470016Z"
    }
   },
   "outputs": [
    {
     "ename": "ValueError",
     "evalue": "operands could not be broadcast together with shapes (20,) (15,) ",
     "output_type": "error",
     "traceback": [
      "\u001b[0;31m---------------------------------------------------------------------------\u001b[0m",
      "\u001b[0;31mValueError\u001b[0m                                Traceback (most recent call last)",
      "\u001b[0;32m<ipython-input-176-b4e9ca6467aa>\u001b[0m in \u001b[0;36m<module>\u001b[0;34m\u001b[0m\n\u001b[0;32m----> 1\u001b[0;31m \u001b[0mkmeans\u001b[0m\u001b[0;34m.\u001b[0m\u001b[0mlabels_\u001b[0m \u001b[0;34m-\u001b[0m\u001b[0;34m(\u001b[0m \u001b[0;36m1\u001b[0m\u001b[0;34m-\u001b[0m\u001b[0mtrue_labels\u001b[0m\u001b[0;34m)\u001b[0m\u001b[0;34m==\u001b[0m\u001b[0;36m0\u001b[0m\u001b[0;34m\u001b[0m\u001b[0;34m\u001b[0m\u001b[0m\n\u001b[0m",
      "\u001b[0;31mValueError\u001b[0m: operands could not be broadcast together with shapes (20,) (15,) "
     ]
    }
   ],
   "source": [
    "kmeans.labels_ -( 1-true_labels)==0"
   ]
  },
  {
   "cell_type": "code",
   "execution_count": 174,
   "metadata": {
    "ExecuteTime": {
     "end_time": "2021-11-19T17:07:49.325869Z",
     "start_time": "2021-11-19T17:07:49.316948Z"
    },
    "scrolled": true
   },
   "outputs": [
    {
     "name": "stderr",
     "output_type": "stream",
     "text": [
      "/opt/anaconda3/lib/python3.7/site-packages/ipykernel_launcher.py:1: DeprecationWarning: elementwise comparison failed; this will raise an error in the future.\n",
      "  \"\"\"Entry point for launching an IPython kernel.\n"
     ]
    },
    {
     "data": {
      "text/plain": [
       "array([], dtype=int64)"
      ]
     },
     "execution_count": 174,
     "metadata": {},
     "output_type": "execute_result"
    }
   ],
   "source": [
    "np.where(kmeans.labels_ == 1-true_labels)[0]"
   ]
  },
  {
   "cell_type": "code",
   "execution_count": 171,
   "metadata": {
    "ExecuteTime": {
     "end_time": "2021-11-19T17:07:04.285471Z",
     "start_time": "2021-11-19T17:07:04.271127Z"
    }
   },
   "outputs": [
    {
     "name": "stdout",
     "output_type": "stream",
     "text": [
      "our method accuracy:  0.0\n",
      "spectral clustering accuracy:  0.0\n"
     ]
    },
    {
     "name": "stderr",
     "output_type": "stream",
     "text": [
      "/opt/anaconda3/lib/python3.7/site-packages/ipykernel_launcher.py:5: DeprecationWarning: elementwise comparison failed; this will raise an error in the future.\n",
      "  \"\"\"\n",
      "/opt/anaconda3/lib/python3.7/site-packages/ipykernel_launcher.py:10: DeprecationWarning: elementwise comparison failed; this will raise an error in the future.\n",
      "  # Remove the CWD from sys.path while we load stuff.\n"
     ]
    }
   ],
   "source": [
    "true_labels =np.array([0]*4+[1]*11)\n",
    "if kmeans.labels_[0] == 0:\n",
    "    print('our method accuracy: ', len(np.where(kmeans.labels_ == true_labels)[0])/len(true_labels))\n",
    "else:\n",
    "    print('our method accuracy: ', len(np.where(kmeans.labels_ == 1-true_labels)[0])/len(true_labels))\n",
    "\n",
    "if spectral_labels[0] == 0:\n",
    "    print('spectral clustering accuracy: ', len(np.where(spectral_labels == true_labels)[0])/len(true_labels))\n",
    "else:\n",
    "    print('spectral clustering accuracy: ', len(np.where(spectral_labels == 1-true_labels)[0])/len(true_labels))\n",
    "    "
   ]
  },
  {
   "cell_type": "code",
   "execution_count": 163,
   "metadata": {
    "ExecuteTime": {
     "end_time": "2021-09-17T10:41:59.320760Z",
     "start_time": "2021-09-17T10:41:59.307573Z"
    }
   },
   "outputs": [
    {
     "data": {
      "text/plain": [
       "array([ 0.06668287,  0.0658864 ,  0.06353648,  0.05965749,  0.0542937 ,\n",
       "        0.0475145 ,  0.03942063,  0.03015031,  0.01988432,  0.00884884,\n",
       "       -0.00268482, -0.01440423, -0.02596399, -0.03699779, -0.04713382,\n",
       "       -0.05601264, -0.0633061 , -0.06873576, -0.07208937, -0.07323383])"
      ]
     },
     "execution_count": 163,
     "metadata": {},
     "output_type": "execute_result"
    }
   ],
   "source": [
    "history[-1]"
   ]
  },
  {
   "cell_type": "markdown",
   "metadata": {},
   "source": [
    "# Chain Graph 100"
   ]
  },
  {
   "cell_type": "code",
   "execution_count": 885,
   "metadata": {
    "ExecuteTime": {
     "end_time": "2021-11-29T14:23:59.931011Z",
     "start_time": "2021-11-29T14:23:59.921670Z"
    }
   },
   "outputs": [],
   "source": [
    "# generate weights matrix\n",
    "weights_matrix_100 = np.zeros((100,100))\n",
    "for i in range(100):\n",
    "    for j in range(100):\n",
    "        if i == 3:\n",
    "            weights_matrix_100[i][4] = 0.1\n",
    "            weights_matrix_100[4][i] = 0.1\n",
    "            continue\n",
    "        if j == i+1:\n",
    "            weights_matrix_100[i][j] = 1.25\n",
    "            weights_matrix_100[j][i] = 1.25"
   ]
  },
  {
   "cell_type": "code",
   "execution_count": 886,
   "metadata": {
    "ExecuteTime": {
     "end_time": "2021-11-29T14:24:01.152605Z",
     "start_time": "2021-11-29T14:24:00.565261Z"
    }
   },
   "outputs": [
    {
     "data": {
      "text/plain": [
       "<matplotlib.axes._subplots.AxesSubplot at 0x7fed9eafa950>"
      ]
     },
     "execution_count": 886,
     "metadata": {},
     "output_type": "execute_result"
    },
    {
     "data": {
      "image/png": "[encoded data removed]",
      "text/plain": [
       "<Figure size 432x288 with 2 Axes>"
      ]
     },
     "metadata": {
      "needs_background": "light"
     },
     "output_type": "display_data"
    }
   ],
   "source": [
    "heatmap(weights_matrix_100[:10,:10],annot=True)"
   ]
  },
  {
   "cell_type": "code",
   "execution_count": 887,
   "metadata": {
    "ExecuteTime": {
     "end_time": "2021-11-29T14:24:01.341546Z",
     "start_time": "2021-11-29T14:24:01.321734Z"
    }
   },
   "outputs": [],
   "source": [
    "def run_chain_100(matrix,seeds, K=30,threshold=0.00001, alpha=ALPHA, lambda_nLasso=LAMBDA):\n",
    "#     points = get_spirals(N1, N2)\n",
    "    B, weight_vec = get_B_and_weight_vec(matrix,threshold=threshold)\n",
    "    \n",
    "    start = datetime.datetime.now()\n",
    "    history = algorithm(B, weight_vec,seeds, K=K, alpha=alpha, lambda_nLasso=lambda_nLasso)\n",
    "    print('our method time: ', datetime.datetime.now() - start)\n",
    "    \n",
    "    start = datetime.datetime.now()\n",
    "    spectral_labels = spectral_clustering(matrix, n_clusters=2)\n",
    "    print ('spectral clustering time: ', datetime.datetime.now() - start)\n",
    "    \n",
    "    return history, spectral_labels"
   ]
  },
  {
   "cell_type": "code",
   "execution_count": 888,
   "metadata": {
    "ExecuteTime": {
     "end_time": "2021-11-29T14:24:01.457864Z",
     "start_time": "2021-11-29T14:24:01.453972Z"
    }
   },
   "outputs": [],
   "source": [
    "seeds = 0\n",
    "ALPHA = 0.005\n",
    "LAMBDA = 0.1"
   ]
  },
  {
   "cell_type": "code",
   "execution_count": 889,
   "metadata": {
    "ExecuteTime": {
     "end_time": "2021-11-29T14:24:01.871469Z",
     "start_time": "2021-11-29T14:24:01.579446Z"
    }
   },
   "outputs": [
    {
     "name": "stdout",
     "output_type": "stream",
     "text": [
      "our method time:  0:00:00.148437\n",
      "spectral clustering time:  0:00:00.093661\n"
     ]
    }
   ],
   "source": [
    "history, spectral_labels = run_chain_100(weights_matrix_100,seeds=seeds,K=1000,\\\n",
    "                                         alpha=ALPHA,lambda_nLasso=LAMBDA)\n",
    "kmeans = KMeans(n_clusters=2, random_state=0).fit(history[-1].reshape(len(history[-1]), 1))"
   ]
  },
  {
   "cell_type": "code",
   "execution_count": 890,
   "metadata": {
    "ExecuteTime": {
     "end_time": "2021-11-29T14:24:02.214283Z",
     "start_time": "2021-11-29T14:24:01.998999Z"
    }
   },
   "outputs": [
    {
     "data": {
      "text/plain": [
       "[<matplotlib.lines.Line2D at 0x7fed9eaf5050>]"
      ]
     },
     "execution_count": 890,
     "metadata": {},
     "output_type": "execute_result"
    },
    {
     "data": {
      "image/png": "[encoded data removed]",
      "text/plain": [
       "<Figure size 432x288 with 1 Axes>"
      ]
     },
     "metadata": {
      "needs_background": "light"
     },
     "output_type": "display_data"
    }
   ],
   "source": [
    "plt.plot(history[-1][:20],\"b*\")"
   ]
  },
  {
   "cell_type": "code",
   "execution_count": 891,
   "metadata": {
    "ExecuteTime": {
     "end_time": "2021-11-29T14:24:02.375010Z",
     "start_time": "2021-11-29T14:24:02.364029Z"
    }
   },
   "outputs": [
    {
     "name": "stdout",
     "output_type": "stream",
     "text": [
      "our method accuracy:  1.0\n",
      "spectral clustering accuracy:  0.54\n"
     ]
    }
   ],
   "source": [
    "true_labels =np.array([0 for i in range(4)]+[1 for i in range(96)])\n",
    "if kmeans.labels_[0] == 0:\n",
    "    print('our method accuracy: ', len(np.where(kmeans.labels_ == true_labels)[0])/len(true_labels))\n",
    "else:\n",
    "    print('our method accuracy: ', len(np.where(kmeans.labels_ == 1-true_labels)[0])/len(true_labels))\n",
    "\n",
    "if spectral_labels[0] == 0:\n",
    "    print('spectral clustering accuracy: ', len(np.where(spectral_labels == true_labels)[0])/len(true_labels))\n",
    "else:\n",
    "    print('spectral clustering accuracy: ', len(np.where(spectral_labels == 1-true_labels)[0])/len(true_labels))\n",
    "    "
   ]
  },
  {
   "cell_type": "code",
   "execution_count": 892,
   "metadata": {
    "ExecuteTime": {
     "end_time": "2021-11-29T14:24:02.492754Z",
     "start_time": "2021-11-29T14:24:02.483585Z"
    }
   },
   "outputs": [],
   "source": [
    "from scipy.sparse.csgraph import laplacian\n",
    "l=laplacian(weights_matrix_100)"
   ]
  },
  {
   "cell_type": "code",
   "execution_count": 893,
   "metadata": {
    "ExecuteTime": {
     "end_time": "2021-11-29T14:24:02.830226Z",
     "start_time": "2021-11-29T14:24:02.807721Z"
    }
   },
   "outputs": [
    {
     "name": "stdout",
     "output_type": "stream",
     "text": [
      "Fiedler vector: [-0.14759928 -0.14745416 -0.14716408 -0.1467293  -0.13949136 -0.13877518\n",
      " -0.13792256 -0.13693434 -0.13581149 -0.13455511]\n"
     ]
    }
   ],
   "source": [
    "import scipy.linalg as la\n",
    "\n",
    "eig_values, eig_vectors = la.eig(l)\n",
    "fiedler_pos = np.where(eig_values.real == np.sort(eig_values.real)[1])[0][0]\n",
    "fiedler_vector = np.transpose(eig_vectors)[fiedler_pos]\n",
    "\n",
    "print(\"Fiedler vector: \" + str(fiedler_vector.real[0:10]))"
   ]
  },
  {
   "cell_type": "code",
   "execution_count": 894,
   "metadata": {
    "ExecuteTime": {
     "end_time": "2021-11-29T14:24:03.563143Z",
     "start_time": "2021-11-29T14:24:03.369440Z"
    },
    "scrolled": false
   },
   "outputs": [
    {
     "data": {
      "text/plain": [
       "<matplotlib.collections.LineCollection at 0x7fed9ef22e50>"
      ]
     },
     "execution_count": 894,
     "metadata": {},
     "output_type": "execute_result"
    },
    {
     "data": {
      "image/png": "[encoded data removed]",
      "text/plain": [
       "<Figure size 576x216 with 1 Axes>"
      ]
     },
     "metadata": {
      "needs_background": "light"
     },
     "output_type": "display_data"
    }
   ],
   "source": [
    "plt.figure(figsize=(8,3))\n",
    "plt.plot(fiedler_vector.real[0:100]*(-7),'yo')\n",
    "plt.plot(history[-1][:100],\"b*\")\n",
    "plt.hlines(0.5,-0.3,100,linestyles='dotted')"
   ]
  },
  {
   "cell_type": "code",
   "execution_count": null,
   "metadata": {},
   "outputs": [],
   "source": []
  },
  {
   "cell_type": "code",
   "execution_count": null,
   "metadata": {},
   "outputs": [],
   "source": []
  }
 ],
 "metadata": {
  "kernelspec": {
   "display_name": "Python 3",
   "language": "python",
   "name": "python3"
  },
  "language_info": {
   "codemirror_mode": {
    "name": "ipython",
    "version": 3
   },
   "file_extension": ".py",
   "mimetype": "text/x-python",
   "name": "python",
   "nbconvert_exporter": "python",
   "pygments_lexer": "ipython3",
   "version": "3.7.6"
  },
  "latex_envs": {
   "LaTeX_envs_menu_present": true,
   "autoclose": false,
   "autocomplete": true,
   "bibliofile": "biblio.bib",
   "cite_by": "apalike",
   "current_citInitial": 1,
   "eqLabelWithNumbers": true,
   "eqNumInitial": 1,
   "hotkeys": {
    "equation": "Ctrl-E",
    "itemize": "Ctrl-I"
   },
   "labels_anchors": false,
   "latex_user_defs": false,
   "report_style_numbering": false,
   "user_envs_cfg": false
  },
  "toc": {
   "base_numbering": 1,
   "nav_menu": {},
   "number_sections": true,
   "sideBar": true,
   "skip_h1_title": false,
   "title_cell": "Table of Contents",
   "title_sidebar": "Contents",
   "toc_cell": false,
   "toc_position": {
    "height": "calc(100% - 180px)",
    "left": "10px",
    "top": "150px",
    "width": "341.3333435058594px"
   },
   "toc_section_display": true,
   "toc_window_display": true
  },
  "varInspector": {
   "cols": {
    "lenName": 16,
    "lenType": 16,
    "lenVar": 40
   },
   "kernels_config": {
    "python": {
     "delete_cmd_postfix": "",
     "delete_cmd_prefix": "del ",
     "library": "var_list.py",
     "varRefreshCmd": "print(var_dic_list())"
    },
    "r": {
     "delete_cmd_postfix": ") ",
     "delete_cmd_prefix": "rm(",
     "library": "var_list.r",
     "varRefreshCmd": "cat(var_dic_list()) "
    }
   },
   "types_to_exclude": [
    "module",
    "function",
    "builtin_function_or_method",
    "instance",
    "_Feature"
   ],
   "window_display": false
  }
 },
 "nbformat": 4,
 "nbformat_minor": 4
}
