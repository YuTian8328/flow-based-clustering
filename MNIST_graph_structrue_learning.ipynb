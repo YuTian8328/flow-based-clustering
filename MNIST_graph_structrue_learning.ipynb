{
 "cells": [
  {
   "cell_type": "code",
   "execution_count": 4,
   "metadata": {
    "ExecuteTime": {
     "end_time": "2021-06-26T10:35:51.704483Z",
     "start_time": "2021-06-26T10:35:50.310771Z"
    }
   },
   "outputs": [],
   "source": [
    "import pandas as pd\n",
    "import matplotlib.pyplot as plt\n",
    "import networkx as nx"
   ]
  },
  {
   "cell_type": "code",
   "execution_count": 5,
   "metadata": {
    "ExecuteTime": {
     "end_time": "2021-06-26T10:35:52.597105Z",
     "start_time": "2021-06-26T10:35:51.753413Z"
    }
   },
   "outputs": [],
   "source": [
    "from torch.autograd import Variable"
   ]
  },
  {
   "cell_type": "markdown",
   "metadata": {},
   "source": [
    "# Experiments on MNIST\n",
    "\n",
    "Clustered FL datasets are created based on the MNIST datasets. In order to simulate a federated setting that local datasets are from different distributions, data are augmented by using rotation, firstly augment the dataset by applying 0,45 degrees of rotation to the images, and then generate a graph with 2 clusters, each cluster has 10 nodes. To formulate a binary problem, currently only images for digit 3 and 8 are included,as they are most difficult to distinguish from each other.  10000 0-degree rotated images are randomly partitioned into the 10 nodes of cluster1,and 10000 45-degree rotated images are randomly partitioned into the 10 nodes of cluster2 ,so that each node holds 1000 images with the same rotation i.e. assumed to be from i.i.d "
   ]
  },
  {
   "cell_type": "code",
   "execution_count": 6,
   "metadata": {
    "ExecuteTime": {
     "end_time": "2021-06-26T10:35:58.381592Z",
     "start_time": "2021-06-26T10:35:52.628428Z"
    }
   },
   "outputs": [
    {
     "name": "stderr",
     "output_type": "stream",
     "text": [
      "/opt/anaconda3/lib/python3.7/site-packages/ipykernel_launcher.py:7: SettingWithCopyWarning: \n",
      "A value is trying to be set on a copy of a slice from a DataFrame.\n",
      "Try using .loc[row_indexer,col_indexer] = value instead\n",
      "\n",
      "See the caveats in the documentation: https://pandas.pydata.org/pandas-docs/stable/user_guide/indexing.html#returning-a-view-versus-a-copy\n",
      "  import sys\n"
     ]
    },
    {
     "data": {
      "text/plain": [
       "<matplotlib.image.AxesImage at 0x7fd22ef250d0>"
      ]
     },
     "execution_count": 6,
     "metadata": {},
     "output_type": "execute_result"
    },
    {
     "data": {
      "image/png": "[encoded data removed]",
      "text/plain": [
       "<Figure size 432x288 with 1 Axes>"
      ]
     },
     "metadata": {
      "needs_background": "light"
     },
     "output_type": "display_data"
    }
   ],
   "source": [
    "mnist = pd.read_csv('mnist_train.csv')        #read in original dataset from csv\n",
    "\n",
    "data = mnist[mnist.label.isin([3,8])]         #include digit 3 and 8 as they are most difficult to distinguish\n",
    "\n",
    "new_label = [0 if i== 3 else 1 for i in data.label.values]\n",
    "\n",
    "data['label']=new_label\n",
    "\n",
    "plt.imshow(data.iloc[70,1:].values.reshape(28,28))"
   ]
  },
  {
   "cell_type": "code",
   "execution_count": 7,
   "metadata": {
    "ExecuteTime": {
     "end_time": "2021-06-26T10:36:08.852334Z",
     "start_time": "2021-06-26T10:35:58.658583Z"
    }
   },
   "outputs": [],
   "source": [
    "# Augment the dataset by using 45 degree rotation\n",
    "data_r = np.zeros(data.shape)\n",
    "from scipy.ndimage import rotate\n",
    "data_r = np.zeros(data.shape)\n",
    "for i in range(data.shape[0]):\n",
    "    r = rotate(data.iloc[i,1:].values.reshape(28,28), angle=45,reshape=False).ravel()\n",
    "    l = np.array([data.iloc[i,0]])\n",
    "    data_r[i] = np.concatenate((l,r))\n",
    "\n",
    "data_r = pd.DataFrame(data=data_r,columns=data.columns)"
   ]
  },
  {
   "cell_type": "markdown",
   "metadata": {},
   "source": [
    "## define models, optimizers, penalties, help functions"
   ]
  },
  {
   "cell_type": "code",
   "execution_count": 76,
   "metadata": {
    "ExecuteTime": {
     "end_time": "2021-08-22T10:09:20.926392Z",
     "start_time": "2021-08-22T10:09:20.715102Z"
    }
   },
   "outputs": [],
   "source": [
    "import torch\n",
    "import abc\n",
    "import torch.nn.functional as F\n",
    "\n",
    "from abc import ABC\n",
    "\n",
    "\n",
    "# The linear model which implemented by pytorch\n",
    "class TorchLogModel(torch.nn.Module):\n",
    "    def __init__(self, n):\n",
    "        super(TorchLogModel, self).__init__()\n",
    "        self.linear = torch.nn.Linear(n, 1, bias=False)\n",
    "\n",
    "    def forward(self, x):\n",
    "        y_pred = torch.sigmoid(self.linear(x))\n",
    "        return y_pred\n",
    "    \n",
    "    \n",
    "# The abstract optimizer model which should have model, optimizer, and criterion\n",
    "class Optimizer(ABC):\n",
    "    def __init__(self, model, optimizer, criterion):\n",
    "        self.model = model\n",
    "        self.optimizer = optimizer\n",
    "        self.criterion = criterion\n",
    "\n",
    "    @abc.abstractmethod\n",
    "    def optimize(self, x_data, y_data, old_weight, regularizer_term):\n",
    "        torch_old_weight = torch.from_numpy(np.array(old_weight, dtype=np.float32))\n",
    "        self.model.linear.weight.data = torch_old_weight\n",
    "        for iterinner in range(5):\n",
    "            self.optimizer.zero_grad()\n",
    "            y_pred = self.model(x_data)\n",
    "            loss1 = self.criterion(y_pred, y_data)\n",
    "            loss2 = 1 / (2 * regularizer_term) * torch.mean((self.model.linear.weight - torch_old_weight) ** 2) \n",
    "            loss = loss1 + loss2\n",
    "            loss.backward()\n",
    "            self.optimizer.step()\n",
    "\n",
    "        return self.model.linear.weight.data.numpy()\n",
    "    \n",
    "    \n",
    "# The Linear optimizer model which implemented by pytorch    \n",
    "class TorchLogOptimizer(Optimizer):\n",
    "    def __init__(self, model):\n",
    "        criterion = torch.nn.BCELoss(reduction='mean')\n",
    "        optimizer = torch.optim.Adam(model.parameters())\n",
    "        super(TorchLogOptimizer, self).__init__(model, optimizer, criterion)\n",
    "\n",
    "    def optimize(self, x_data, y_data, old_weight, regularizer_term):\n",
    "        torch_old_weight = torch.from_numpy(np.array(old_weight, dtype=np.float32))\n",
    "        self.model.linear.weight.data = torch_old_weight\n",
    "        for iterinner in range(5):\n",
    "            self.optimizer.zero_grad()\n",
    "            y_pred = self.model(x_data)\n",
    "            loss1 = self.criterion(y_pred, y_data)\n",
    "            loss2 = 1 / (2 * regularizer_term) * torch.norm(self.model.linear.weight - torch_old_weight) **2 \n",
    "            loss = loss1 + loss2\n",
    "            loss.backward()\n",
    "            self.optimizer.step()\n",
    "\n",
    "        return self.model.linear.weight.data.numpy()"
   ]
  },
  {
   "cell_type": "code",
   "execution_count": 74,
   "metadata": {
    "ExecuteTime": {
     "end_time": "2021-08-22T06:06:52.586883Z",
     "start_time": "2021-08-22T06:06:52.570673Z"
    }
   },
   "outputs": [
    {
     "data": {
      "text/plain": [
       "6240"
      ]
     },
     "execution_count": 74,
     "metadata": {},
     "output_type": "execute_result"
    }
   ],
   "source": [
    "a = np.arange(3*4*5).reshape((3,4,5))\n",
    "b = np.arange(3*4*5)[::-1].reshape((4,5,3))\n",
    "np.dot(a, b)[2,3,2,1]\n",
    "#[2,3,2,1,2,2]\n",
    "\n",
    "\n",
    "\n",
    "\n",
    "sum(a[2,3,:] * b[2,:,1])\n",
    "\n",
    "a"
   ]
  },
  {
   "cell_type": "code",
   "execution_count": 12,
   "metadata": {
    "ExecuteTime": {
     "end_time": "2021-06-26T10:36:17.557956Z",
     "start_time": "2021-06-26T10:36:17.525475Z"
    }
   },
   "outputs": [],
   "source": [
    "# The abstract penalty function which has a function update\n",
    "class Penalty(ABC):\n",
    "    def __init__(self, lambda_lasso, weight_vec, Sigma, n):\n",
    "        self.lambda_lasso = lambda_lasso\n",
    "        self.weight_vec = weight_vec\n",
    "        self.Sigma = Sigma\n",
    "\n",
    "    @abc.abstractmethod\n",
    "    def update(self, new_u):\n",
    "        pass\n",
    "\n",
    "\n",
    "# The norm2 penalty function\n",
    "class Norm2Pelanty(Penalty):\n",
    "    def __init__(self, lambda_lasso, weight_vec, Sigma, n):\n",
    "        super(Norm2Pelanty, self).__init__(lambda_lasso, weight_vec, Sigma, n)\n",
    "        self.limit = np.array(lambda_lasso * weight_vec)\n",
    "\n",
    "    def update(self, new_u):\n",
    "        normalized_u = np.where(np.linalg.norm(new_u, axis=1) >= self.limit)\n",
    "        new_u[normalized_u] = (new_u[normalized_u].T * self.limit[normalized_u] / np.linalg.norm(new_u[normalized_u], axis=1)).T\n",
    "        return new_u\n",
    "\n",
    "\n",
    "# The MOCHA penalty function\n",
    "class MOCHAPelanty(Penalty):\n",
    "    def __init__(self, lambda_lasso, weight_vec, Sigma, n):\n",
    "        super(MOCHAPelanty, self).__init__(lambda_lasso, weight_vec, Sigma, n)\n",
    "        self.normalize_factor = 1 + np.dot(2 * self.Sigma, 1/(self.lambda_lasso * self.weight_vec))\n",
    "\n",
    "    def update(self, new_u):\n",
    "        for i in range(new_u.shape[1]):\n",
    "            new_u[:, i] /= self.normalize_factor\n",
    "\n",
    "        return new_u\n",
    "\n",
    "    \n",
    "# The norm1 penalty function\n",
    "class Norm1Pelanty(Penalty):\n",
    "    def __init__(self, lambda_lasso, weight_vec, Sigma, n):\n",
    "        super(Norm1Pelanty, self).__init__(lambda_lasso, weight_vec, Sigma, n)\n",
    "        self.limit = np.array([np.zeros(n) for i in range(len(weight_vec))])\n",
    "        for i in range(n):\n",
    "            self.limit[:, i] = lambda_lasso * weight_vec\n",
    "\n",
    "    def update(self, new_u):\n",
    "        normalized_u = np.where(abs(new_u) >= self.limit)\n",
    "        new_u[normalized_u] = self.limit[normalized_u] * new_u[normalized_u] / abs(new_u[normalized_u])\n",
    "        return new_u\n"
   ]
  },
  {
   "cell_type": "code",
   "execution_count": 13,
   "metadata": {
    "ExecuteTime": {
     "end_time": "2021-06-26T10:36:18.157334Z",
     "start_time": "2021-06-26T10:36:18.141641Z"
    }
   },
   "outputs": [],
   "source": [
    "from torch.autograd import Variable\n",
    "from graspy.simulations import sbm\n",
    "\n",
    "\n",
    "def get_B_weight_vec(num_nodes,num_edges):\n",
    "    '''\n",
    "    :param num_nodes: number of nodes\n",
    "    :param num_edges: number of edges\n",
    "    \n",
    "    :return B: incidence matrix of the graph\n",
    "    :return weight_vec: a list containing the edges's weights of the graph\n",
    "    '''\n",
    "   \n",
    "    N = num_nodes\n",
    "    E = num_edges\n",
    "    '''\n",
    "    N: total number of nodes\n",
    "    E: total number of edges\n",
    "    '''\n",
    "        \n",
    "    # create B(incidence matrix) and edges's weights vector(weight_vec) based on the graph G\n",
    "    B = np.zeros((E, N))\n",
    "    '''\n",
    "    B: incidence matrix of the graph with the shape of E*N\n",
    "    '''\n",
    "    weight_vec = np.zeros(E)\n",
    "    '''\n",
    "    weight_vec: a list containing the edges's weights of the graph with the shape of E\n",
    "    '''\n",
    "    \n",
    "    cnt = 0\n",
    "    for i in range(N):\n",
    "        for j in range(N):\n",
    "            if i >= j:\n",
    "                continue\n",
    "            B[cnt, i] = 1\n",
    "            B[cnt, j] = -1\n",
    "\n",
    "            weight_vec[cnt] = 0.01\n",
    "            cnt += 1\n",
    "    \n",
    "    return B, weight_vec"
   ]
  },
  {
   "cell_type": "code",
   "execution_count": 14,
   "metadata": {
    "ExecuteTime": {
     "end_time": "2021-06-26T10:36:19.179729Z",
     "start_time": "2021-06-26T10:36:19.158594Z"
    }
   },
   "outputs": [],
   "source": [
    "def total_loss(datapoints,new_w,new_B,new_weight_vec):\n",
    "#    \n",
    "#    Total loss of the graph structure learning algorithm\n",
    "#   \n",
    "    loss=0\n",
    "    N = new_w.shape[0]\n",
    "    \n",
    "    for i in range(N):\n",
    "        y = datapoints[i]['label']\n",
    "        model = datapoints[i]['model']\n",
    "        model.linear.weight.data = torch.from_numpy(np.array(new_w[i], dtype=np.float32))\n",
    "\n",
    "        y_pred = model(datapoints[i]['features'])\n",
    "        criterion = torch.nn.MSELoss(reduction='mean')\n",
    "        \n",
    "        loss += criterion(y,y_pred)\n",
    "    loss = loss+np.dot(new_weight_vec,np.linalg.norm(new_B.dot(new_w),ord=1,axis=1))\n",
    "    return loss"
   ]
  },
  {
   "cell_type": "markdown",
   "metadata": {},
   "source": [
    "## Main Algorithms\n",
    "algorithms for structure learning and model training"
   ]
  },
  {
   "cell_type": "code",
   "execution_count": 15,
   "metadata": {
    "ExecuteTime": {
     "end_time": "2021-06-26T10:36:20.474497Z",
     "start_time": "2021-06-26T10:36:20.439751Z"
    }
   },
   "outputs": [],
   "source": [
    "def learn_graph_structure(K1,K2, graph,learning_rate, lambda_lasso=1, penalty_func_name='norm1', get_loss=False):\n",
    "    '''\n",
    "    The algorithm to learn datasets relationships.\n",
    "    Inputs\n",
    "        K1: out iteration numbers\n",
    "        K2: inner iteration numbers\n",
    "        graph: graph with node attributes setted up\n",
    "    Outputs:\n",
    "        new_weight_vec: updated dual variable which represents the distance between local model parameters\n",
    "        Loss: iteration loss\n",
    "    '''\n",
    "    num_nodes = len(graph.nodes)\n",
    "    num_edges = len(graph.edges)\n",
    "    B, weight_vec = get_B_weight_vec(num_nodes,num_edges)\n",
    "    Sigma = np.diag(np.full(weight_vec.shape, 0.9 / 2))\n",
    "    T_matrix = np.diag(np.array((1.0 / (np.sum(abs(B), 0)))).ravel())\n",
    "    '''\n",
    "    T_matrix: the block diagonal matrix T\n",
    "    '''\n",
    "\n",
    "    E, N = B.shape\n",
    "    '''\n",
    "    shape of the graph\n",
    "    '''\n",
    "    m, n = graph.nodes[1]['features'].shape\n",
    "    '''\n",
    "    shape of the feature vectors of each node in the graph, i.e. m is the number of samples, \n",
    "    n is the dimension of features\n",
    "    '''\n",
    "\n",
    "    new_w = np.array([np.zeros(n) for i in range(N)])\n",
    "    \n",
    "    new_u = np.array([np.zeros(n) for i in range(E)])\n",
    "    new_weight_vec = weight_vec\n",
    "    \n",
    "    \n",
    "    Loss = {}\n",
    "    iteration_scores = []\n",
    "    for j in range(K1):\n",
    "        \n",
    "        new_B = np.dot(np.diag(new_weight_vec),B)\n",
    "        T_matrix = np.diag(np.array((1 / (np.sum(abs(B), 0)))).ravel())\n",
    "        T = np.array((1 / (np.sum(abs(B), 0)))).ravel()\n",
    "        \n",
    "        \n",
    "        for iterk in range(K2):\n",
    "            prev_w = np.copy(new_w)\n",
    "\n",
    "            hat_w = new_w - np.dot(T_matrix, np.dot(new_B.T, new_u))\n",
    "\n",
    "\n",
    "            for i in range(N):\n",
    "                optimizer = graph.nodes[i]['optimizer']\n",
    "                new_w[i] = optimizer.optimize(graph.nodes[i]['features'],graph.nodes[i]['label'], hat_w[i],T[i])\n",
    "\n",
    "            tilde_w = 2 * new_w - prev_w\n",
    "            new_u = new_u + np.dot(Sigma, np.dot(new_B, tilde_w))\n",
    "\n",
    "            penalty_func = Norm1Pelanty(lambda_lasso, new_weight_vec, Sigma, n)\n",
    "            new_u = penalty_func.update(new_u)\n",
    "        new_weight_vec = new_weight_vec +learning_rate*np.linalg.norm(np.dot(B, new_w),ord=1,axis=1)\n",
    "        if get_loss==True:\n",
    "            Loss[j] = total_loss(graph.nodes,new_w,new_B,new_weight_vec)\n",
    "\n",
    "    return new_weight_vec,Loss"
   ]
  },
  {
   "cell_type": "code",
   "execution_count": 16,
   "metadata": {
    "ExecuteTime": {
     "end_time": "2021-06-26T10:36:21.226703Z",
     "start_time": "2021-06-26T10:36:21.158563Z"
    }
   },
   "outputs": [],
   "source": [
    "\n",
    "from sklearn.metrics import mean_squared_error\n",
    "\n",
    "\n",
    "def algorithm_1(K,graph,lambda_lasso, penalty_func_name='norm1', calculate_score=False):\n",
    "    '''\n",
    "    :param K: the number of iterations\n",
    "    :param graph: a graph with node attributes and edge attributes setted up\n",
    "    :param lambda_lasso: the parameter lambda\n",
    "    :param penalty_func_name: the name of the penalty function used in the algorithm\n",
    "\n",
    "    :return iteration_scores: the mean squared error of the predicted weight vectors in each iteration\n",
    "    :return new_w: the predicted weigh vectors for each node\n",
    "    '''\n",
    "    \n",
    "    num_nodes = len(graph.nodes)\n",
    "    num_edges = len(graph.edges)\n",
    "    D = np.zeros((num_edges,num_nodes))\n",
    "    for i,e in enumerate(graph.edges):\n",
    "        D[i,e[0]]=1\n",
    "        D[i,e[1]]=-1\n",
    "    weight_vec = np.array(list(nx.get_edge_attributes(graph,'weight').values()))\n",
    "    Sigma = np.diag(np.full(weight_vec.shape, 0.9 / 2))\n",
    "    '''\n",
    "    Sigma: the block diagonal matrix Sigma\n",
    "    '''\n",
    "    T_matrix = np.diag(np.array(1.0 / (np.sum(abs(D), 0))).ravel())\n",
    "    '''\n",
    "    T_matrix: the block diagonal matrix T\n",
    "    '''\n",
    "    T = np.array(1.0 / ((np.sum(abs(D), 0)))).ravel()\n",
    "\n",
    "  \n",
    "    E, N = D.shape\n",
    "    m, n = graph.nodes[0]['features'].shape\n",
    "\n",
    "    # define the penalty function\n",
    "    if penalty_func_name == 'norm1':\n",
    "        penalty_func = Norm1Pelanty(lambda_lasso, weight_vec, Sigma, n)\n",
    "\n",
    "    elif penalty_func_name == 'norm2':\n",
    "        penalty_func = Norm2Pelanty(lambda_lasso, weight_vec, Sigma, n)\n",
    "\n",
    "    elif penalty_func_name == 'mocha':\n",
    "        penalty_func = MOCHAPelanty(lambda_lasso, weight_vec, Sigma, n)\n",
    "\n",
    "    else:\n",
    "        raise Exception('Invalid penalty name')\n",
    "\n",
    "    # starting algorithm 1\n",
    "\n",
    "    new_w = np.array([np.zeros(n) for i in range(N)])\n",
    "    '''\n",
    "    new_w: the primal variable of the algorithm 1\n",
    "    '''\n",
    "    new_u = np.array([np.zeros(n) for i in range(E)])\n",
    "    '''\n",
    "    new_u: the dual variable of the algorithm 1\n",
    "    '''\n",
    "\n",
    "    iteration_scores = []\n",
    "    for iterk in range(K):\n",
    "        prev_w = np.copy(new_w)\n",
    "\n",
    "        hat_w = new_w - np.dot(T_matrix, np.dot(D.T, new_u))\n",
    "        for i in range(N):\n",
    "                optimizer = graph.nodes[i]['optimizer']\n",
    "                new_w[i] = optimizer.optimize(graph.nodes[i]['features'],   \n",
    "                                              graph.nodes[i]['label'], \n",
    "                                              hat_w[i],T[i])\n",
    "\n",
    "        \n",
    "        tilde_w = 2 * new_w - prev_w\n",
    "        new_u = new_u + np.dot(Sigma, np.dot(D, tilde_w))\n",
    "\n",
    "        new_u = penalty_func.update(new_u)\n",
    "\n",
    "        # calculate the MSE of the predicted weight vectors\n",
    "        if calculate_score:\n",
    "            Y_pred = []\n",
    "            for i in range(N):\n",
    "                Y_pred.append(np.dot(graph.nodes[i]['features'], new_w[i]))\n",
    "\n",
    "            iteration_scores.append(mean_squared_error(true_labels.reshape(N, m), Y_pred))\n",
    "\n",
    "    # print (np.max(abs(new_w - prev_w)))\n",
    "\n",
    "    return iteration_scores, new_w"
   ]
  },
  {
   "cell_type": "markdown",
   "metadata": {},
   "source": [
    "\n",
    "## Generate local datasets from the csv file\n",
    "\n",
    "\n",
    "To simulate the fact that the amount of training data is usually insufficient, we randomly selected 100 datapoints as training data for each local datatset.The left datapoints will be used for test."
   ]
  },
  {
   "cell_type": "code",
   "execution_count": 17,
   "metadata": {
    "ExecuteTime": {
     "end_time": "2021-06-26T10:36:22.558091Z",
     "start_time": "2021-06-26T10:36:22.526318Z"
    }
   },
   "outputs": [],
   "source": [
    "from sklearn.preprocessing import MinMaxScaler\n",
    "def generate_datapoints(data,data_r):\n",
    "    '''\n",
    "    Input\n",
    "       datasets: dataframes storing all datasets\n",
    "    Output\n",
    "       datapoints: a dictionary containing the attributes for each node in the graph,\n",
    "       which are features, label, model, and also the optimizer for each node\n",
    "    '''\n",
    "    data = data.sample(frac=1,replace=True).reset_index(drop=True)  #shuffle the dataset\n",
    "    data_r = data_r.sample(frac=1,replace=True).reset_index(drop=True)  #shuffle the dataset\n",
    "    datapoints = {}\n",
    "    for i in range(20): \n",
    "        if i < 10:\n",
    "            features = data.iloc[i*1000:(i+1)*1000,1:].values/255\n",
    "            labels = data.iloc[i*1000:(i+1)*1000,0].values\n",
    "            \n",
    "        else:\n",
    "            features = data_r.iloc[(i-10)*1000:(i-9)*1000,1:].values/255\n",
    "            labels = data_r.iloc[(i-10)*1000:(i-9)*1000,0].values\n",
    "        n = features.shape[1]\n",
    "\n",
    "        model = TorchLogModel(n)\n",
    "        '''\n",
    "        model : the logistic model for the node i that is implemented by pytorch\n",
    "        '''\n",
    "        optimizer = TorchLogOptimizer(model)\n",
    "        '''\n",
    "        optimizer : the optimizer model for the node i that is implemented by pytorch with BCE loss function\n",
    "        '''\n",
    "\n",
    "        datapoints[i] = {\n",
    "            'features': Variable(torch.from_numpy(features[:100,:])).to(torch.float32),\n",
    "            'model': model,\n",
    "            'label': Variable(torch.from_numpy(labels[:100])).to(torch.float32),\n",
    "            'optimizer': optimizer,\n",
    "            'features_val': Variable(torch.from_numpy(features[100:150,:])).to(torch.float32),\n",
    "            'label_val': Variable(torch.from_numpy(labels[100:150])).to(torch.float32),\n",
    "            'features_test': Variable(torch.from_numpy(features[150:,:])).to(torch.float32),\n",
    "            'label_test': Variable(torch.from_numpy(labels[150:])).to(torch.float32)\n",
    "        }\n",
    "        \n",
    "    return datapoints"
   ]
  },
  {
   "cell_type": "code",
   "execution_count": 64,
   "metadata": {
    "ExecuteTime": {
     "end_time": "2021-06-26T11:51:38.791616Z",
     "start_time": "2021-06-26T11:51:38.281926Z"
    }
   },
   "outputs": [],
   "source": [
    "# generate datapoints dict which will be used to set node attributes for the graph\n",
    "datapoints = generate_datapoints(data,data_r)"
   ]
  },
  {
   "cell_type": "code",
   "execution_count": 65,
   "metadata": {
    "ExecuteTime": {
     "end_time": "2021-06-26T11:51:39.661314Z",
     "start_time": "2021-06-26T11:51:39.446531Z"
    },
    "scrolled": true
   },
   "outputs": [
    {
     "data": {
      "text/plain": [
       "<matplotlib.image.AxesImage at 0x7fd1f48f1b90>"
      ]
     },
     "execution_count": 65,
     "metadata": {},
     "output_type": "execute_result"
    },
    {
     "data": {
      "image/png": "[encoded data removed]",
      "text/plain": [
       "<Figure size 432x288 with 1 Axes>"
      ]
     },
     "metadata": {
      "needs_background": "light"
     },
     "output_type": "display_data"
    }
   ],
   "source": [
    "plt.imshow(datapoints[18]['features'][0,:].reshape(28,28))  # this is 45 degree rotated"
   ]
  },
  {
   "cell_type": "code",
   "execution_count": 66,
   "metadata": {
    "ExecuteTime": {
     "end_time": "2021-06-26T11:51:42.200812Z",
     "start_time": "2021-06-26T11:51:42.188305Z"
    }
   },
   "outputs": [],
   "source": [
    "g = nx.complete_graph(20)             # we assume a fully connected graph initially\n",
    "nx.set_node_attributes(g,datapoints)  # set up the graph with a dictionary datapoints generated from raw datasets"
   ]
  },
  {
   "cell_type": "markdown",
   "metadata": {},
   "source": [
    "## run experiments"
   ]
  },
  {
   "cell_type": "markdown",
   "metadata": {},
   "source": [
    "### datasets relationships\n",
    "#### learn relations via dual-ascent "
   ]
  },
  {
   "cell_type": "markdown",
   "metadata": {},
   "source": [
    " <p style=\"color:darkblue; font-size:20px\">?? The problem is how to choose learning rate (step size)?</p>\n",
    " \n",
    " \n",
    "As I already know the intrinsic structure of the graph, so I know which learning rate is the optimal, but for unknown graph, this is a problem, my current sense is that the when the learned dual variable value is between 0-2, it feels right. and also it's important to normalize or standardize input data in advance."
   ]
  },
  {
   "cell_type": "code",
   "execution_count": 67,
   "metadata": {
    "ExecuteTime": {
     "end_time": "2021-06-26T11:57:56.282135Z",
     "start_time": "2021-06-26T11:51:45.810894Z"
    }
   },
   "outputs": [],
   "source": [
    "# Learn dual variable (node distance) from graph with nodes attributes already setted up\n",
    "new_weight_vec,_ = learn_graph_structure(K1=20,K2=300,graph=g,learning_rate=0.005)  "
   ]
  },
  {
   "cell_type": "code",
   "execution_count": 68,
   "metadata": {
    "ExecuteTime": {
     "end_time": "2021-06-26T11:57:56.864267Z",
     "start_time": "2021-06-26T11:57:56.858072Z"
    }
   },
   "outputs": [],
   "source": [
    "# generate three edge index lists: intral cluster edges and inter cluster edges\n",
    "ind_cluster1 = []\n",
    "ind_cluster2 = []\n",
    "ind_inter_clusters = []\n",
    "for i,e in enumerate(g.edges):\n",
    "    if e[0]<10 and e[1]<10:\n",
    "        ind_cluster1.append(i)\n",
    "    \n",
    "    elif e[0]<10 and e[1]>=10:\n",
    "        ind_inter_clusters.append(i)\n",
    "    else:\n",
    "        ind_cluster2.append(i)  "
   ]
  },
  {
   "cell_type": "code",
   "execution_count": 69,
   "metadata": {
    "ExecuteTime": {
     "end_time": "2021-06-26T11:57:57.661396Z",
     "start_time": "2021-06-26T11:57:57.429955Z"
    },
    "scrolled": true
   },
   "outputs": [
    {
     "data": {
      "text/plain": [
       "<matplotlib.legend.Legend at 0x7fd209dd8110>"
      ]
     },
     "execution_count": 69,
     "metadata": {},
     "output_type": "execute_result"
    },
    {
     "data": {
      "image/png": "[encoded data removed]",
      "text/plain": [
       "<Figure size 432x288 with 1 Axes>"
      ]
     },
     "metadata": {
      "needs_background": "light"
     },
     "output_type": "display_data"
    }
   ],
   "source": [
    "# visulize learned node distance, we can see inter cluster nodes distances are largest\n",
    "plt.plot(new_weight_vec[ind_cluster1],'bo',label='cluster1')  \n",
    "plt.plot(new_weight_vec[ind_cluster2],'ro',label='cluster2')  \n",
    "plt.plot(new_weight_vec[ind_inter_clusters],'go',label='inter_clusters')  \n",
    "plt.legend()"
   ]
  },
  {
   "cell_type": "code",
   "execution_count": 70,
   "metadata": {
    "ExecuteTime": {
     "end_time": "2021-06-26T11:57:58.403297Z",
     "start_time": "2021-06-26T11:57:58.398184Z"
    }
   },
   "outputs": [],
   "source": [
    "# generate edge weights from the learned dual variable\n",
    "learned_weight_vec = np.exp(-new_weight_vec/1)"
   ]
  },
  {
   "cell_type": "code",
   "execution_count": 71,
   "metadata": {
    "ExecuteTime": {
     "end_time": "2021-06-26T11:57:59.185731Z",
     "start_time": "2021-06-26T11:57:58.973178Z"
    },
    "scrolled": false
   },
   "outputs": [
    {
     "data": {
      "text/plain": [
       "<matplotlib.legend.Legend at 0x7fd1f4b232d0>"
      ]
     },
     "execution_count": 71,
     "metadata": {},
     "output_type": "execute_result"
    },
    {
     "data": {
      "image/png": "[encoded data removed]",
      "text/plain": [
       "<Figure size 432x288 with 1 Axes>"
      ]
     },
     "metadata": {
      "needs_background": "light"
     },
     "output_type": "display_data"
    }
   ],
   "source": [
    "# visulize edge weights, inter cluster weights are smallest\n",
    "plt.plot(learned_weight_vec[ind_cluster1],'bo',label='cluster1')  \n",
    "plt.plot(learned_weight_vec[ind_cluster2],'ro',label='cluster2')  \n",
    "plt.plot(learned_weight_vec[ind_inter_clusters],'go',label='inter_clusters')  \n",
    "plt.legend()"
   ]
  },
  {
   "cell_type": "code",
   "execution_count": 72,
   "metadata": {
    "ExecuteTime": {
     "end_time": "2021-06-26T11:57:59.787939Z",
     "start_time": "2021-06-26T11:57:59.776329Z"
    }
   },
   "outputs": [],
   "source": [
    "dic = {i:np.array([0.0,0.0,0.0]) for i in range(20)}\n",
    "ind = {i:[] for i in range(20)}\n",
    "# ind = [k for k in range(190)]\n",
    "for n,(i,j) in enumerate(g.edges):\n",
    "    if (learned_weight_vec[n]>dic[i]).sum():\n",
    "        dic[i][np.argmin(dic[i])] = learned_weight_vec[n]\n",
    "        if len(ind[i])==3:\n",
    "            ind[i][np.argmin(dic[i])]=(i,j)\n",
    "        else:\n",
    "            ind[i].append((i,j))"
   ]
  },
  {
   "cell_type": "code",
   "execution_count": 73,
   "metadata": {
    "ExecuteTime": {
     "end_time": "2021-06-26T11:58:00.370504Z",
     "start_time": "2021-06-26T11:58:00.357976Z"
    }
   },
   "outputs": [],
   "source": [
    "for n,(i,j) in enumerate(g.edges):\n",
    "    if (learned_weight_vec[n]>dic[j]).sum():\n",
    "        dic[j][np.argmin(dic[j])] = learned_weight_vec[n]\n",
    "        if len(ind[j])==3:\n",
    "            ind[j][np.argmin(dic[i])]=(i,j)\n",
    "        else:\n",
    "            ind[j].append((i,j))\n",
    "#         ind[j].append((i,j))"
   ]
  },
  {
   "cell_type": "code",
   "execution_count": 74,
   "metadata": {
    "ExecuteTime": {
     "end_time": "2021-06-26T11:58:00.939201Z",
     "start_time": "2021-06-26T11:58:00.929392Z"
    }
   },
   "outputs": [
    {
     "data": {
      "text/plain": [
       "{0: [(0, 4), (0, 5), (0, 7)],\n",
       " 1: [(1, 5), (1, 3), (1, 4)],\n",
       " 2: [(2, 3), (2, 4), (2, 7)],\n",
       " 3: [(1, 3), (3, 5), (2, 3)],\n",
       " 4: [(3, 4), (4, 6), (2, 4)],\n",
       " 5: [(3, 5), (5, 7), (2, 5)],\n",
       " 6: [(3, 6), (6, 8), (2, 6)],\n",
       " 7: [(3, 7), (7, 9), (2, 7)],\n",
       " 8: [(3, 8), (8, 12), (2, 8)],\n",
       " 9: [(5, 9), (7, 9), (2, 9)],\n",
       " 10: [(10, 11), (10, 16), (10, 19)],\n",
       " 11: [(11, 18), (11, 13), (10, 11)],\n",
       " 12: [(12, 19), (12, 14), (12, 18)],\n",
       " 13: [(13, 14), (11, 13), (10, 13)],\n",
       " 14: [(12, 14), (11, 14), (10, 14)],\n",
       " 15: [(12, 15), (11, 15), (10, 15)],\n",
       " 16: [(15, 16), (11, 16), (10, 16)],\n",
       " 17: [(15, 17), (11, 17), (10, 17)],\n",
       " 18: [(12, 18), (11, 18), (10, 18)],\n",
       " 19: [(12, 19), (11, 19), (10, 19)]}"
      ]
     },
     "execution_count": 74,
     "metadata": {},
     "output_type": "execute_result"
    }
   ],
   "source": [
    "ind"
   ]
  },
  {
   "cell_type": "code",
   "execution_count": 75,
   "metadata": {
    "ExecuteTime": {
     "end_time": "2021-06-26T11:58:01.563589Z",
     "start_time": "2021-06-26T11:58:01.550753Z"
    }
   },
   "outputs": [],
   "source": [
    "es_kept = []\n",
    "for val in ind.values():\n",
    "    for i in range(3):\n",
    "        if val[i] not in es_kept:\n",
    "            es_kept.append(val[i])\n",
    "    "
   ]
  },
  {
   "cell_type": "code",
   "execution_count": 76,
   "metadata": {
    "ExecuteTime": {
     "end_time": "2021-06-26T11:58:02.140833Z",
     "start_time": "2021-06-26T11:58:02.126157Z"
    }
   },
   "outputs": [
    {
     "data": {
      "text/plain": [
       "[0,\n",
       " 1,\n",
       " 2,\n",
       " 5,\n",
       " 7,\n",
       " 8,\n",
       " 9,\n",
       " 10,\n",
       " 11,\n",
       " 12,\n",
       " 13,\n",
       " 14,\n",
       " 15,\n",
       " 16,\n",
       " 17,\n",
       " 18,\n",
       " 19,\n",
       " 23,\n",
       " 24,\n",
       " 25,\n",
       " 26,\n",
       " 27,\n",
       " 28,\n",
       " 29,\n",
       " 30,\n",
       " 31,\n",
       " 32,\n",
       " 33,\n",
       " 34,\n",
       " 35,\n",
       " 36,\n",
       " 44,\n",
       " 45,\n",
       " 46,\n",
       " 47,\n",
       " 48,\n",
       " 49,\n",
       " 50,\n",
       " 51,\n",
       " 52,\n",
       " 53,\n",
       " 59,\n",
       " 60,\n",
       " 61,\n",
       " 62,\n",
       " 63,\n",
       " 64,\n",
       " 65,\n",
       " 66,\n",
       " 67,\n",
       " 68,\n",
       " 69,\n",
       " 70,\n",
       " 72,\n",
       " 73,\n",
       " 74,\n",
       " 75,\n",
       " 76,\n",
       " 77,\n",
       " 78,\n",
       " 79,\n",
       " 80,\n",
       " 81,\n",
       " 82,\n",
       " 83,\n",
       " 84,\n",
       " 85,\n",
       " 87,\n",
       " 89,\n",
       " 90,\n",
       " 91,\n",
       " 92,\n",
       " 93,\n",
       " 94,\n",
       " 95,\n",
       " 96,\n",
       " 97,\n",
       " 98,\n",
       " 99,\n",
       " 101,\n",
       " 102,\n",
       " 103,\n",
       " 104,\n",
       " 105,\n",
       " 106,\n",
       " 107,\n",
       " 108,\n",
       " 109,\n",
       " 110,\n",
       " 111,\n",
       " 112,\n",
       " 114,\n",
       " 115,\n",
       " 116,\n",
       " 117,\n",
       " 118,\n",
       " 119,\n",
       " 120,\n",
       " 121,\n",
       " 122,\n",
       " 123,\n",
       " 124,\n",
       " 125,\n",
       " 126,\n",
       " 128,\n",
       " 129,\n",
       " 130,\n",
       " 131,\n",
       " 132,\n",
       " 133,\n",
       " 134,\n",
       " 135,\n",
       " 136,\n",
       " 137,\n",
       " 138,\n",
       " 139,\n",
       " 140,\n",
       " 141,\n",
       " 142,\n",
       " 143,\n",
       " 144,\n",
       " 146,\n",
       " 154,\n",
       " 162,\n",
       " 165,\n",
       " 166,\n",
       " 170,\n",
       " 171,\n",
       " 172,\n",
       " 173,\n",
       " 174,\n",
       " 175,\n",
       " 176,\n",
       " 177,\n",
       " 178,\n",
       " 179,\n",
       " 182,\n",
       " 183,\n",
       " 184,\n",
       " 185,\n",
       " 186,\n",
       " 187,\n",
       " 188,\n",
       " 189]"
      ]
     },
     "execution_count": 76,
     "metadata": {},
     "output_type": "execute_result"
    }
   ],
   "source": [
    "weights_drop = []\n",
    "for n,e in enumerate(g.edges(data=False)):\n",
    "    if e not in es_kept:\n",
    "        weights_drop.append(n)\n",
    "        g.remove_edge(*e)\n",
    "weights_drop"
   ]
  },
  {
   "cell_type": "code",
   "execution_count": 77,
   "metadata": {
    "ExecuteTime": {
     "end_time": "2021-06-26T11:58:02.759435Z",
     "start_time": "2021-06-26T11:58:02.746599Z"
    }
   },
   "outputs": [
    {
     "data": {
      "text/plain": [
       "EdgeView([(0, 4), (0, 5), (0, 7), (1, 3), (1, 4), (1, 5), (2, 3), (2, 4), (2, 5), (2, 6), (2, 7), (2, 8), (2, 9), (3, 4), (3, 5), (3, 6), (3, 7), (3, 8), (4, 6), (5, 7), (5, 9), (6, 8), (7, 9), (8, 12), (10, 11), (10, 13), (10, 14), (10, 15), (10, 16), (10, 17), (10, 18), (10, 19), (11, 13), (11, 14), (11, 15), (11, 16), (11, 17), (11, 18), (11, 19), (12, 14), (12, 15), (12, 18), (12, 19), (13, 14), (15, 16), (15, 17)])"
      ]
     },
     "execution_count": 77,
     "metadata": {},
     "output_type": "execute_result"
    }
   ],
   "source": [
    "g.edges"
   ]
  },
  {
   "cell_type": "code",
   "execution_count": 78,
   "metadata": {
    "ExecuteTime": {
     "end_time": "2021-06-26T11:58:03.373884Z",
     "start_time": "2021-06-26T11:58:03.366435Z"
    }
   },
   "outputs": [],
   "source": [
    "weights = np.delete(learned_weight_vec,weights_drop)"
   ]
  },
  {
   "cell_type": "code",
   "execution_count": 79,
   "metadata": {
    "ExecuteTime": {
     "end_time": "2021-06-26T11:58:03.932935Z",
     "start_time": "2021-06-26T11:58:03.927249Z"
    },
    "scrolled": true
   },
   "outputs": [],
   "source": [
    "weigh = {}\n",
    "for e in g.edges:\n",
    "    weigh[e] = {'weight':weights[i]}\n",
    "nx.set_edge_attributes(g,weigh)"
   ]
  },
  {
   "cell_type": "code",
   "execution_count": 80,
   "metadata": {
    "ExecuteTime": {
     "end_time": "2021-06-26T11:58:04.677055Z",
     "start_time": "2021-06-26T11:58:04.484759Z"
    }
   },
   "outputs": [
    {
     "data": {
      "text/plain": [
       "<matplotlib.legend.Legend at 0x7fd1f4e9d0d0>"
      ]
     },
     "execution_count": 80,
     "metadata": {},
     "output_type": "execute_result"
    },
    {
     "data": {
      "image/png": "[encoded data removed]",
      "text/plain": [
       "<Figure size 432x288 with 1 Axes>"
      ]
     },
     "metadata": {
      "needs_background": "light"
     },
     "output_type": "display_data"
    }
   ],
   "source": [
    "# generate three edge index lists: intral cluster edges and inter cluster edges\n",
    "ind_cluster1 = []\n",
    "ind_cluster2 = []\n",
    "ind_inter_clusters = []\n",
    "for i,e in enumerate(g.edges):\n",
    "    if e[0]<10 and e[1]<10:\n",
    "        ind_cluster1.append(i)\n",
    "    \n",
    "    elif e[0]<10 and e[1]>=10:\n",
    "        ind_inter_clusters.append(i)\n",
    "    else:\n",
    "        ind_cluster2.append(i) \n",
    "# visulize learned node distance, we can see inter cluster nodes distances are largest\n",
    "plt.plot(weights[ind_cluster1],'bo',label='cluster1')  \n",
    "plt.plot(weights[ind_cluster2],'ro',label='cluster2')  \n",
    "plt.plot(weights[ind_inter_clusters],'go',label='inter_clusters')  \n",
    "plt.legend()"
   ]
  },
  {
   "cell_type": "markdown",
   "metadata": {},
   "source": [
    "### learn tailored predictor for each local dataset\n"
   ]
  },
  {
   "cell_type": "code",
   "execution_count": 42,
   "metadata": {
    "ExecuteTime": {
     "end_time": "2021-06-21T07:15:14.507037Z",
     "start_time": "2021-06-21T07:15:14.496516Z"
    }
   },
   "outputs": [],
   "source": [
    "# set up graph edge attribute 'weight' by using the learned weight vector\n",
    "# def update_graph_weight(g,weight_vector,sparse=True,threshold=None):\n",
    "#     '''\n",
    "#     Update graph edge attributes.\n",
    "#     Inputs:\n",
    "#         graph: graph with node attributes setted up\n",
    "#         weight_vector: the learned weights\n",
    "#         sparse: if or not make the graph structure more sparse, if true, randomly drop some edges\n",
    "#         threshold: thresholding criterion \n",
    "#     Outputs:\n",
    "#         g: updated graph\n",
    "#     '''\n",
    "#     if sparse:\n",
    "#         ind = np.argwhere(weight_vector<threshold)\n",
    "#         weigh = {}\n",
    "#     for i,e in enumerate(g.edges(data=False)):\n",
    "#         if i in ind:\n",
    "#             g.remove_edge(*e)\n",
    "#             continue\n",
    "#         else:\n",
    "#             ran = np.random.rand(1)     \n",
    "#             if ran>0.9:\n",
    "#                 g.remove_edge(*e)\n",
    "#                 continue\n",
    "#             weigh[e] = {'weight':weight_vector[i]}\n",
    "#     nx.set_edge_attributes(g,weigh)\n",
    "#     return g \n",
    "# g = update_graph_weight(g,learned_weight_vec,sparse=True,threshold=0.33)"
   ]
  },
  {
   "cell_type": "code",
   "execution_count": 81,
   "metadata": {
    "ExecuteTime": {
     "end_time": "2021-06-26T11:58:05.291765Z",
     "start_time": "2021-06-26T11:58:05.284658Z"
    }
   },
   "outputs": [
    {
     "data": {
      "text/plain": [
       "EdgeView([(0, 4), (0, 5), (0, 7), (1, 3), (1, 4), (1, 5), (2, 3), (2, 4), (2, 5), (2, 6), (2, 7), (2, 8), (2, 9), (3, 4), (3, 5), (3, 6), (3, 7), (3, 8), (4, 6), (5, 7), (5, 9), (6, 8), (7, 9), (8, 12), (10, 11), (10, 13), (10, 14), (10, 15), (10, 16), (10, 17), (10, 18), (10, 19), (11, 13), (11, 14), (11, 15), (11, 16), (11, 17), (11, 18), (11, 19), (12, 14), (12, 15), (12, 18), (12, 19), (13, 14), (15, 16), (15, 17)])"
      ]
     },
     "execution_count": 81,
     "metadata": {},
     "output_type": "execute_result"
    }
   ],
   "source": [
    "g.edges"
   ]
  },
  {
   "cell_type": "markdown",
   "metadata": {},
   "source": [
    " <p style=\"color:darkblue; font-size:20px\">?? The problem is how to choose thresholding criterion for real world datasets?</p>\n",
    " \n",
    " \n",
    "As I already know the intrinsic structure of the graph, so I know which thresholding is the optimal, but for unknown graph, this is a problem. Maybe remove 20\\~30% lowest values, and have 70~80% top values left? "
   ]
  },
  {
   "cell_type": "code",
   "execution_count": 82,
   "metadata": {
    "ExecuteTime": {
     "end_time": "2021-06-26T11:58:05.899247Z",
     "start_time": "2021-06-26T11:58:05.888271Z"
    }
   },
   "outputs": [],
   "source": [
    "def sigmoid(z):\n",
    "    return 1/(1 + np.exp(-z))"
   ]
  },
  {
   "cell_type": "code",
   "execution_count": 83,
   "metadata": {
    "ExecuteTime": {
     "end_time": "2021-06-26T12:28:15.476356Z",
     "start_time": "2021-06-26T11:58:06.453800Z"
    }
   },
   "outputs": [
    {
     "name": "stdout",
     "output_type": "stream",
     "text": [
      "0.0001\n",
      "accuracy on val sets: 0.9199999999999999\n",
      "0.001\n",
      "accuracy on val sets: 0.9219999999999999\n",
      "0.01\n",
      "accuracy on val sets: 0.942\n",
      "0.05\n",
      "accuracy on val sets: 0.9510000000000002\n",
      "0.1\n",
      "accuracy on val sets: 0.9339999999999999\n",
      "0.5\n",
      "accuracy on val sets: 0.8770000000000001\n",
      "1\n",
      "accuracy on val sets: 0.882\n",
      "5\n",
      "accuracy on val sets: 0.8800000000000001\n",
      "10\n",
      "accuracy on val sets: 0.881\n",
      "100\n",
      "accuracy on val sets: 0.881\n",
      "1000\n",
      "accuracy on val sets: 0.881\n"
     ]
    }
   ],
   "source": [
    "# search for optimal hyperparameter labmda_lasso by cross validation.\n",
    "lambds = [0.0001,0.001,0.01,0.05,0.1,0.5,1,5,10,100,1000]\n",
    "\n",
    "# Calculate the averaged accuracy on validation sets\n",
    "for lambd in lambds:\n",
    "    print(lambd)\n",
    "    score,new_w = algorithm_1(3000,g,lambd)\n",
    "    accus = []\n",
    "    for i in range(20):\n",
    "        y_pred=sigmoid(np.dot(g.nodes[i]['features_val'],new_w[i]))\n",
    "\n",
    "        y_pred = [1 if i>=0.5 else 0 for i in y_pred]\n",
    "\n",
    "        accu = 1-np.sum(abs(y_pred-g.nodes[i]['label_val'].numpy()))/len(y_pred)\n",
    "        accus.append(accu)\n",
    "    print('accuracy on val sets:', np.mean(accus))"
   ]
  },
  {
   "cell_type": "code",
   "execution_count": 84,
   "metadata": {
    "ExecuteTime": {
     "end_time": "2021-06-26T12:41:51.853912Z",
     "start_time": "2021-06-26T12:28:16.075417Z"
    }
   },
   "outputs": [
    {
     "name": "stdout",
     "output_type": "stream",
     "text": [
      "0.02\n",
      "accuracy on val tests: 0.9490000000000001\n",
      "0.04\n",
      "accuracy on val tests: 0.9500000000000002\n",
      "0.06\n",
      "accuracy on val tests: 0.9400000000000002\n",
      "0.08\n",
      "accuracy on val tests: 0.9380000000000001\n",
      "0.12\n",
      "accuracy on val tests: 0.9189999999999999\n"
     ]
    }
   ],
   "source": [
    "#train the model with optimal hyperparameter and test performance on test set.\n",
    "lambds = [0.02,0.04,0.06,0.08,0.12]\n",
    "\n",
    "# Calculate the averaged accuracy on test sets\n",
    "for lambd in lambds:\n",
    "    print(lambd)\n",
    "    score,new_w = algorithm_1(3000,g,lambd)\n",
    "    accus = []\n",
    "    for i in range(20):\n",
    "        y_pred=sigmoid(np.dot(g.nodes[i]['features_val'],new_w[i]))\n",
    "\n",
    "        y_pred = [1 if i>=0.5 else 0 for i in y_pred]\n",
    "\n",
    "        accu = 1-np.sum(abs(y_pred-g.nodes[i]['label_val'].numpy()))/len(y_pred)\n",
    "        accus.append(accu)\n",
    "    print('accuracy on val tests:', np.mean(accus))"
   ]
  },
  {
   "cell_type": "code",
   "execution_count": 85,
   "metadata": {
    "ExecuteTime": {
     "end_time": "2021-06-26T12:54:38.006425Z",
     "start_time": "2021-06-26T12:51:49.253888Z"
    }
   },
   "outputs": [
    {
     "name": "stdout",
     "output_type": "stream",
     "text": [
      "0.05\n",
      "accuracy on test tests: 0.9414705882352941\n"
     ]
    }
   ],
   "source": [
    "#train the model with optimal hyperparameter and test performance on test set.\n",
    "lambds = [0.05]\n",
    "\n",
    "# Calculate the averaged accuracy on test sets\n",
    "for lambd in lambds:\n",
    "    print(lambd)\n",
    "    score,new_w = algorithm_1(3000,g,lambd)\n",
    "    accus = []\n",
    "    for i in range(20):\n",
    "        y_pred=sigmoid(np.dot(g.nodes[i]['features_test'],new_w[i]))\n",
    "\n",
    "        y_pred = [1 if i>=0.5 else 0 for i in y_pred]\n",
    "\n",
    "        accu = 1-np.sum(abs(y_pred-g.nodes[i]['label_test'].numpy()))/len(y_pred)\n",
    "        accus.append(accu)\n",
    "    print('accuracy on test tests:', np.mean(accus))"
   ]
  },
  {
   "cell_type": "markdown",
   "metadata": {},
   "source": [
    "## locally fitted logistic regression for each node seperately\n",
    "Local logistic regression models were fitted to each local dataset seperately to provide a baseline. Gridsearchs were executed to select the best hyper-parameters, for each local model using 3-fold cross-validation. The averaged accuracy on test set is 92~93%. "
   ]
  },
  {
   "cell_type": "code",
   "execution_count": 86,
   "metadata": {
    "ExecuteTime": {
     "end_time": "2021-06-26T12:54:38.682947Z",
     "start_time": "2021-06-26T12:54:38.679247Z"
    }
   },
   "outputs": [],
   "source": [
    "from sklearn.linear_model import LogisticRegression\n",
    "from sklearn.model_selection import GridSearchCV"
   ]
  },
  {
   "cell_type": "code",
   "execution_count": 90,
   "metadata": {
    "ExecuteTime": {
     "end_time": "2021-06-26T13:20:29.750454Z",
     "start_time": "2021-06-26T13:20:24.236831Z"
    }
   },
   "outputs": [
    {
     "name": "stdout",
     "output_type": "stream",
     "text": [
      "mean accuracy on test sets: 0.9310000000000003\n",
      "mean accuracy on val sets: 0.9309999999999998\n"
     ]
    }
   ],
   "source": [
    "## Gridsearch for the best hyper-parameters for each local Logistic regression model\n",
    "## for each model using 5-fold cross-validation\n",
    "## Calculate accuracy on test sets\n",
    "accus_test = []\n",
    "accus_val = []\n",
    "for i in range(20):\n",
    "    grid={\"C\":np.logspace(-3,3,7), \"penalty\":[\"l1\",\"l2\"],\"solver\":['liblinear']}\n",
    "    \n",
    "    logreg=LogisticRegression()\n",
    "    logreg_cv=GridSearchCV(logreg,grid,cv=3)\n",
    "    X = torch.cat((datapoints[i]['features'],datapoints[i]['features_val']))\n",
    "    y = torch.cat((datapoints[i]['label'],datapoints[i]['label_val']))\n",
    "    best_clf =logreg_cv.fit(X,y)\n",
    "    accu_val = best_clf.best_score_   \n",
    "    accu_test = best_clf.score(datapoints[i]['features_test'],datapoints[i]['label_test'].squeeze())\n",
    "    accus_val.append(accu_val)\n",
    "    accus_test.append(accu_test)\n",
    "    \n",
    "    \n",
    "    \n",
    "print('mean accuracy on test sets:',np.mean(accus_test))\n",
    "print('mean accuracy on val sets:',np.mean(accus_val))"
   ]
  },
  {
   "cell_type": "code",
   "execution_count": 1367,
   "metadata": {
    "ExecuteTime": {
     "end_time": "2021-06-17T09:22:31.741828Z",
     "start_time": "2021-06-17T09:22:31.733667Z"
    },
    "scrolled": false
   },
   "outputs": [],
   "source": [
    "# accus_g = []\n",
    "# grid={\"C\":np.logspace(-3,3,7), \"penalty\":[\"l1\",\"l2\"],\"solver\":['liblinear'],'max_iter':[300]}\n",
    "\n",
    "# logreg=LogisticRegression()\n",
    "# logreg_cv=GridSearchCV(logreg,grid,cv=2)\n",
    "\n",
    "# best_clf =logreg_cv.fit(data_r.iloc[:3000,1:],data_r.iloc[:3000,0])\n",
    "# print(best_clf.best_score_)\n",
    "\n",
    "# for i in range(20):\n",
    "#     accu_g = best_clf.score(datapoints[i]['features_test'],datapoints[i]['label_test'].squeeze())\n",
    "#     accus_g.append(accu_g)\n",
    "# print('mean accuracy on test sets:',np.mean(accus_g))"
   ]
  },
  {
   "cell_type": "code",
   "execution_count": null,
   "metadata": {},
   "outputs": [],
   "source": []
  }
 ],
 "metadata": {
  "kernelspec": {
   "display_name": "Python 3",
   "language": "python",
   "name": "python3"
  },
  "language_info": {
   "codemirror_mode": {
    "name": "ipython",
    "version": 3
   },
   "file_extension": ".py",
   "mimetype": "text/x-python",
   "name": "python",
   "nbconvert_exporter": "python",
   "pygments_lexer": "ipython3",
   "version": "3.7.6"
  },
  "latex_envs": {
   "LaTeX_envs_menu_present": true,
   "autoclose": false,
   "autocomplete": true,
   "bibliofile": "biblio.bib",
   "cite_by": "apalike",
   "current_citInitial": 1,
   "eqLabelWithNumbers": true,
   "eqNumInitial": 1,
   "hotkeys": {
    "equation": "Ctrl-E",
    "itemize": "Ctrl-I"
   },
   "labels_anchors": false,
   "latex_user_defs": false,
   "report_style_numbering": false,
   "user_envs_cfg": false
  },
  "toc": {
   "base_numbering": 1,
   "nav_menu": {},
   "number_sections": true,
   "sideBar": true,
   "skip_h1_title": false,
   "title_cell": "Table of Contents",
   "title_sidebar": "Contents",
   "toc_cell": false,
   "toc_position": {
    "height": "calc(100% - 180px)",
    "left": "10px",
    "top": "150px",
    "width": "316.4791564941406px"
   },
   "toc_section_display": true,
   "toc_window_display": true
  },
  "varInspector": {
   "cols": {
    "lenName": 16,
    "lenType": 16,
    "lenVar": 40
   },
   "kernels_config": {
    "python": {
     "delete_cmd_postfix": "",
     "delete_cmd_prefix": "del ",
     "library": "var_list.py",
     "varRefreshCmd": "print(var_dic_list())"
    },
    "r": {
     "delete_cmd_postfix": ") ",
     "delete_cmd_prefix": "rm(",
     "library": "var_list.r",
     "varRefreshCmd": "cat(var_dic_list()) "
    }
   },
   "types_to_exclude": [
    "module",
    "function",
    "builtin_function_or_method",
    "instance",
    "_Feature"
   ],
   "window_display": false
  }
 },
 "nbformat": 4,
 "nbformat_minor": 4
}
