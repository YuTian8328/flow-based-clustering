{
 "cells": [
  {
   "cell_type": "code",
   "execution_count": 1,
   "metadata": {
    "ExecuteTime": {
     "end_time": "2021-09-08T06:09:00.758681Z",
     "start_time": "2021-09-08T06:09:00.224512Z"
    }
   },
   "outputs": [],
   "source": [
    "import numpy as np\n",
    "import datetime\n",
    "\n",
    "import matplotlib.pyplot as plt\n",
    "from PIL import Image\n",
    "\n",
    "from scipy.sparse import csr_matrix\n",
    "import matplotlib.pyplot as plt\n",
    "\n",
    "from sklearn.cluster import KMeans"
   ]
  },
  {
   "cell_type": "code",
   "execution_count": 4,
   "metadata": {
    "ExecuteTime": {
     "end_time": "2021-09-08T06:09:01.516009Z",
     "start_time": "2021-09-08T06:09:00.911044Z"
    }
   },
   "outputs": [],
   "source": [
    "def get_B_and_weight_vec(matrix,threshold):\n",
    "    N = matrix.shape[0]\n",
    "    A = matrix\n",
    "\n",
    "    row = []\n",
    "    col = []\n",
    "    data = []\n",
    "    weight_vec = []\n",
    "    cnt = 0\n",
    "    for i in range(N):\n",
    "        for j in range(N):\n",
    "            if j <= i:\n",
    "                continue\n",
    "            if A[i, j] < threshold:   \n",
    "                A[i, j] = 0\n",
    "                A[j, i] = 0\n",
    "                continue\n",
    "            row.append(cnt)\n",
    "            col.append(i)\n",
    "            data.append(1)\n",
    "\n",
    "            row.append(cnt)\n",
    "            col.append(j)\n",
    "            data.append(-1)\n",
    "            cnt += 1\n",
    "            weight_vec.append(A[i, j])\n",
    "\n",
    "    B = csr_matrix((data, (row, col)), shape=(cnt, N))\n",
    "    weight_vec = np.array(weight_vec)\n",
    "    return B, weight_vec"
   ]
  },
  {
   "cell_type": "code",
   "execution_count": 6,
   "metadata": {
    "ExecuteTime": {
     "end_time": "2021-09-08T06:09:01.549874Z",
     "start_time": "2021-09-08T06:09:01.533600Z"
    }
   },
   "outputs": [],
   "source": [
    "def algorithm(B, weight_vec, seeds,K=15000,alpha=0.02, lambda_nLasso=None, check_s=False):\n",
    "    E, N = B.shape\n",
    "#     weight_vec = np.ones(E)\n",
    "\n",
    "    Gamma_vec = np.array(1./(np.sum(abs(B), 0)))[0]  # \\in [0, 1]\n",
    "    Gamma = np.diag(Gamma_vec)\n",
    "\n",
    "    Sigma = 0.5\n",
    "\n",
    "    seednodesindicator= np.zeros(N)\n",
    "    seednodesindicator[seeds] = 1        \n",
    "\n",
    "\n",
    "    \n",
    "    noseednodeindicator = np.ones(N)\n",
    "    noseednodeindicator[seeds] = 0\n",
    "    \n",
    "    if lambda_nLasso == None:\n",
    "        lambda_nLasso = 2 / math.sqrt(np.sum(weight_vec))\n",
    "    \n",
    "    if check_s:\n",
    "        s = 0.0\n",
    "        for item in range(len(weight_vec)):\n",
    "            x = B[item].toarray()[0]\n",
    "            i = np.where(x == -1)[0][0]\n",
    "            j = np.where(x == 1)[0][0]\n",
    "            if i < N1 <= j:\n",
    "                s += weight_vec[item]\n",
    "            elif i >= N1 > j:\n",
    "                s += weight_vec[item]\n",
    "\n",
    "        if lambda_nLasso * s >= alpha * N2 / 2:\n",
    "            print ('eq(24)', lambda_nLasso * s, alpha * N2 / 2)\n",
    "    \n",
    "    fac_alpha = 1./(Gamma_vec*alpha+1)  # \\in [0, 1]\n",
    "\n",
    "    hatx = np.zeros(N)\n",
    "    newx = np.zeros(N)\n",
    "    prevx = np.zeros(N)\n",
    "    haty = np.array([x/(E-1) for x in range(0, E)])\n",
    "    history = []\n",
    "    for iterk in range(K):\n",
    "        # if 0 < np.max(abs(newx - prevx)) < 1e-4:\n",
    "        #     print(iterk)\n",
    "        #     break\n",
    "        tildex = 2 * hatx - prevx\n",
    "        newy = haty + Sigma * B.dot(tildex)  # chould be negative\n",
    "        haty = newy / np.maximum(abs(newy) / (lambda_nLasso * weight_vec), np.ones(E))  # could be negative\n",
    "\n",
    "        newx = hatx - Gamma_vec * B.T.dot(haty)  # could  be negative\n",
    "        newx[seeds] = (newx[seeds] + Gamma_vec[seeds]) / (1 + Gamma_vec[seeds])\n",
    "\n",
    "        newx = seednodesindicator * newx + noseednodeindicator * (newx * fac_alpha)\n",
    "        prevx = np.copy(hatx)\n",
    "        hatx = newx  # could be negative\n",
    "        history.append(newx)\n",
    "    \n",
    "    history = np.array(history)\n",
    "\n",
    "    return history\n",
    "    \n",
    "    "
   ]
  },
  {
   "cell_type": "code",
   "execution_count": 59,
   "metadata": {
    "ExecuteTime": {
     "end_time": "2021-09-08T06:17:31.152014Z",
     "start_time": "2021-09-08T06:17:31.146482Z"
    }
   },
   "outputs": [],
   "source": [
    "img=Image.open(\"seven.png\")"
   ]
  },
  {
   "cell_type": "code",
   "execution_count": 60,
   "metadata": {
    "ExecuteTime": {
     "end_time": "2021-09-08T06:17:32.237260Z",
     "start_time": "2021-09-08T06:17:31.961508Z"
    },
    "scrolled": false
   },
   "outputs": [
    {
     "data": {
      "text/plain": [
       "<matplotlib.image.AxesImage at 0x7f7f768c2750>"
      ]
     },
     "execution_count": 60,
     "metadata": {},
     "output_type": "execute_result"
    },
    {
     "data": {
      "image/png": "[encoded data removed]",
      "text/plain": [
       "<Figure size 432x288 with 1 Axes>"
      ]
     },
     "metadata": {
      "needs_background": "light"
     },
     "output_type": "display_data"
    }
   ],
   "source": [
    "plt.imshow(img)"
   ]
  },
  {
   "cell_type": "code",
   "execution_count": 90,
   "metadata": {
    "ExecuteTime": {
     "end_time": "2021-09-08T06:34:58.987982Z",
     "start_time": "2021-09-08T06:34:58.978108Z"
    }
   },
   "outputs": [
    {
     "data": {
      "text/plain": [
       "21"
      ]
     },
     "execution_count": 90,
     "metadata": {},
     "output_type": "execute_result"
    }
   ],
   "source": [
    "seven = np.array(img.resize((30,30)))\n",
    "seven_seeds = np.copy(seven)\n",
    "seven.max()"
   ]
  },
  {
   "cell_type": "code",
   "execution_count": 92,
   "metadata": {
    "ExecuteTime": {
     "end_time": "2021-09-08T06:35:15.638600Z",
     "start_time": "2021-09-08T06:35:15.626008Z"
    }
   },
   "outputs": [],
   "source": [
    "seven_seeds[20:23,15:17]=30\n",
    "seven_seeds[2:7,20:24]=30\n",
    "Image.fromarray(seven_seeds*10).save('seven_seeds.png')"
   ]
  },
  {
   "cell_type": "code",
   "execution_count": 93,
   "metadata": {
    "ExecuteTime": {
     "end_time": "2021-09-08T06:35:16.392624Z",
     "start_time": "2021-09-08T06:35:16.186766Z"
    },
    "scrolled": true
   },
   "outputs": [
    {
     "data": {
      "text/plain": [
       "<matplotlib.image.AxesImage at 0x7f7f84643f50>"
      ]
     },
     "execution_count": 93,
     "metadata": {},
     "output_type": "execute_result"
    },
    {
     "data": {
      "image/png": "[encoded data removed]",
      "text/plain": [
       "<Figure size 432x288 with 1 Axes>"
      ]
     },
     "metadata": {
      "needs_background": "light"
     },
     "output_type": "display_data"
    }
   ],
   "source": [
    "plt.imshow(seven_seeds.reshape((30,30)))"
   ]
  },
  {
   "cell_type": "code",
   "execution_count": 89,
   "metadata": {
    "ExecuteTime": {
     "end_time": "2021-09-08T06:32:29.064259Z",
     "start_time": "2021-09-08T06:32:22.620160Z"
    }
   },
   "outputs": [
    {
     "name": "stderr",
     "output_type": "stream",
     "text": [
      "/opt/anaconda3/lib/python3.7/site-packages/ipykernel_launcher.py:9: RuntimeWarning: overflow encountered in ubyte_scalars\n",
      "  if __name__ == '__main__':\n"
     ]
    },
    {
     "data": {
      "text/plain": [
       "(array([101883.,      0.,      0.,      0.,      0.,      0.,      0.,\n",
       "             0.,      0., 708117.]),\n",
       " array([0. , 0.1, 0.2, 0.3, 0.4, 0.5, 0.6, 0.7, 0.8, 0.9, 1. ]),\n",
       " <a list of 10 Patch objects>)"
      ]
     },
     "execution_count": 89,
     "metadata": {},
     "output_type": "execute_result"
    },
    {
     "data": {
      "image/png": "[encoded data removed]",
      "text/plain": [
       "<Figure size 432x288 with 1 Axes>"
      ]
     },
     "metadata": {
      "needs_background": "light"
     },
     "output_type": "display_data"
    }
   ],
   "source": [
    "# generate similarity matrix by using equation (1)\n",
    "sigma = 100\n",
    "s_matrix = np.zeros((900,900))\n",
    "for i in range(900):\n",
    "    for j in range(900):\n",
    "        if i==j:\n",
    "            continue\n",
    "        else:\n",
    "            s_matrix[i][j] = np.exp((-(seven.flatten()[i]-seven.flatten()[j])**2)/(2*sigma**2)) # Equation 1\n",
    "\n",
    "plt.hist(s_matrix.flatten())  #distribution of similarity measure"
   ]
  },
  {
   "cell_type": "code",
   "execution_count": 95,
   "metadata": {
    "ExecuteTime": {
     "end_time": "2021-09-08T06:35:58.732814Z",
     "start_time": "2021-09-08T06:35:58.727043Z"
    }
   },
   "outputs": [],
   "source": [
    "def run_seg(matrix,seeds,threshold, K=30, alpha=0.1, lambda_nLasso=0.1):\n",
    "    B, weight_vec = get_B_and_weight_vec(matrix,threshold)\n",
    "    \n",
    "    start = datetime.datetime.now()\n",
    "    history = algorithm(B, weight_vec, seeds=seeds, K=K, alpha=alpha, lambda_nLasso=lambda_nLasso)\n",
    "    print('our method time: ', datetime.datetime.now() - start)    \n",
    "    return history"
   ]
  },
  {
   "cell_type": "code",
   "execution_count": 96,
   "metadata": {
    "ExecuteTime": {
     "end_time": "2021-09-08T06:37:10.927496Z",
     "start_time": "2021-09-08T06:37:10.919083Z"
    }
   },
   "outputs": [
    {
     "data": {
      "text/plain": [
       "array([140, 142, 676, 616, 645, 141, 675,  80, 113,  80])"
      ]
     },
     "execution_count": 96,
     "metadata": {},
     "output_type": "execute_result"
    }
   ],
   "source": [
    "#get seeds indices\n",
    "seeds = np.random.choice(np.argwhere(seven_seeds.flatten()==30).squeeze(),10)\n",
    "seeds"
   ]
  },
  {
   "cell_type": "code",
   "execution_count": 97,
   "metadata": {
    "ExecuteTime": {
     "end_time": "2021-09-08T06:37:16.153530Z",
     "start_time": "2021-09-08T06:37:12.573824Z"
    }
   },
   "outputs": [
    {
     "name": "stdout",
     "output_type": "stream",
     "text": [
      "our method time:  0:00:00.302970\n"
     ]
    },
    {
     "data": {
      "text/plain": [
       "<BarContainer object of 900 artists>"
      ]
     },
     "execution_count": 97,
     "metadata": {},
     "output_type": "execute_result"
    },
    {
     "data": {
      "image/png": "[encoded data removed]",
      "text/plain": [
       "<Figure size 432x288 with 1 Axes>"
      ]
     },
     "metadata": {
      "needs_background": "light"
     },
     "output_type": "display_data"
    }
   ],
   "source": [
    "history = run_seg(s_matrix,seeds=seeds,threshold = 0.9, K=20,alpha=0.01, lambda_nLasso=0.1)\n",
    "plt.bar(range(900),history[-1].flatten())"
   ]
  },
  {
   "cell_type": "code",
   "execution_count": 42,
   "metadata": {
    "ExecuteTime": {
     "end_time": "2021-09-08T06:14:28.031894Z",
     "start_time": "2021-09-08T06:14:27.792920Z"
    },
    "scrolled": true
   },
   "outputs": [
    {
     "data": {
      "text/plain": [
       "<matplotlib.image.AxesImage at 0x7f7f787ce290>"
      ]
     },
     "execution_count": 42,
     "metadata": {},
     "output_type": "execute_result"
    },
    {
     "data": {
      "image/png": "[encoded data removed]",
      "text/plain": [
       "<Figure size 432x288 with 1 Axes>"
      ]
     },
     "metadata": {
      "needs_background": "light"
     },
     "output_type": "display_data"
    }
   ],
   "source": [
    "plt.imshow(history[-1].reshape(30,30),\"gray\")"
   ]
  },
  {
   "cell_type": "code",
   "execution_count": 41,
   "metadata": {
    "ExecuteTime": {
     "end_time": "2021-09-08T06:14:26.886965Z",
     "start_time": "2021-09-08T06:14:26.833967Z"
    }
   },
   "outputs": [],
   "source": [
    "# Run kmeans to achieve clustering (2 clusters)\n",
    "kmeans = KMeans(n_clusters=2, random_state=0).fit(history[-1].reshape(len(history[-1]), 1))"
   ]
  },
  {
   "cell_type": "code",
   "execution_count": 98,
   "metadata": {
    "ExecuteTime": {
     "end_time": "2021-09-08T06:38:44.547110Z",
     "start_time": "2021-09-08T06:38:44.295012Z"
    },
    "scrolled": false
   },
   "outputs": [
    {
     "data": {
      "image/png": "[encoded data removed]",
      "text/plain": [
       "<Figure size 432x288 with 1 Axes>"
      ]
     },
     "metadata": {
      "needs_background": "light"
     },
     "output_type": "display_data"
    }
   ],
   "source": [
    "segmented = kmeans.labels_\n",
    "plt.imshow(segmented.reshape((30,30)))  # run 20 iterations\n",
    "plt.savefig('seven_seg.jpg')"
   ]
  },
  {
   "cell_type": "code",
   "execution_count": null,
   "metadata": {},
   "outputs": [],
   "source": []
  },
  {
   "cell_type": "code",
   "execution_count": null,
   "metadata": {},
   "outputs": [],
   "source": []
  }
 ],
 "metadata": {
  "kernelspec": {
   "display_name": "Python 3",
   "language": "python",
   "name": "python3"
  },
  "language_info": {
   "codemirror_mode": {
    "name": "ipython",
    "version": 3
   },
   "file_extension": ".py",
   "mimetype": "text/x-python",
   "name": "python",
   "nbconvert_exporter": "python",
   "pygments_lexer": "ipython3",
   "version": "3.7.6"
  },
  "latex_envs": {
   "LaTeX_envs_menu_present": true,
   "autoclose": false,
   "autocomplete": true,
   "bibliofile": "biblio.bib",
   "cite_by": "apalike",
   "current_citInitial": 1,
   "eqLabelWithNumbers": true,
   "eqNumInitial": 1,
   "hotkeys": {
    "equation": "Ctrl-E",
    "itemize": "Ctrl-I"
   },
   "labels_anchors": false,
   "latex_user_defs": false,
   "report_style_numbering": false,
   "user_envs_cfg": false
  },
  "toc": {
   "base_numbering": 1,
   "nav_menu": {},
   "number_sections": true,
   "sideBar": true,
   "skip_h1_title": false,
   "title_cell": "Table of Contents",
   "title_sidebar": "Contents",
   "toc_cell": false,
   "toc_position": {},
   "toc_section_display": true,
   "toc_window_display": false
  },
  "varInspector": {
   "cols": {
    "lenName": 16,
    "lenType": 16,
    "lenVar": 40
   },
   "kernels_config": {
    "python": {
     "delete_cmd_postfix": "",
     "delete_cmd_prefix": "del ",
     "library": "var_list.py",
     "varRefreshCmd": "print(var_dic_list())"
    },
    "r": {
     "delete_cmd_postfix": ") ",
     "delete_cmd_prefix": "rm(",
     "library": "var_list.r",
     "varRefreshCmd": "cat(var_dic_list()) "
    }
   },
   "types_to_exclude": [
    "module",
    "function",
    "builtin_function_or_method",
    "instance",
    "_Feature"
   ],
   "window_display": false
  }
 },
 "nbformat": 4,
 "nbformat_minor": 4
}
