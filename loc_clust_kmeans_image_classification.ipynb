{
 "cells": [
  {
   "cell_type": "code",
   "execution_count": 8,
   "metadata": {
    "ExecuteTime": {
     "end_time": "2021-09-08T06:48:25.522758Z",
     "start_time": "2021-09-08T06:48:25.515731Z"
    }
   },
   "outputs": [],
   "source": [
    "import pandas as pd\n",
    "import random\n",
    "import math\n",
    "import datetime\n",
    "\n",
    "from sklearn.metrics import accuracy_score\n",
    "from sklearn.cluster import KMeans, spectral_clustering, SpectralClustering\n",
    "from scipy.sparse import csr_matrix\n",
    "import matplotlib.pyplot as plt\n",
    "\n",
    "from numpy.random import normal\n",
    "import numpy as np\n",
    "from scipy.sparse import csr_matrix\n",
    "from sklearn.manifold import TSNE\n",
    "\n",
    "import matplotlib.pyplot as plt\n",
    "import matplotlib.image as mpimg\n",
    "from PIL import Image"
   ]
  },
  {
   "cell_type": "code",
   "execution_count": 9,
   "metadata": {
    "ExecuteTime": {
     "end_time": "2021-09-08T06:48:36.569143Z",
     "start_time": "2021-09-08T06:48:32.057403Z"
    }
   },
   "outputs": [],
   "source": [
    "mnist = pd.read_csv('mnist_train.csv')"
   ]
  },
  {
   "cell_type": "code",
   "execution_count": 8,
   "metadata": {
    "ExecuteTime": {
     "end_time": "2021-05-06T11:37:51.713397Z",
     "start_time": "2021-05-06T11:37:51.697713Z"
    }
   },
   "outputs": [],
   "source": [
    "def get_B_and_weight_vec(matrix,threshold):\n",
    "    N = matrix.shape[0]\n",
    "    A = np.copy(matrix)\n",
    "\n",
    "    row = []\n",
    "    col = []\n",
    "    data = []\n",
    "    weight_vec = []\n",
    "    cnt = 0\n",
    "    for i in range(N):\n",
    "        for j in range(N):\n",
    "            if j <= i:\n",
    "                continue\n",
    "            if A[i, j] < threshold: \n",
    "                A[i, j] = 0\n",
    "                A[j, i] = 0\n",
    "                continue\n",
    "            row.append(cnt)\n",
    "            col.append(i)\n",
    "            data.append(1)\n",
    "\n",
    "            row.append(cnt)\n",
    "            col.append(j)\n",
    "            data.append(-1)\n",
    "            cnt += 1\n",
    "            weight_vec.append(A[i, j])\n",
    "\n",
    "    B = csr_matrix((data, (row, col)), shape=(cnt, N))\n",
    "    weight_vec = np.array(weight_vec)\n",
    "    return A, B, weight_vec"
   ]
  },
  {
   "cell_type": "code",
   "execution_count": 10,
   "metadata": {
    "ExecuteTime": {
     "end_time": "2021-05-06T11:38:13.163720Z",
     "start_time": "2021-05-06T11:38:13.147741Z"
    }
   },
   "outputs": [],
   "source": [
    "\n",
    "def algorithm(B, weight_vec, seeds, K=15000, alpha=0.01, lambda_nLasso=None, check_s=False):\n",
    "    E, N = B.shape\n",
    "#     weight_vec = np.ones(E)\n",
    "\n",
    "    Gamma_vec = np.array(1./(np.sum(abs(B), 0)))[0]  # \\in [0, 1]\n",
    "    Gamma = np.diag(Gamma_vec)\n",
    "\n",
    "    Sigma = 0.5\n",
    "    samplingset = seeds\n",
    "\n",
    "    seednodesindicator= np.zeros(N)\n",
    "    seednodesindicator[samplingset] = 1\n",
    "    \n",
    "    \n",
    "    noseednodeindicator = np.ones(N)\n",
    "    noseednodeindicator[samplingset] = 0\n",
    "    \n",
    "    \n",
    "    if lambda_nLasso == None:\n",
    "        lambda_nLasso = 2 / math.sqrt(np.sum(weight_vec))\n",
    "    \n",
    "    if check_s:\n",
    "        s = 0.0\n",
    "        for item in range(len(weight_vec)):\n",
    "            x = B[item].toarray()[0]\n",
    "            i = np.where(x == -1)[0][0]\n",
    "            j = np.where(x == 1)[0][0]\n",
    "            if i < N1 <= j:\n",
    "                s += weight_vec[item]\n",
    "            elif i >= N1 > j:\n",
    "                s += weight_vec[item]\n",
    "\n",
    "        if lambda_nLasso * s >= alpha * N2 / 2:\n",
    "            print ('eq(24)', lambda_nLasso * s, alpha * N2 / 2)\n",
    "    \n",
    "    fac_alpha = 1./(Gamma_vec*alpha+1)  # \\in [0, 1]\n",
    "\n",
    "    hatx = np.zeros(N)\n",
    "    newx = np.zeros(N)\n",
    "    prevx = np.zeros(N)\n",
    "    haty = np.array([x/(E-1) for x in range(0, E)])\n",
    "    history = []\n",
    "    for iterk in range(K):\n",
    "        # if 0 < np.max(abs(newx - prevx)) < 1e-4:\n",
    "        #     print(iterk)\n",
    "        #     break\n",
    "        tildex = 2 * hatx - prevx\n",
    "        newy = haty + Sigma * B.dot(tildex)  # chould be negative\n",
    "        haty = newy / np.maximum(abs(newy) / (lambda_nLasso * weight_vec), np.ones(E))  # could be negative\n",
    "\n",
    "        newx = hatx - Gamma_vec * B.T.dot(haty)  # could  be negative\n",
    "        newx[samplingset] = (newx[samplingset] + Gamma_vec[samplingset]) / (1 + Gamma_vec[samplingset])\n",
    "\n",
    "        newx = seednodesindicator * newx + noseednodeindicator * (newx * fac_alpha)\n",
    "        prevx = np.copy(hatx)\n",
    "        hatx = newx  # could be negative\n",
    "        history.append(newx)\n",
    "    \n",
    "    history = np.array(history)\n",
    "\n",
    "    return history\n",
    "    \n",
    "    "
   ]
  },
  {
   "cell_type": "markdown",
   "metadata": {},
   "source": [
    "# image custering on MNIST dataset: 2 clusters"
   ]
  },
  {
   "cell_type": "code",
   "execution_count": 98,
   "metadata": {
    "ExecuteTime": {
     "end_time": "2021-05-06T11:54:26.224554Z",
     "start_time": "2021-05-06T11:54:26.068200Z"
    }
   },
   "outputs": [],
   "source": [
    "mnist_3 = mnist[mnist['label']==3].iloc[:100,:]\n",
    "\n",
    "mnist_1 = mnist[mnist['label']==1].iloc[:100,:]\n",
    "\n",
    "digits=mnist_3.append(mnist_1)\n",
    "digits = digits.sample(frac=1,random_state=42).reset_index(drop=True)"
   ]
  },
  {
   "cell_type": "code",
   "execution_count": 104,
   "metadata": {
    "ExecuteTime": {
     "end_time": "2021-05-06T11:55:06.130320Z",
     "start_time": "2021-05-06T11:55:06.108650Z"
    }
   },
   "outputs": [
    {
     "data": {
      "text/html": [
       "<div>\n",
       "<style scoped>\n",
       "    .dataframe tbody tr th:only-of-type {\n",
       "        vertical-align: middle;\n",
       "    }\n",
       "\n",
       "    .dataframe tbody tr th {\n",
       "        vertical-align: top;\n",
       "    }\n",
       "\n",
       "    .dataframe thead th {\n",
       "        text-align: right;\n",
       "    }\n",
       "</style>\n",
       "<table border=\"1\" class=\"dataframe\">\n",
       "  <thead>\n",
       "    <tr style=\"text-align: right;\">\n",
       "      <th></th>\n",
       "      <th>label</th>\n",
       "      <th>1x1</th>\n",
       "      <th>1x2</th>\n",
       "      <th>1x3</th>\n",
       "      <th>1x4</th>\n",
       "      <th>1x5</th>\n",
       "      <th>1x6</th>\n",
       "      <th>1x7</th>\n",
       "      <th>1x8</th>\n",
       "      <th>1x9</th>\n",
       "      <th>...</th>\n",
       "      <th>28x19</th>\n",
       "      <th>28x20</th>\n",
       "      <th>28x21</th>\n",
       "      <th>28x22</th>\n",
       "      <th>28x23</th>\n",
       "      <th>28x24</th>\n",
       "      <th>28x25</th>\n",
       "      <th>28x26</th>\n",
       "      <th>28x27</th>\n",
       "      <th>28x28</th>\n",
       "    </tr>\n",
       "  </thead>\n",
       "  <tbody>\n",
       "    <tr>\n",
       "      <th>0</th>\n",
       "      <td>3</td>\n",
       "      <td>0</td>\n",
       "      <td>0</td>\n",
       "      <td>0</td>\n",
       "      <td>0</td>\n",
       "      <td>0</td>\n",
       "      <td>0</td>\n",
       "      <td>0</td>\n",
       "      <td>0</td>\n",
       "      <td>0</td>\n",
       "      <td>...</td>\n",
       "      <td>0</td>\n",
       "      <td>0</td>\n",
       "      <td>0</td>\n",
       "      <td>0</td>\n",
       "      <td>0</td>\n",
       "      <td>0</td>\n",
       "      <td>0</td>\n",
       "      <td>0</td>\n",
       "      <td>0</td>\n",
       "      <td>0</td>\n",
       "    </tr>\n",
       "    <tr>\n",
       "      <th>1</th>\n",
       "      <td>3</td>\n",
       "      <td>0</td>\n",
       "      <td>0</td>\n",
       "      <td>0</td>\n",
       "      <td>0</td>\n",
       "      <td>0</td>\n",
       "      <td>0</td>\n",
       "      <td>0</td>\n",
       "      <td>0</td>\n",
       "      <td>0</td>\n",
       "      <td>...</td>\n",
       "      <td>0</td>\n",
       "      <td>0</td>\n",
       "      <td>0</td>\n",
       "      <td>0</td>\n",
       "      <td>0</td>\n",
       "      <td>0</td>\n",
       "      <td>0</td>\n",
       "      <td>0</td>\n",
       "      <td>0</td>\n",
       "      <td>0</td>\n",
       "    </tr>\n",
       "    <tr>\n",
       "      <th>2</th>\n",
       "      <td>3</td>\n",
       "      <td>0</td>\n",
       "      <td>0</td>\n",
       "      <td>0</td>\n",
       "      <td>0</td>\n",
       "      <td>0</td>\n",
       "      <td>0</td>\n",
       "      <td>0</td>\n",
       "      <td>0</td>\n",
       "      <td>0</td>\n",
       "      <td>...</td>\n",
       "      <td>0</td>\n",
       "      <td>0</td>\n",
       "      <td>0</td>\n",
       "      <td>0</td>\n",
       "      <td>0</td>\n",
       "      <td>0</td>\n",
       "      <td>0</td>\n",
       "      <td>0</td>\n",
       "      <td>0</td>\n",
       "      <td>0</td>\n",
       "    </tr>\n",
       "    <tr>\n",
       "      <th>3</th>\n",
       "      <td>1</td>\n",
       "      <td>0</td>\n",
       "      <td>0</td>\n",
       "      <td>0</td>\n",
       "      <td>0</td>\n",
       "      <td>0</td>\n",
       "      <td>0</td>\n",
       "      <td>0</td>\n",
       "      <td>0</td>\n",
       "      <td>0</td>\n",
       "      <td>...</td>\n",
       "      <td>0</td>\n",
       "      <td>0</td>\n",
       "      <td>0</td>\n",
       "      <td>0</td>\n",
       "      <td>0</td>\n",
       "      <td>0</td>\n",
       "      <td>0</td>\n",
       "      <td>0</td>\n",
       "      <td>0</td>\n",
       "      <td>0</td>\n",
       "    </tr>\n",
       "    <tr>\n",
       "      <th>4</th>\n",
       "      <td>1</td>\n",
       "      <td>0</td>\n",
       "      <td>0</td>\n",
       "      <td>0</td>\n",
       "      <td>0</td>\n",
       "      <td>0</td>\n",
       "      <td>0</td>\n",
       "      <td>0</td>\n",
       "      <td>0</td>\n",
       "      <td>0</td>\n",
       "      <td>...</td>\n",
       "      <td>0</td>\n",
       "      <td>0</td>\n",
       "      <td>0</td>\n",
       "      <td>0</td>\n",
       "      <td>0</td>\n",
       "      <td>0</td>\n",
       "      <td>0</td>\n",
       "      <td>0</td>\n",
       "      <td>0</td>\n",
       "      <td>0</td>\n",
       "    </tr>\n",
       "    <tr>\n",
       "      <th>5</th>\n",
       "      <td>1</td>\n",
       "      <td>0</td>\n",
       "      <td>0</td>\n",
       "      <td>0</td>\n",
       "      <td>0</td>\n",
       "      <td>0</td>\n",
       "      <td>0</td>\n",
       "      <td>0</td>\n",
       "      <td>0</td>\n",
       "      <td>0</td>\n",
       "      <td>...</td>\n",
       "      <td>0</td>\n",
       "      <td>0</td>\n",
       "      <td>0</td>\n",
       "      <td>0</td>\n",
       "      <td>0</td>\n",
       "      <td>0</td>\n",
       "      <td>0</td>\n",
       "      <td>0</td>\n",
       "      <td>0</td>\n",
       "      <td>0</td>\n",
       "    </tr>\n",
       "    <tr>\n",
       "      <th>6</th>\n",
       "      <td>3</td>\n",
       "      <td>0</td>\n",
       "      <td>0</td>\n",
       "      <td>0</td>\n",
       "      <td>0</td>\n",
       "      <td>0</td>\n",
       "      <td>0</td>\n",
       "      <td>0</td>\n",
       "      <td>0</td>\n",
       "      <td>0</td>\n",
       "      <td>...</td>\n",
       "      <td>0</td>\n",
       "      <td>0</td>\n",
       "      <td>0</td>\n",
       "      <td>0</td>\n",
       "      <td>0</td>\n",
       "      <td>0</td>\n",
       "      <td>0</td>\n",
       "      <td>0</td>\n",
       "      <td>0</td>\n",
       "      <td>0</td>\n",
       "    </tr>\n",
       "    <tr>\n",
       "      <th>7</th>\n",
       "      <td>1</td>\n",
       "      <td>0</td>\n",
       "      <td>0</td>\n",
       "      <td>0</td>\n",
       "      <td>0</td>\n",
       "      <td>0</td>\n",
       "      <td>0</td>\n",
       "      <td>0</td>\n",
       "      <td>0</td>\n",
       "      <td>0</td>\n",
       "      <td>...</td>\n",
       "      <td>0</td>\n",
       "      <td>0</td>\n",
       "      <td>0</td>\n",
       "      <td>0</td>\n",
       "      <td>0</td>\n",
       "      <td>0</td>\n",
       "      <td>0</td>\n",
       "      <td>0</td>\n",
       "      <td>0</td>\n",
       "      <td>0</td>\n",
       "    </tr>\n",
       "    <tr>\n",
       "      <th>8</th>\n",
       "      <td>1</td>\n",
       "      <td>0</td>\n",
       "      <td>0</td>\n",
       "      <td>0</td>\n",
       "      <td>0</td>\n",
       "      <td>0</td>\n",
       "      <td>0</td>\n",
       "      <td>0</td>\n",
       "      <td>0</td>\n",
       "      <td>0</td>\n",
       "      <td>...</td>\n",
       "      <td>0</td>\n",
       "      <td>0</td>\n",
       "      <td>0</td>\n",
       "      <td>0</td>\n",
       "      <td>0</td>\n",
       "      <td>0</td>\n",
       "      <td>0</td>\n",
       "      <td>0</td>\n",
       "      <td>0</td>\n",
       "      <td>0</td>\n",
       "    </tr>\n",
       "    <tr>\n",
       "      <th>9</th>\n",
       "      <td>3</td>\n",
       "      <td>0</td>\n",
       "      <td>0</td>\n",
       "      <td>0</td>\n",
       "      <td>0</td>\n",
       "      <td>0</td>\n",
       "      <td>0</td>\n",
       "      <td>0</td>\n",
       "      <td>0</td>\n",
       "      <td>0</td>\n",
       "      <td>...</td>\n",
       "      <td>0</td>\n",
       "      <td>0</td>\n",
       "      <td>0</td>\n",
       "      <td>0</td>\n",
       "      <td>0</td>\n",
       "      <td>0</td>\n",
       "      <td>0</td>\n",
       "      <td>0</td>\n",
       "      <td>0</td>\n",
       "      <td>0</td>\n",
       "    </tr>\n",
       "  </tbody>\n",
       "</table>\n",
       "<p>10 rows × 785 columns</p>\n",
       "</div>"
      ],
      "text/plain": [
       "   label  1x1  1x2  1x3  1x4  1x5  1x6  1x7  1x8  1x9  ...  28x19  28x20  \\\n",
       "0      3    0    0    0    0    0    0    0    0    0  ...      0      0   \n",
       "1      3    0    0    0    0    0    0    0    0    0  ...      0      0   \n",
       "2      3    0    0    0    0    0    0    0    0    0  ...      0      0   \n",
       "3      1    0    0    0    0    0    0    0    0    0  ...      0      0   \n",
       "4      1    0    0    0    0    0    0    0    0    0  ...      0      0   \n",
       "5      1    0    0    0    0    0    0    0    0    0  ...      0      0   \n",
       "6      3    0    0    0    0    0    0    0    0    0  ...      0      0   \n",
       "7      1    0    0    0    0    0    0    0    0    0  ...      0      0   \n",
       "8      1    0    0    0    0    0    0    0    0    0  ...      0      0   \n",
       "9      3    0    0    0    0    0    0    0    0    0  ...      0      0   \n",
       "\n",
       "   28x21  28x22  28x23  28x24  28x25  28x26  28x27  28x28  \n",
       "0      0      0      0      0      0      0      0      0  \n",
       "1      0      0      0      0      0      0      0      0  \n",
       "2      0      0      0      0      0      0      0      0  \n",
       "3      0      0      0      0      0      0      0      0  \n",
       "4      0      0      0      0      0      0      0      0  \n",
       "5      0      0      0      0      0      0      0      0  \n",
       "6      0      0      0      0      0      0      0      0  \n",
       "7      0      0      0      0      0      0      0      0  \n",
       "8      0      0      0      0      0      0      0      0  \n",
       "9      0      0      0      0      0      0      0      0  \n",
       "\n",
       "[10 rows x 785 columns]"
      ]
     },
     "execution_count": 104,
     "metadata": {},
     "output_type": "execute_result"
    }
   ],
   "source": [
    "digits.head(10)"
   ]
  },
  {
   "cell_type": "code",
   "execution_count": 100,
   "metadata": {
    "ExecuteTime": {
     "end_time": "2021-05-06T11:54:28.346336Z",
     "start_time": "2021-05-06T11:54:28.133813Z"
    },
    "scrolled": true
   },
   "outputs": [
    {
     "data": {
      "text/plain": [
       "<matplotlib.image.AxesImage at 0x7ffbc9e3f310>"
      ]
     },
     "execution_count": 100,
     "metadata": {},
     "output_type": "execute_result"
    },
    {
     "data": {
      "image/png": "[encoded data removed]",
      "text/plain": [
       "<Figure size 432x288 with 1 Axes>"
      ]
     },
     "metadata": {
      "needs_background": "light"
     },
     "output_type": "display_data"
    }
   ],
   "source": [
    "plt.imshow(digits.iloc[5,1:].values.reshape(28,28))"
   ]
  },
  {
   "cell_type": "markdown",
   "metadata": {},
   "source": [
    "## Apply T-sne first and then generate adjecency matrix with Spectral Clustering"
   ]
  },
  {
   "cell_type": "code",
   "execution_count": 182,
   "metadata": {
    "ExecuteTime": {
     "end_time": "2021-05-06T12:18:49.591797Z",
     "start_time": "2021-05-06T12:18:48.542818Z"
    }
   },
   "outputs": [],
   "source": [
    "true_labels = np.array([0 if i==3 else 1 for i in digits.label])\n",
    "\n",
    "tsne = TSNE(n_components=2)\n",
    "X = tsne.fit_transform(digits.iloc[:,1:])"
   ]
  },
  {
   "cell_type": "code",
   "execution_count": 183,
   "metadata": {
    "ExecuteTime": {
     "end_time": "2021-05-06T12:18:50.587108Z",
     "start_time": "2021-05-06T12:18:49.829207Z"
    },
    "scrolled": true
   },
   "outputs": [
    {
     "data": {
      "image/png": "[encoded data removed]",
      "text/plain": [
       "<Figure size 432x432 with 1 Axes>"
      ]
     },
     "metadata": {
      "needs_background": "light"
     },
     "output_type": "display_data"
    }
   ],
   "source": [
    "colors=['b',\"r\",'b','b','b','b','b','b','b','b']\n",
    "plt.figure(figsize=(6,6))\n",
    "plt.xlim(X[:,0].min(),X[:,1].max()+10)\n",
    "plt.ylim(X[:,0].min(),X[:,1].max()+8)\n",
    "for i in range(200):\n",
    "    plt.text(X[i,0],X[i,1],str(digits.label[i]),color=colors[digits.label[i]],fontdict={'weight':'bold','size':19})"
   ]
  },
  {
   "cell_type": "code",
   "execution_count": 184,
   "metadata": {
    "ExecuteTime": {
     "end_time": "2021-05-06T12:18:50.845853Z",
     "start_time": "2021-05-06T12:18:50.836585Z"
    }
   },
   "outputs": [],
   "source": [
    "def run_digit(affinity_matrix, threshold,seeds, K=1000, alpha=0.01, lambda_nLasso=0.1):\n",
    "#     points = get_spirals(N1, N2)\n",
    "    A,B, weight_vec = get_B_and_weight_vec(affinity_matrix,threshold)\n",
    "    \n",
    "    start = datetime.datetime.now()\n",
    "    history = algorithm(B, weight_vec,seeds, K=K, alpha=alpha, lambda_nLasso=lambda_nLasso)\n",
    "    print('our method time: ', datetime.datetime.now() - start)\n",
    "    \n",
    "    start = datetime.datetime.now()\n",
    "    spectral_labels = spectral_clustering(affinity_matrix,n_clusters=2)\n",
    "    print ('spectral clustering time: ', datetime.datetime.now() - start)\n",
    "    print(affinity_matrix.mean())\n",
    "    return history,spectral_labels"
   ]
  },
  {
   "cell_type": "code",
   "execution_count": 185,
   "metadata": {
    "ExecuteTime": {
     "end_time": "2021-05-06T12:18:51.251266Z",
     "start_time": "2021-05-06T12:18:51.029579Z"
    }
   },
   "outputs": [
    {
     "name": "stdout",
     "output_type": "stream",
     "text": [
      "0.010189597974677684\n"
     ]
    }
   ],
   "source": [
    "Affinity_Matrix=SpectralClustering(2).fit(X).affinity_matrix_\n",
    "print(Affinity_Matrix.mean())"
   ]
  },
  {
   "cell_type": "code",
   "execution_count": 186,
   "metadata": {
    "ExecuteTime": {
     "end_time": "2021-05-06T12:18:52.007275Z",
     "start_time": "2021-05-06T12:18:51.796204Z"
    },
    "scrolled": true
   },
   "outputs": [
    {
     "name": "stdout",
     "output_type": "stream",
     "text": [
      "our method time:  0:00:00.042376\n",
      "spectral clustering time:  0:00:00.140287\n",
      "0.010189597974677684\n"
     ]
    },
    {
     "name": "stderr",
     "output_type": "stream",
     "text": [
      "/opt/anaconda3/lib/python3.7/site-packages/ipykernel_launcher.py:5: RuntimeWarning: divide by zero encountered in true_divide\n",
      "  \"\"\"\n",
      "/opt/anaconda3/lib/python3.7/site-packages/ipykernel_launcher.py:51: RuntimeWarning: invalid value encountered in multiply\n"
     ]
    }
   ],
   "source": [
    "num_seeds = 0.2*100\n",
    "seeds = np.random.choice(np.argwhere(digits.label.values==1).squeeze(),int(num_seeds))\n",
    "history,spectral_labels = run_digit(Affinity_Matrix,threshold=0.015,K=300, seeds=seeds, \\\n",
    "                                    alpha=0.02, lambda_nLasso=0.1)\n",
    "# history[-1]"
   ]
  },
  {
   "cell_type": "code",
   "execution_count": 187,
   "metadata": {
    "ExecuteTime": {
     "end_time": "2021-05-06T12:18:52.958293Z",
     "start_time": "2021-05-06T12:18:52.912338Z"
    }
   },
   "outputs": [
    {
     "name": "stdout",
     "output_type": "stream",
     "text": [
      "our method accuracy:  0.97\n",
      "spectral clustering accuracy:  0.955\n"
     ]
    }
   ],
   "source": [
    "kmeans = KMeans(n_clusters=2, random_state=0).fit(np.nan_to_num(history[-1].reshape(-1,1)))\n",
    "if sum(kmeans.labels_ == true_labels) >= 100:\n",
    "    print('our method accuracy: ', sum(kmeans.labels_ == true_labels)/len(true_labels))\n",
    "else:\n",
    "    print('our method accuracy: ', (len(true_labels)-sum(kmeans.labels_ == true_labels))/len(true_labels))\n",
    "\n",
    "if sum(spectral_labels == true_labels) >= 100:\n",
    "    print('spectral clustering accuracy: ', sum(spectral_labels== true_labels)/len(true_labels))\n",
    "else:\n",
    "    print('spectral clustering accuracy: ', (len(true_labels)-sum(spectral_labels == true_labels))/len(true_labels))\n",
    "    "
   ]
  },
  {
   "cell_type": "markdown",
   "metadata": {},
   "source": [
    "## generate adjacency matrix from high dimentional space based on neighbor probabilty"
   ]
  },
  {
   "cell_type": "code",
   "execution_count": 195,
   "metadata": {
    "ExecuteTime": {
     "end_time": "2021-05-06T12:20:43.229289Z",
     "start_time": "2021-05-06T12:20:02.688400Z"
    }
   },
   "outputs": [],
   "source": [
    "from numpy.linalg import norm\n",
    "weig_mat_prob = np.zeros((200,200))    #adjacency matrix based on neighbor probabilty.\n",
    "for i in range(200):\n",
    "    for j in range(200):\n",
    "        if i == j:\n",
    "            continue\n",
    "        weig_mat_prob[i][j]=np.exp(-norm(digits.iloc[i,1:]-digits.iloc[j,1:])/1000)\n",
    "        "
   ]
  },
  {
   "cell_type": "code",
   "execution_count": 189,
   "metadata": {
    "ExecuteTime": {
     "end_time": "2021-05-06T12:19:31.170899Z",
     "start_time": "2021-05-06T12:19:31.162327Z"
    }
   },
   "outputs": [
    {
     "data": {
      "text/plain": [
       "0.11861503675131009"
      ]
     },
     "execution_count": 189,
     "metadata": {},
     "output_type": "execute_result"
    }
   ],
   "source": [
    "weig_mat_prob.mean()"
   ]
  },
  {
   "cell_type": "code",
   "execution_count": 190,
   "metadata": {
    "ExecuteTime": {
     "end_time": "2021-05-06T12:19:32.725355Z",
     "start_time": "2021-05-06T12:19:32.111291Z"
    },
    "scrolled": true
   },
   "outputs": [
    {
     "data": {
      "text/plain": [
       "<matplotlib.axes._subplots.AxesSubplot at 0x7ffbc5400c10>"
      ]
     },
     "execution_count": 190,
     "metadata": {},
     "output_type": "execute_result"
    },
    {
     "data": {
      "image/png": "[encoded data removed]",
      "text/plain": [
       "<Figure size 432x288 with 2 Axes>"
      ]
     },
     "metadata": {
      "needs_background": "light"
     },
     "output_type": "display_data"
    }
   ],
   "source": [
    "from seaborn import heatmap\n",
    "heatmap((weig_mat_prob*100)[20:30,20:30],annot=True)"
   ]
  },
  {
   "cell_type": "code",
   "execution_count": 191,
   "metadata": {
    "ExecuteTime": {
     "end_time": "2021-05-06T12:19:33.615458Z",
     "start_time": "2021-05-06T12:19:33.606230Z"
    }
   },
   "outputs": [],
   "source": [
    "def run_digit(matrix, threshold,K=1000, seeds=seeds, alpha=0.2, lambda_nLasso=0.1):\n",
    "#     points = get_spirals(N1, N2)\n",
    "    A,B, weight_vec = get_B_and_weight_vec(matrix,threshold)\n",
    "    \n",
    "    start = datetime.datetime.now()\n",
    "    history = algorithm(B, weight_vec,seeds = seeds, K=K, alpha=alpha, lambda_nLasso=lambda_nLasso)\n",
    "    print('our method time: ', datetime.datetime.now() - start)\n",
    "    \n",
    "    start = datetime.datetime.now()\n",
    "    spectral_labels = spectral_clustering(matrix,n_clusters=2)\n",
    "#     spectral_labels = SpectralClustering(2).fit(digits.iloc[:,1:]).labels_\n",
    "    print ('spectral clustering time: ', datetime.datetime.now() - start)\n",
    "    \n",
    "    return history,spectral_labels"
   ]
  },
  {
   "cell_type": "code",
   "execution_count": 193,
   "metadata": {
    "ExecuteTime": {
     "end_time": "2021-05-06T12:19:38.723180Z",
     "start_time": "2021-05-06T12:19:38.579475Z"
    },
    "scrolled": false
   },
   "outputs": [
    {
     "name": "stdout",
     "output_type": "stream",
     "text": [
      "our method time:  0:00:00.053666\n",
      "spectral clustering time:  0:00:00.062417\n"
     ]
    },
    {
     "name": "stderr",
     "output_type": "stream",
     "text": [
      "/opt/anaconda3/lib/python3.7/site-packages/ipykernel_launcher.py:5: RuntimeWarning: divide by zero encountered in true_divide\n",
      "  \"\"\"\n",
      "/opt/anaconda3/lib/python3.7/site-packages/ipykernel_launcher.py:51: RuntimeWarning: invalid value encountered in multiply\n"
     ]
    }
   ],
   "source": [
    "num_seeds = 0.2*100\n",
    "seeds = np.random.choice(np.argwhere(digits.label.values==1).squeeze(),int(num_seeds))\n",
    "history,spectral_labels = run_digit(weig_mat_prob,threshold=0.2,K=300, seeds=seeds, \\\n",
    "                                    alpha=0.01, lambda_nLasso=0.1)\n",
    "# history[-1]"
   ]
  },
  {
   "cell_type": "code",
   "execution_count": 194,
   "metadata": {
    "ExecuteTime": {
     "end_time": "2021-05-06T12:19:39.449501Z",
     "start_time": "2021-05-06T12:19:39.418439Z"
    }
   },
   "outputs": [
    {
     "name": "stdout",
     "output_type": "stream",
     "text": [
      "our method accuracy:  0.975\n",
      "spectral clustering accuracy:  0.9\n"
     ]
    }
   ],
   "source": [
    "kmeans = KMeans(n_clusters=2, random_state=0).fit(np.nan_to_num(history[-1].reshape(-1,1)))\n",
    "if sum(kmeans.labels_ == true_labels) >= 100:\n",
    "    print('our method accuracy: ', sum(kmeans.labels_ == true_labels)/len(true_labels))\n",
    "else:\n",
    "    print('our method accuracy: ', (len(true_labels)-sum(kmeans.labels_ == true_labels))/len(true_labels))\n",
    "\n",
    "if sum(spectral_labels == true_labels) >= 100:\n",
    "    print('spectral clustering accuracy: ', sum(spectral_labels== true_labels)/len(true_labels))\n",
    "else:\n",
    "    print('spectral clustering accuracy: ', (len(true_labels)-sum(spectral_labels == true_labels))/len(true_labels))\n",
    "    "
   ]
  },
  {
   "cell_type": "markdown",
   "metadata": {},
   "source": [
    "# image clustering on MNIST: 3 clusters"
   ]
  },
  {
   "cell_type": "code",
   "execution_count": 1424,
   "metadata": {
    "ExecuteTime": {
     "end_time": "2021-05-03T17:19:55.064325Z",
     "start_time": "2021-05-03T17:19:54.840514Z"
    }
   },
   "outputs": [],
   "source": [
    "mnist_5 = mnist[mnist['label']==5].iloc[:100,:]\n",
    "mnist_0 = mnist[mnist['label']==0].iloc[:100,:]\n",
    "mnist_6 = mnist[mnist['label']==6].iloc[:100,:]\n",
    "digit056 = mnist_0.append(mnist_5,ignore_index=True).append(mnist_6,ignore_index=True)\n"
   ]
  },
  {
   "cell_type": "code",
   "execution_count": 1425,
   "metadata": {
    "ExecuteTime": {
     "end_time": "2021-05-03T17:19:57.500668Z",
     "start_time": "2021-05-03T17:19:55.704532Z"
    }
   },
   "outputs": [],
   "source": [
    "true_labels = np.array([i for i in range(100)])\n",
    "\n",
    "tsne = TSNE(n_components=2)\n",
    "X056 = tsne.fit_transform(digit056.iloc[:,1:])"
   ]
  },
  {
   "cell_type": "code",
   "execution_count": 1709,
   "metadata": {
    "ExecuteTime": {
     "end_time": "2021-05-03T19:14:32.155543Z",
     "start_time": "2021-05-03T19:14:31.057062Z"
    },
    "scrolled": false
   },
   "outputs": [
    {
     "data": {
      "image/png": "[encoded data removed]",
      "text/plain": [
       "<Figure size 576x576 with 1 Axes>"
      ]
     },
     "metadata": {
      "needs_background": "light"
     },
     "output_type": "display_data"
    }
   ],
   "source": [
    "colors=['b','b','b','b','b','r','g','b','b','b']\n",
    "plt.figure(figsize=(8,8))\n",
    "plt.xlim(X056[:,0].min()-5,X056[:,1].max()+10)\n",
    "plt.ylim(X056[:,0].min()-5,X056[:,1].max()+8)\n",
    "for i in range(300):\n",
    "    plt.text(X056[i,0],X056[i,1],str(digit056.label[i]),color=colors[digit056.label[i]],\\\n",
    "             fontdict={'weight':'bold','size':12})"
   ]
  },
  {
   "cell_type": "code",
   "execution_count": 1723,
   "metadata": {
    "ExecuteTime": {
     "end_time": "2021-05-03T19:18:53.814490Z",
     "start_time": "2021-05-03T19:18:53.785904Z"
    }
   },
   "outputs": [],
   "source": [
    "import random\n",
    "import math\n",
    "import itertools\n",
    "import numpy as np\n",
    "from sklearn.cluster import spectral_clustering, SpectralClustering\n",
    "from scipy.sparse import csr_matrix\n",
    "from sklearn.cluster import KMeans\n",
    "import datetime\n",
    "import matplotlib.pyplot as plt\n",
    "from sklearn import cluster, datasets, mixture\n",
    "\n",
    "n_samples = 6000\n",
    "\n",
    "def accuracy(labels, true_labels):\n",
    "    total_common = 0\n",
    "    cluster_names = set(true_labels)\n",
    "    permutations = list(itertools.permutations(cluster_names))\n",
    "    for permutation in permutations:\n",
    "        max_common = 0\n",
    "        for i, cluster_name in enumerate(cluster_names):\n",
    "            cluster_nodes = np.where(labels == cluster_name)[0]\n",
    "            cluster_name1 = permutation[i]\n",
    "            true_nodes = np.where(true_labels == cluster_name1)[0]\n",
    "\n",
    "            common = len(set(true_nodes) - (set(true_nodes) - set(cluster_nodes)))\n",
    "            max_common += common\n",
    "\n",
    "        total_common = max(total_common, max_common)\n",
    "\n",
    "    return total_common / len(true_labels)\n",
    "\n",
    "def get_B_and_weight_vec_digits(matrix):\n",
    "    A = np.copy(matrix)\n",
    "    N = matrix.shape[0]\n",
    "\n",
    "    row = []\n",
    "    col = []\n",
    "    data = []\n",
    "    weight_vec = []\n",
    "    cnt = 0\n",
    "    for i in range(N):\n",
    "        for j in range(N):\n",
    "            if j <= i:\n",
    "                continue\n",
    "            if A[i, j] < 0.002:\n",
    "                A[i, j] = 0\n",
    "                A[j, i] = 0\n",
    "                continue\n",
    "            row.append(cnt)\n",
    "            col.append(i)\n",
    "            data.append(1)\n",
    "\n",
    "            row.append(cnt)\n",
    "            col.append(j)\n",
    "            data.append(-1)\n",
    "            cnt += 1\n",
    "            weight_vec.append(A[i, j])\n",
    "\n",
    "    B = csr_matrix((data, (row, col)), shape=(cnt, N))\n",
    "    weight_vec = np.array(weight_vec)\n",
    "    return B, weight_vec\n",
    "\n",
    "\n",
    "def run_multi_digits(matrix, true_labels, K, alpha, lambda_nLasso,n_clusters, M=0.2):\n",
    "    B, weight_vec = get_B_and_weight_vec_digits(matrix)\n",
    "    E,N=B.shape[0],B.shape[1]\n",
    "\n",
    "    Gamma_vec = np.array(1. / (np.sum(abs(B), 0)))[0]  # \\in [0, 1]\n",
    "    Gamma = np.diag(Gamma_vec)\n",
    "\n",
    "    Sigma = 0.5\n",
    "\n",
    "    fac_alpha = 1. / (Gamma_vec * alpha + 1)  # \\in [0, 1]\n",
    "    lambda_weight = lambda_nLasso * weight_vec\n",
    "\n",
    "    our_labels = np.full(N, n_clusters-1)\n",
    "    our_time = datetime.datetime.now() - datetime.datetime.now()\n",
    "    for clust_num in range(n_clusters-1):\n",
    "\n",
    "        samplingset = random.choices(np.where(true_labels==clust_num)[0], k=int(M * len(np.where(true_labels==clust_num)[0])))\n",
    "        seednodesindicator = np.zeros(N)\n",
    "        seednodesindicator[samplingset] = 1\n",
    "        noseednodeindicator = np.ones(N)\n",
    "        noseednodeindicator[samplingset] = 0\n",
    "\n",
    "\n",
    "        hatx = np.zeros(N)\n",
    "        newx = np.zeros(N)\n",
    "        prevx = np.zeros(N)\n",
    "        haty = np.array([x / (E - 1) for x in range(0, E)])\n",
    "        gamma_plus = 1 + Gamma_vec[samplingset]\n",
    "        start = datetime.datetime.now()\n",
    "        for iterk in range(K):\n",
    "            tildex = 2 * hatx - prevx\n",
    "            newy = haty + Sigma * B.dot(tildex)  # chould be negative\n",
    "            res = abs(newy) / lambda_weight\n",
    "            res[res < 1] = 1\n",
    "            haty = newy / res\n",
    "\n",
    "            newx = hatx - Gamma_vec * B.T.dot(haty)  # could  be negative\n",
    "\n",
    "            newx[samplingset] = (newx[samplingset] + Gamma_vec[samplingset]) / gamma_plus\n",
    "\n",
    "            newx = seednodesindicator * newx + noseednodeindicator * (newx * fac_alpha)\n",
    "            prevx = np.copy(hatx)\n",
    "            hatx = newx  # could be negative\n",
    "        our_time += datetime.datetime.now() - start\n",
    "        X = newx\n",
    "        X = np.nan_to_num(X, 0)\n",
    "        kmeans = KMeans(n_clusters=2, random_state=0).fit(X.reshape(len(X), 1))\n",
    "        matched_label = kmeans.labels_[samplingset][0]\n",
    "        our_labels[np.where(kmeans.labels_ == matched_label)[0]] = clust_num\n",
    "\n",
    "    print ('our time is:', our_time)\n",
    "    print ('our accuracy is:', accuracy(our_labels, true_labels))\n",
    "    \n",
    "    start = datetime.datetime.now()\n",
    "    labels = spectral_clustering(matrix, n_clusters=3,random_state=1)\n",
    "#     labels = SpectralClustering(3).fit(X056).labels_\n",
    "    print ('spectral clustering time is:', datetime.datetime.now() - start)\n",
    "    print ('spectral clustering accuracy is:', accuracy(labels, true_labels))\n",
    "    \n",
    "\n"
   ]
  },
  {
   "cell_type": "code",
   "execution_count": 1736,
   "metadata": {
    "ExecuteTime": {
     "end_time": "2021-05-03T19:22:59.700218Z",
     "start_time": "2021-05-03T19:22:43.198046Z"
    },
    "scrolled": false
   },
   "outputs": [
    {
     "name": "stderr",
     "output_type": "stream",
     "text": [
      "/opt/anaconda3/lib/python3.7/site-packages/ipykernel_launcher.py:68: RuntimeWarning: divide by zero encountered in true_divide\n",
      "/opt/anaconda3/lib/python3.7/site-packages/ipykernel_launcher.py:100: RuntimeWarning: invalid value encountered in multiply\n",
      "/opt/anaconda3/lib/python3.7/site-packages/ipykernel_launcher.py:100: RuntimeWarning: invalid value encountered in multiply\n"
     ]
    },
    {
     "name": "stdout",
     "output_type": "stream",
     "text": [
      "our time is: 0:00:00.084009\n",
      "our accuracy is: 0.8533333333333334\n",
      "spectral clustering time is: 0:00:08.140352\n",
      "spectral clustering accuracy is: 0.77\n"
     ]
    }
   ],
   "source": [
    "Affinity_Matrix = SpectralClustering(3,random_state=1).fit(X056).affinity_matrix_\n",
    "true_labels = np.array([0 for i in range(100)] + [1 for i in range(100)] + [2 for i in range(100)])\n",
    "run_multi_digits(matrix=Affinity_Matrix,true_labels=true_labels, K=300,\\\n",
    "                 alpha=0.005, lambda_nLasso=0.8,n_clusters=3)"
   ]
  }
 ],
 "metadata": {
  "kernelspec": {
   "display_name": "Python 3",
   "language": "python",
   "name": "python3"
  },
  "language_info": {
   "codemirror_mode": {
    "name": "ipython",
    "version": 3
   },
   "file_extension": ".py",
   "mimetype": "text/x-python",
   "name": "python",
   "nbconvert_exporter": "python",
   "pygments_lexer": "ipython3",
   "version": "3.7.6"
  },
  "latex_envs": {
   "LaTeX_envs_menu_present": true,
   "autoclose": false,
   "autocomplete": true,
   "bibliofile": "biblio.bib",
   "cite_by": "apalike",
   "current_citInitial": 1,
   "eqLabelWithNumbers": true,
   "eqNumInitial": 1,
   "hotkeys": {
    "equation": "Ctrl-E",
    "itemize": "Ctrl-I"
   },
   "labels_anchors": false,
   "latex_user_defs": false,
   "report_style_numbering": false,
   "user_envs_cfg": false
  },
  "toc": {
   "base_numbering": 1,
   "nav_menu": {},
   "number_sections": true,
   "sideBar": true,
   "skip_h1_title": false,
   "title_cell": "Table of Contents",
   "title_sidebar": "Contents",
   "toc_cell": false,
   "toc_position": {
    "height": "calc(100% - 180px)",
    "left": "10px",
    "top": "150px",
    "width": "301.17645263671875px"
   },
   "toc_section_display": true,
   "toc_window_display": true
  },
  "varInspector": {
   "cols": {
    "lenName": 16,
    "lenType": 16,
    "lenVar": 40
   },
   "kernels_config": {
    "python": {
     "delete_cmd_postfix": "",
     "delete_cmd_prefix": "del ",
     "library": "var_list.py",
     "varRefreshCmd": "print(var_dic_list())"
    },
    "r": {
     "delete_cmd_postfix": ") ",
     "delete_cmd_prefix": "rm(",
     "library": "var_list.r",
     "varRefreshCmd": "cat(var_dic_list()) "
    }
   },
   "types_to_exclude": [
    "module",
    "function",
    "builtin_function_or_method",
    "instance",
    "_Feature"
   ],
   "window_display": false
  }
 },
 "nbformat": 4,
 "nbformat_minor": 4
}
