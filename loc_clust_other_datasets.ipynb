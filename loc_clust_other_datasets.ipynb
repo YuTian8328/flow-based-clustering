{
 "cells": [
  {
   "cell_type": "code",
   "execution_count": 1,
   "metadata": {
    "ExecuteTime": {
     "end_time": "2021-12-03T13:26:57.201452Z",
     "start_time": "2021-12-03T13:26:55.920082Z"
    }
   },
   "outputs": [],
   "source": [
    "import numpy as np\n",
    "import pandas as pd\n",
    "import datetime\n",
    "import matplotlib.pyplot as plt"
   ]
  },
  {
   "cell_type": "code",
   "execution_count": 2,
   "metadata": {
    "ExecuteTime": {
     "end_time": "2021-12-03T13:26:58.295156Z",
     "start_time": "2021-12-03T13:26:57.245697Z"
    }
   },
   "outputs": [],
   "source": [
    "from scipy.sparse import csr_matrix\n",
    "import matplotlib.pyplot as plt\n",
    "from seaborn import heatmap"
   ]
  },
  {
   "cell_type": "code",
   "execution_count": 3,
   "metadata": {
    "ExecuteTime": {
     "end_time": "2021-12-03T13:26:58.674426Z",
     "start_time": "2021-12-03T13:26:58.330169Z"
    }
   },
   "outputs": [],
   "source": [
    "from sklearn.cluster import KMeans\n",
    "from sklearn.cluster import spectral_clustering,SpectralClustering"
   ]
  },
  {
   "cell_type": "code",
   "execution_count": 4,
   "metadata": {
    "ExecuteTime": {
     "end_time": "2021-12-03T13:26:58.735560Z",
     "start_time": "2021-12-03T13:26:58.716601Z"
    }
   },
   "outputs": [],
   "source": [
    "def get_B_and_weight_vec(matrix,threshold):\n",
    "    N = matrix.shape[0]\n",
    "    A = matrix\n",
    "\n",
    "    row = []\n",
    "    col = []\n",
    "    data = []\n",
    "    weight_vec = []\n",
    "    cnt = 0\n",
    "    for i in range(N):\n",
    "        for j in range(N):\n",
    "            if j <= i:\n",
    "                continue\n",
    "            if A[i, j] < threshold:   \n",
    "                A[i, j] = 0\n",
    "                A[j, i] = 0\n",
    "                continue\n",
    "            row.append(cnt)\n",
    "            col.append(i)\n",
    "            data.append(1)\n",
    "\n",
    "            row.append(cnt)\n",
    "            col.append(j)\n",
    "            data.append(-1)\n",
    "            cnt += 1\n",
    "            weight_vec.append(A[i, j])\n",
    "\n",
    "    B = csr_matrix((data, (row, col)), shape=(cnt, N))\n",
    "    weight_vec = np.array(weight_vec)\n",
    "    return B, weight_vec"
   ]
  },
  {
   "cell_type": "code",
   "execution_count": 5,
   "metadata": {
    "ExecuteTime": {
     "end_time": "2021-12-03T13:26:58.819710Z",
     "start_time": "2021-12-03T13:26:58.791876Z"
    }
   },
   "outputs": [],
   "source": [
    "def algorithm(B, weight_vec,seeds, K=15000,alpha=0.01, lambda_nLasso=None, check_s=False):\n",
    "    E, N = B.shape\n",
    "#     weight_vec = np.ones(E)\n",
    "\n",
    "    Gamma_vec = np.array(1./(np.sum(abs(B), 0)))[0]  # \\in [0, 1]\n",
    "    Gamma = np.diag(Gamma_vec)\n",
    "\n",
    "    Sigma = 0.5\n",
    "    \n",
    "    \n",
    "    seednodesindicator= np.zeros(N)\n",
    "    seednodesindicator[seeds] = 1   \n",
    "    \n",
    "    noseednodeindicator = np.ones(N)\n",
    "    noseednodeindicator[seeds] = 0\n",
    "    \n",
    "    if lambda_nLasso == None:\n",
    "        lambda_nLasso = 2 / math.sqrt(np.sum(weight_vec))\n",
    "    \n",
    "    if check_s:\n",
    "        s = 0.0\n",
    "        for item in range(len(weight_vec)):\n",
    "            x = B[item].toarray()[0]\n",
    "            i = np.where(x == -1)[0][0]\n",
    "            j = np.where(x == 1)[0][0]\n",
    "            if i < N1 <= j:\n",
    "                s += weight_vec[item]\n",
    "            elif i >= N1 > j:\n",
    "                s += weight_vec[item]\n",
    "\n",
    "        if lambda_nLasso * s >= alpha * N2 / 2:\n",
    "            print ('eq(24)', lambda_nLasso * s, alpha * N2 / 2)\n",
    "    \n",
    "    fac_alpha = 1./(Gamma_vec*alpha+1)  # \\in [0, 1]\n",
    "\n",
    "    hatx = np.zeros(N)\n",
    "    newx = np.zeros(N)\n",
    "    prevx = np.zeros(N)\n",
    "    haty = np.array([x/(E-1) for x in range(0, E)])\n",
    "    history = []\n",
    "    for iterk in range(K):\n",
    "        # if 0 < np.max(abs(newx - prevx)) < 1e-4:\n",
    "        #     print(iterk)\n",
    "        #     break\n",
    "        tildex = 2 * hatx - prevx\n",
    "        newy = haty + Sigma * B.dot(tildex)  # chould be negative\n",
    "        haty = newy / np.maximum(abs(newy) / (lambda_nLasso * weight_vec), np.ones(E))  # could be negative\n",
    "\n",
    "        newx = hatx - Gamma_vec * B.T.dot(haty)  # could  be negative\n",
    "        newx[seeds] = (newx[seeds] + Gamma_vec[seeds]) / (1 + Gamma_vec[seeds])\n",
    "\n",
    "        newx = seednodesindicator * newx + noseednodeindicator * (newx * fac_alpha)\n",
    "        prevx = np.copy(hatx)\n",
    "        hatx = newx  # could be negative\n",
    "        history.append(newx)\n",
    "    \n",
    "    history = np.array(history)\n",
    "\n",
    "    return history\n",
    "   "
   ]
  },
  {
   "cell_type": "markdown",
   "metadata": {},
   "source": [
    "# 11 nodes with Various boundary weight"
   ]
  },
  {
   "cell_type": "code",
   "execution_count": 6,
   "metadata": {
    "ExecuteTime": {
     "end_time": "2021-12-03T13:26:58.872804Z",
     "start_time": "2021-12-03T13:26:58.853209Z"
    }
   },
   "outputs": [],
   "source": [
    "# generate weights matrix\n",
    "def generate_A(N=10, A_0=0.9):\n",
    "    weights_matrix = np.zeros((N,N))\n",
    "    for i in range(N):\n",
    "        for j in range(N):\n",
    "            if i == 9:\n",
    "                weights_matrix[i][10] = A_0\n",
    "                weights_matrix[10][i] = A_0\n",
    "                continue\n",
    "            if j == i+1:\n",
    "                weights_matrix[i][j] = 1\n",
    "                weights_matrix[j][i] = 1\n",
    "    return weights_matrix"
   ]
  },
  {
   "cell_type": "code",
   "execution_count": 7,
   "metadata": {
    "ExecuteTime": {
     "end_time": "2021-12-03T13:26:58.911741Z",
     "start_time": "2021-12-03T13:26:58.899459Z"
    }
   },
   "outputs": [],
   "source": [
    "def run_chain(matrix,seeds,K=100, alpha=0.02,threshold = 0.000001, lambda_nLasso=0.1):\n",
    "    B, weight_vec = get_B_and_weight_vec(matrix,threshold = threshold)\n",
    "    X = []\n",
    "    for s in seeds:\n",
    "        history = algorithm(B, weight_vec,seeds=s, K=K, alpha=alpha, lambda_nLasso=lambda_nLasso)\n",
    "        X.append(np.nan_to_num(history[-1]))\n",
    "    X = np.array(X)\n",
    "#     start = datetime.datetime.now()\n",
    "    spectral_labels = spectral_clustering(matrix, n_clusters=2)\n",
    "#     print ('spectral clustering time: ', datetime.datetime.now() - start)\n",
    "    return X, spectral_labels"
   ]
  },
  {
   "cell_type": "code",
   "execution_count": 8,
   "metadata": {
    "ExecuteTime": {
     "end_time": "2021-12-03T13:27:13.269937Z",
     "start_time": "2021-12-03T13:26:58.938139Z"
    }
   },
   "outputs": [
    {
     "name": "stdout",
     "output_type": "stream",
     "text": [
      "A_0 = 0.2\n",
      "our method accuracy:  0.9090909090909091\n",
      "spectral clustering accuracy:  0.6363636363636364\n",
      "\n",
      "\n",
      "A_0 = 0.5\n",
      "our method accuracy:  0.9090909090909091\n",
      "spectral clustering accuracy:  0.6363636363636364\n",
      "\n",
      "\n",
      "A_0 = 0.7\n",
      "our method accuracy:  1.0\n",
      "spectral clustering accuracy:  0.6363636363636364\n",
      "\n",
      "\n",
      "A_0 = 0.9\n",
      "our method accuracy:  0.45454545454545453\n",
      "spectral clustering accuracy:  0.6363636363636364\n",
      "\n",
      "\n",
      "A_0 = 0.99\n",
      "our method accuracy:  1.0\n",
      "spectral clustering accuracy:  0.6363636363636364\n",
      "\n",
      "\n"
     ]
    }
   ],
   "source": [
    "N = 11\n",
    "for A_0 in [0.2,0.5,0.7,0.9,0.99]:\n",
    "    print('A_0 =',A_0)\n",
    "    weights_matrix_10 = generate_A(N=N, A_0=A_0)\n",
    "    seeds = np.random.choice(np.arange(1,N),5,replace=False)\n",
    "#     print(\"seeds:\",seeds)\n",
    "    ALPHA = 0.01\n",
    "    LAMBDA = 0.05\n",
    "    X, spectral_labels = run_chain(weights_matrix_10,seeds=seeds,K=3000,alpha=ALPHA,lambda_nLasso=LAMBDA)\n",
    "    kmeans = KMeans(n_clusters=2, random_state=0).fit(X.T)\n",
    "\n",
    "    true_labels =np.array([0 for i in range(9)]+[1 for i in range(N-9)])\n",
    "    if kmeans.labels_[0] == 0:\n",
    "        print('our method accuracy: ', len(np.where(kmeans.labels_ == true_labels)[0])/len(true_labels))\n",
    "    else:\n",
    "        print('our method accuracy: ', len(np.where(kmeans.labels_ == 1-true_labels)[0])/len(true_labels))\n",
    "\n",
    "    if spectral_labels[0] == 0:\n",
    "        print('spectral clustering accuracy: ', len(np.where(spectral_labels == true_labels)[0])/len(true_labels))\n",
    "    else:\n",
    "        print('spectral clustering accuracy: ', len(np.where(spectral_labels == 1-true_labels)[0])/len(true_labels))\n",
    "    print('\\n')"
   ]
  },
  {
   "cell_type": "code",
   "execution_count": 83,
   "metadata": {
    "ExecuteTime": {
     "end_time": "2021-11-30T18:43:51.210150Z",
     "start_time": "2021-11-30T18:43:50.299744Z"
    }
   },
   "outputs": [
    {
     "name": "stdout",
     "output_type": "stream",
     "text": [
      "A_0 = 0.2\n"
     ]
    },
    {
     "data": {
      "image/png": "[encoded data removed]",
      "text/plain": [
       "<Figure size 576x216 with 1 Axes>"
      ]
     },
     "metadata": {
      "needs_background": "light"
     },
     "output_type": "display_data"
    },
    {
     "name": "stdout",
     "output_type": "stream",
     "text": [
      "A_0 = 0.5\n"
     ]
    },
    {
     "data": {
      "image/png": "[encoded data removed]",
      "text/plain": [
       "<Figure size 576x216 with 1 Axes>"
      ]
     },
     "metadata": {
      "needs_background": "light"
     },
     "output_type": "display_data"
    },
    {
     "name": "stdout",
     "output_type": "stream",
     "text": [
      "A_0 = 0.7\n"
     ]
    },
    {
     "data": {
      "image/png": "[encoded data removed]",
      "text/plain": [
       "<Figure size 576x216 with 1 Axes>"
      ]
     },
     "metadata": {
      "needs_background": "light"
     },
     "output_type": "display_data"
    },
    {
     "name": "stdout",
     "output_type": "stream",
     "text": [
      "A_0 = 0.9\n"
     ]
    },
    {
     "data": {
      "image/png": "[encoded data removed]",
      "text/plain": [
       "<Figure size 576x216 with 1 Axes>"
      ]
     },
     "metadata": {
      "needs_background": "light"
     },
     "output_type": "display_data"
    },
    {
     "name": "stdout",
     "output_type": "stream",
     "text": [
      "A_0 = 0.99\n"
     ]
    },
    {
     "data": {
      "image/png": "[encoded data removed]",
      "text/plain": [
       "<Figure size 576x216 with 1 Axes>"
      ]
     },
     "metadata": {
      "needs_background": "light"
     },
     "output_type": "display_data"
    }
   ],
   "source": [
    "from scipy.sparse.csgraph import laplacian\n",
    "import scipy.linalg as la\n",
    "N = 11\n",
    "for A_0 in [0.2,0.5,0.7,0.9,0.99]:\n",
    "    print('A_0 =',A_0)\n",
    "    weights_matrix_10 = generate_A(N=N, A_0=A_0)\n",
    "    l=laplacian(weights_matrix_10)\n",
    "\n",
    "    eig_values, eig_vectors = la.eig(l)\n",
    "    fiedler_pos = np.where(eig_values.real == np.sort(eig_values.real)[1])[0][0]\n",
    "    fiedler_vector = np.transpose(eig_vectors)[fiedler_pos]\n",
    "    plt.figure(figsize=(8,3))\n",
    "    plt.title(f\"Fiedler vector when A_0 = {A_0}\")\n",
    "    plt.plot(fiedler_vector.real[0:N]*(-7),'yo')\n",
    "    plt.show()\n",
    "    plt.close()"
   ]
  },
  {
   "cell_type": "markdown",
   "metadata": {},
   "source": [
    "# 40 nodes "
   ]
  },
  {
   "cell_type": "code",
   "execution_count": 30,
   "metadata": {
    "ExecuteTime": {
     "end_time": "2021-12-03T17:52:11.520424Z",
     "start_time": "2021-12-03T17:52:07.860431Z"
    },
    "scrolled": false
   },
   "outputs": [
    {
     "name": "stdout",
     "output_type": "stream",
     "text": [
      "A_0 = 0.7\n",
      "seed: 0\n",
      "true labels:  [0 0 0 0 0 0 0 0 0 1 1 1 1 1 1 1 1 1 1 1 1 1 1 1 1 1 1 1 1 1 1 1 1 1 1 1 1\n",
      " 1 1 1]\n",
      "our method accuracy:  0.975\n",
      "spectral clustering accuracy:  0.725\n",
      "\n",
      "\n"
     ]
    },
    {
     "data": {
      "image/png": "[encoded data removed]",
      "text/plain": [
       "<Figure size 432x288 with 1 Axes>"
      ]
     },
     "metadata": {
      "needs_background": "light"
     },
     "output_type": "display_data"
    },
    {
     "name": "stdout",
     "output_type": "stream",
     "text": [
      "A_0 = 0.7\n",
      "seed: 6\n",
      "true labels:  [0 0 0 0 0 0 0 0 0 1 1 1 1 1 1 1 1 1 1 1 1 1 1 1 1 1 1 1 1 1 1 1 1 1 1 1 1\n",
      " 1 1 1]\n",
      "our method accuracy:  0.975\n",
      "spectral clustering accuracy:  0.725\n",
      "\n",
      "\n"
     ]
    },
    {
     "data": {
      "image/png": "[encoded data removed]",
      "text/plain": [
       "<Figure size 432x288 with 1 Axes>"
      ]
     },
     "metadata": {
      "needs_background": "light"
     },
     "output_type": "display_data"
    },
    {
     "name": "stdout",
     "output_type": "stream",
     "text": [
      "A_0 = 0.7\n",
      "seed: 3\n",
      "true labels:  [0 0 0 0 0 0 0 0 0 1 1 1 1 1 1 1 1 1 1 1 1 1 1 1 1 1 1 1 1 1 1 1 1 1 1 1 1\n",
      " 1 1 1]\n",
      "our method accuracy:  0.975\n",
      "spectral clustering accuracy:  0.725\n",
      "\n",
      "\n"
     ]
    },
    {
     "data": {
      "image/png": "[encoded data removed]",
      "text/plain": [
       "<Figure size 432x288 with 1 Axes>"
      ]
     },
     "metadata": {
      "needs_background": "light"
     },
     "output_type": "display_data"
    },
    {
     "name": "stdout",
     "output_type": "stream",
     "text": [
      "A_0 = 0.7\n",
      "seed: 15\n",
      "true labels:  [0 0 0 0 0 0 0 0 0 1 1 1 1 1 1 1 1 1 1 1 1 1 1 1 1 1 1 1 1 1 1 1 1 1 1 1 1\n",
      " 1 1 1]\n",
      "our method accuracy:  0.6\n",
      "spectral clustering accuracy:  0.725\n",
      "\n",
      "\n"
     ]
    },
    {
     "data": {
      "image/png": "[encoded data removed]",
      "text/plain": [
       "<Figure size 432x288 with 1 Axes>"
      ]
     },
     "metadata": {
      "needs_background": "light"
     },
     "output_type": "display_data"
    },
    {
     "name": "stdout",
     "output_type": "stream",
     "text": [
      "A_0 = 0.7\n",
      "seed: 25\n",
      "true labels:  [0 0 0 0 0 0 0 0 0 1 1 1 1 1 1 1 1 1 1 1 1 1 1 1 1 1 1 1 1 1 1 1 1 1 1 1 1\n",
      " 1 1 1]\n",
      "our method accuracy:  0.725\n",
      "spectral clustering accuracy:  0.725\n",
      "\n",
      "\n"
     ]
    },
    {
     "data": {
      "image/png": "[encoded data removed]",
      "text/plain": [
       "<Figure size 432x288 with 1 Axes>"
      ]
     },
     "metadata": {
      "needs_background": "light"
     },
     "output_type": "display_data"
    }
   ],
   "source": [
    "## Use a single node as seed, run algorithm for one time\n",
    "N = 40\n",
    "A_0=0.7\n",
    "for seed in [0,6,3,15,25]:\n",
    "    print('A_0 =',A_0)\n",
    "    weights_matrix_40 = generate_A(N=N, A_0=A_0)\n",
    "    print(\"seed:\",seed)\n",
    "    ALPHA = 0.03\n",
    "    LAMBDA = 0.5\n",
    "    B, weight_vec = get_B_and_weight_vec(weights_matrix_40,threshold = 0.001)\n",
    "    history = algorithm(B, weight_vec,seeds=seed, K=2000, alpha=ALPHA, lambda_nLasso=LAMBDA)\n",
    "    kmeans = KMeans(n_clusters=2, random_state=0).fit(np.nan_to_num(history[-1]).reshape(-1,1))\n",
    "    spectral_labels = spectral_clustering(weights_matrix_40, n_clusters=2)\n",
    "    true_labels =np.array([0 for i in range(9)]+[1 for i in range(N-9)])\n",
    "    print('true labels: ',true_labels)\n",
    "    if kmeans.labels_[0] == 0:\n",
    "        print('our method accuracy: ', len(np.where(kmeans.labels_ == true_labels)[0])/len(true_labels))\n",
    "    else:\n",
    "        print('our method accuracy: ', len(np.where(kmeans.labels_ == 1-true_labels)[0])/len(true_labels))\n",
    "\n",
    "    if spectral_labels[0] == 0:\n",
    "        print('spectral clustering accuracy: ', len(np.where(spectral_labels == true_labels)[0])/len(true_labels))\n",
    "    else:\n",
    "        print('spectral clustering accuracy: ', len(np.where(spectral_labels == 1-true_labels)[0])/len(true_labels))\n",
    "    print('\\n')\n",
    "    plt.scatter(np.arange(N),history[-1])\n",
    "    plt.scatter(seed,history[-1][seed],label='seed')\n",
    "    plt.legend()\n",
    "    plt.show()\n",
    "    plt.close()"
   ]
  },
  {
   "cell_type": "code",
   "execution_count": 32,
   "metadata": {
    "ExecuteTime": {
     "end_time": "2021-12-03T17:52:49.957879Z",
     "start_time": "2021-12-03T17:52:39.227953Z"
    }
   },
   "outputs": [
    {
     "name": "stdout",
     "output_type": "stream",
     "text": [
      "A_0 = 0.2\n",
      "seeds: [12  8 17 23  5 26  4  1 32  0]\n",
      "40\n",
      "[False False False False False False False False False  True False False\n",
      " False False False False False False False False False False False False\n",
      " False False False False False False False False False False False False\n",
      " False False False False]\n",
      "[9]\n",
      "our method accuracy:  0.975\n",
      "spectral clustering accuracy:  0.775\n",
      "\n",
      "\n",
      "A_0 = 0.5\n",
      "seeds: [ 9 16 12 20 24 26 11  8 37 39]\n",
      "40\n",
      "[False False False False False False False False False  True False False\n",
      " False False False False False False False False False False False False\n",
      " False False False False False False False False False False False False\n",
      " False False False False]\n",
      "[9]\n",
      "our method accuracy:  0.975\n",
      "spectral clustering accuracy:  0.725\n",
      "\n",
      "\n",
      "A_0 = 0.7\n",
      "seeds: [ 6 10 13 28 14 11  3 26  4 35]\n",
      "40\n",
      "[False False False False False False False False False  True False False\n",
      " False False False False False False False False False False False False\n",
      " False False False False False False False False False False False False\n",
      " False False False False]\n",
      "[9]\n",
      "our method accuracy:  0.975\n",
      "spectral clustering accuracy:  0.725\n",
      "\n",
      "\n",
      "A_0 = 0.9\n",
      "seeds: [ 1 22 38 26 30 20 39 33 16 15]\n",
      "40\n",
      "[ True  True  True  True  True  True  True  True  True False False False\n",
      " False False False False False False False False False False False False\n",
      " False False False False False False False False False False False False\n",
      " False False False  True]\n",
      "[ 0  1  2  3  4  5  6  7  8 39]\n",
      "our method accuracy:  0.25\n",
      "spectral clustering accuracy:  0.725\n",
      "\n",
      "\n",
      "A_0 = 0.99\n",
      "seeds: [ 0 37 14 35 18 22 30  7 38 39]\n",
      "40\n",
      "[ True  True  True  True  True  True  True  True  True False False False\n",
      " False False False False False False False False False False False False\n",
      " False False False False False False False False False False False False\n",
      " False False False  True]\n",
      "[ 0  1  2  3  4  5  6  7  8 39]\n",
      "our method accuracy:  0.25\n",
      "spectral clustering accuracy:  0.725\n",
      "\n",
      "\n"
     ]
    }
   ],
   "source": [
    "N = 40\n",
    "for A_0 in [0.2,0.5,0.7,0.9,0.99]:\n",
    "    print('A_0 =',A_0)\n",
    "    weights_matrix_100 = generate_A(N=N, A_0=A_0)\n",
    "    seeds = np.random.choice(np.arange(0,N),10,replace=False)\n",
    "    print(\"seeds:\",seeds)\n",
    "    ALPHA = 0.03\n",
    "    LAMBDA = 0.5\n",
    "    X, spectral_labels = run_chain(weights_matrix_100,seeds=seeds,K=2000,alpha=ALPHA,lambda_nLasso=LAMBDA)\n",
    "    kmeans = KMeans(n_clusters=2, random_state=0).fit(X.T)\n",
    "\n",
    "    true_labels =np.array([0 for i in range(9)]+[1 for i in range(N-9)])\n",
    "    print(len(true_labels))\n",
    "    print(kmeans.labels_ == true_labels)\n",
    "    print(np.where(kmeans.labels_ == true_labels)[0])\n",
    "    if kmeans.labels_[0] == 0:\n",
    "        print('our method accuracy: ', len(np.where(kmeans.labels_ == true_labels)[0])/len(true_labels))\n",
    "    else:\n",
    "        print('our method accuracy: ', len(np.where(kmeans.labels_ == 1-true_labels)[0])/len(true_labels))\n",
    "\n",
    "    if spectral_labels[0] == 0:\n",
    "        print('spectral clustering accuracy: ', len(np.where(spectral_labels == true_labels)[0])/len(true_labels))\n",
    "    else:\n",
    "        print('spectral clustering accuracy: ', len(np.where(spectral_labels == 1-true_labels)[0])/len(true_labels))\n",
    "    print('\\n')"
   ]
  },
  {
   "cell_type": "code",
   "execution_count": 26,
   "metadata": {
    "ExecuteTime": {
     "end_time": "2021-11-30T17:04:40.608566Z",
     "start_time": "2021-11-30T17:04:39.541640Z"
    },
    "scrolled": false
   },
   "outputs": [
    {
     "name": "stdout",
     "output_type": "stream",
     "text": [
      "A_0 = 0.2\n"
     ]
    },
    {
     "data": {
      "image/png": "[encoded data removed]",
      "text/plain": [
       "<Figure size 576x216 with 1 Axes>"
      ]
     },
     "metadata": {
      "needs_background": "light"
     },
     "output_type": "display_data"
    },
    {
     "name": "stdout",
     "output_type": "stream",
     "text": [
      "A_0 = 0.5\n"
     ]
    },
    {
     "data": {
      "image/png": "[encoded data removed]",
      "text/plain": [
       "<Figure size 576x216 with 1 Axes>"
      ]
     },
     "metadata": {
      "needs_background": "light"
     },
     "output_type": "display_data"
    },
    {
     "name": "stdout",
     "output_type": "stream",
     "text": [
      "A_0 = 0.7\n"
     ]
    },
    {
     "data": {
      "image/png": "[encoded data removed]",
      "text/plain": [
       "<Figure size 576x216 with 1 Axes>"
      ]
     },
     "metadata": {
      "needs_background": "light"
     },
     "output_type": "display_data"
    },
    {
     "name": "stdout",
     "output_type": "stream",
     "text": [
      "A_0 = 0.9\n"
     ]
    },
    {
     "data": {
      "image/png": "[encoded data removed]",
      "text/plain": [
       "<Figure size 576x216 with 1 Axes>"
      ]
     },
     "metadata": {
      "needs_background": "light"
     },
     "output_type": "display_data"
    },
    {
     "name": "stdout",
     "output_type": "stream",
     "text": [
      "A_0 = 0.99\n"
     ]
    },
    {
     "data": {
      "image/png": "[encoded data removed]",
      "text/plain": [
       "<Figure size 576x216 with 1 Axes>"
      ]
     },
     "metadata": {
      "needs_background": "light"
     },
     "output_type": "display_data"
    }
   ],
   "source": [
    "from scipy.sparse.csgraph import laplacian\n",
    "import scipy.linalg as la\n",
    "N = 40\n",
    "for A_0 in [0.2,0.5,0.7,0.9,0.99]:\n",
    "    print('A_0 =',A_0)\n",
    "    weights_matrix_100 = generate_A(N=N, A_0=A_0)\n",
    "    l=laplacian(weights_matrix_100)\n",
    "\n",
    "    eig_values, eig_vectors = la.eig(l)\n",
    "    fiedler_pos = np.where(eig_values.real == np.sort(eig_values.real)[1])[0][0]\n",
    "    fiedler_vector = np.transpose(eig_vectors)[fiedler_pos]\n",
    "    plt.figure(figsize=(8,3))\n",
    "    plt.title(f\"Fiedler vector when A_0 = {A_0}\")\n",
    "    plt.plot(fiedler_vector.real[0:N]*(-7),'yo')\n",
    "    plt.show()\n",
    "    plt.close()"
   ]
  },
  {
   "cell_type": "markdown",
   "metadata": {},
   "source": [
    "# Gaussian Ball + Rectangle"
   ]
  },
  {
   "cell_type": "code",
   "execution_count": 23,
   "metadata": {
    "ExecuteTime": {
     "end_time": "2021-12-03T13:34:55.641052Z",
     "start_time": "2021-12-03T13:34:55.569514Z"
    }
   },
   "outputs": [],
   "source": [
    "def get_A_B_and_edge_weights_points(points,threshold=0.2):\n",
    "    N = len(points)\n",
    "    clustering = SpectralClustering(n_clusters=2, assign_labels=\"discretize\", random_state=0).fit(points)\n",
    "    A = clustering.affinity_matrix_\n",
    "#     print(np.max(A.flatten()))\n",
    "    row = []\n",
    "    col = []\n",
    "    data = []\n",
    "    edge_weights = []\n",
    "    cnt = 0\n",
    "    for i in range(N):\n",
    "        for j in range(N):\n",
    "            if j <= i:\n",
    "                continue\n",
    "            if A[i, j] < threshold:\n",
    "                A[i, j] = 0\n",
    "                A[j, i] = 0\n",
    "                continue\n",
    "            row.append(cnt)\n",
    "            col.append(i)\n",
    "            data.append(1)\n",
    "\n",
    "            row.append(cnt)\n",
    "            col.append(j)\n",
    "            data.append(-1)\n",
    "            cnt += 1\n",
    "            edge_weights.append(A[i, j])\n",
    "\n",
    "    B = csr_matrix((data, (row, col)), shape=(cnt, N))\n",
    "    edge_weights = np.array(edge_weights)\n",
    "    return A, B, edge_weights\n",
    "\n",
    "def generate_seeds(A,B,N,proportion):\n",
    "#use unweighted A and its square to explore a local neighborhood of the initial seed\n",
    "    def filter_seeds(initial_seed):\n",
    "        i=50\n",
    "        while True:\n",
    "            #b is a set of nodes with more than i common neighbors with the initial seed\n",
    "            b = set(np.where(S[initial_seed]>i)[0]) \n",
    "            samplingset=list(a.intersection(b))\n",
    "            if len(samplingset)<5:   \n",
    "                break\n",
    "            elif len(samplingset)>N*proportion:   \n",
    "                i+=1\n",
    "            else :\n",
    "                break\n",
    "        print(i)\n",
    "        samplingset.append(initial_seed)\n",
    "        return samplingset\n",
    "    \n",
    "    #squared A\n",
    "    unweighted_A = (A>0).astype(int)-np.eye(A.shape[0],A.shape[1]) \n",
    "    S = np.dot(unweighted_A,unweighted_A)\n",
    "    degrees = np.asarray(np.sum(abs(B),0))[0]\n",
    "    \n",
    "    #randomly select some nodes as initial seeds, the degree of these nodes must be higher than a certain value\n",
    "    initial_seeds = np.random.choice(np.where(degrees>12)[0],6,replace=False)\n",
    "    print('initial_seeds',initial_seeds)\n",
    "    samplingsets = []\n",
    "    for s in initial_seeds:\n",
    "        a = set(np.where(unweighted_A[s]>0)[0])  #include all the neighbors as candidate seeds\n",
    "        samplingsets.append(filter_seeds(s))\n",
    "    \n",
    "    return samplingsets"
   ]
  },
  {
   "cell_type": "code",
   "execution_count": 24,
   "metadata": {
    "ExecuteTime": {
     "end_time": "2021-12-03T13:34:57.837112Z",
     "start_time": "2021-12-03T13:34:56.434428Z"
    }
   },
   "outputs": [
    {
     "name": "stdout",
     "output_type": "stream",
     "text": [
      "initial_seeds [ 508  618  682 1209  591  113]\n",
      "50\n",
      "50\n",
      "50\n",
      "312\n",
      "50\n",
      "50\n"
     ]
    },
    {
     "data": {
      "image/png": "[encoded data removed]",
      "text/plain": [
       "<Figure size 432x288 with 1 Axes>"
      ]
     },
     "metadata": {
      "needs_background": "light"
     },
     "output_type": "display_data"
    }
   ],
   "source": [
    "def make_GU(n1,n2):\n",
    "    u = np.random.uniform(low=[0,-0.05], high=[8.0,0], size=(n1,2))\n",
    "    mean=[2,0.2]\n",
    "    cov=[[0.01,0],[0,0.01]]\n",
    "    g = np.random.multivariate_normal(mean, cov, n2)\n",
    "    data = np.concatenate((u,g))\n",
    "    return data,np.array([0]*n1+[1]*n2)\n",
    "\n",
    "N1=700\n",
    "N2=700\n",
    "points = make_GU(n1=N1,n2=N2)\n",
    "\n",
    "A,B,edge_weights=get_A_B_and_edge_weights_points(points[0],threshold=0.98) # Must use a large threshold\n",
    "\n",
    "samplingsets = generate_seeds(A,B,N1+N2,0.1)\n",
    "\n",
    "#visulize seeds generated\n",
    "plt.scatter(points[0][:, 0], points[0][:, 1], label='0')\n",
    "for samplingset in samplingsets:\n",
    "    plt.scatter(points[0][samplingset, 0], points[0][samplingset,1],label='0')\n",
    "plt.title('seeds generated')\n",
    "plt.axis('equal')\n",
    "plt.show()\n",
    "plt.close()"
   ]
  },
  {
   "cell_type": "code",
   "execution_count": 25,
   "metadata": {
    "ExecuteTime": {
     "end_time": "2021-12-03T13:35:23.145813Z",
     "start_time": "2021-12-03T13:35:01.756943Z"
    }
   },
   "outputs": [
    {
     "name": "stdout",
     "output_type": "stream",
     "text": [
      "The accuracy is:  0.9671428571428572\n"
     ]
    },
    {
     "data": {
      "image/png": "[encoded data removed]",
      "text/plain": [
       "<Figure size 432x288 with 1 Axes>"
      ]
     },
     "metadata": {
      "needs_background": "light"
     },
     "output_type": "display_data"
    }
   ],
   "source": [
    "# run our algorithm for each batch of seeds, and stack the obtained graph signals into a feature matrix\n",
    "# # feed the feature matrix into Kmeans to get the final cluster identities for each node.\n",
    "ALPHA = 0.005\n",
    "LAMBDA = 0.01\n",
    "history = []\n",
    "for samplingset in samplingsets:   \n",
    "    hist = algorithm(B,edge_weights,samplingset,K=1000,alpha=ALPHA,lambda_nLasso=LAMBDA)\n",
    "    history.append(np.nan_to_num(hist[-1]))\n",
    "kmeans = KMeans(n_clusters=2).fit(np.array(history).T) \n",
    "\n",
    "data  = {'x':points[0][:,0],'y':points[0][:,1],'c':kmeans.labels_}\n",
    "pd.DataFrame(data).to_csv('ourResult.csv',index=None)\n",
    "true_labels = points[1]\n",
    "if kmeans.labels_[0] == 0:\n",
    "    print('The accuracy is: ', len(np.where(kmeans.labels_ == true_labels)[0])/len(true_labels))\n",
    "else:\n",
    "    print('The accuracy is: ', len(np.where(kmeans.labels_ == 1-true_labels)[0])/len(true_labels))\n",
    "\n",
    "plt.scatter(points[0][np.where(kmeans.labels_ == 1), 0], points[0][np.where(kmeans.labels_ == 1), 1], label='0')\n",
    "plt.scatter(points[0][np.where(kmeans.labels_ == 0), 0], points[0][np.where(kmeans.labels_ == 0), 1], label='0')\n",
    "# plt.scatter(points[0][samplingset, 0], points[0][samplingset,1], c='r',label='0')\n",
    "plt.title('clustering results')\n",
    "plt.axis('equal')\n",
    "plt.show()\n",
    "plt.close() \n"
   ]
  },
  {
   "cell_type": "code",
   "execution_count": 26,
   "metadata": {
    "ExecuteTime": {
     "end_time": "2021-12-03T13:35:24.384680Z",
     "start_time": "2021-12-03T13:35:23.228066Z"
    }
   },
   "outputs": [
    {
     "name": "stdout",
     "output_type": "stream",
     "text": [
      "The accuracy is:  0.7792857142857142\n"
     ]
    },
    {
     "data": {
      "image/png": "[encoded data removed]",
      "text/plain": [
       "<Figure size 432x288 with 1 Axes>"
      ]
     },
     "metadata": {
      "needs_background": "light"
     },
     "output_type": "display_data"
    }
   ],
   "source": [
    "spectral_labels = spectral_clustering(A,n_clusters=2)\n",
    "data  = {'x':points[0][:,0],'y':points[0][:,1],'c':spectral_labels}\n",
    "pd.DataFrame(data).to_csv('spectralResult.csv',index=None)\n",
    "if spectral_labels[0] == 0:\n",
    "    print('The accuracy is: ', len(np.where(spectral_labels == true_labels)[0])/len(true_labels))\n",
    "else:\n",
    "    print('The accuracy is: ', len(np.where(spectral_labels == 1-true_labels)[0])/len(true_labels))\n",
    "\n",
    "plt.scatter(points[0][np.where(spectral_labels == 1), 0], points[0][np.where(spectral_labels == 1), 1], label='0')\n",
    "plt.scatter(points[0][np.where(spectral_labels == 0), 0], points[0][np.where(spectral_labels == 0), 1], label='0')\n",
    "# plt.scatter(points[0][samplingset, 0], points[0][samplingset,1], c='r',label='0')\n",
    "plt.title('clustering results')\n",
    "plt.axis('equal')\n",
    "plt.show()\n",
    "plt.close()  "
   ]
  },
  {
   "cell_type": "code",
   "execution_count": null,
   "metadata": {},
   "outputs": [],
   "source": []
  }
 ],
 "metadata": {
  "kernelspec": {
   "display_name": "Python 3",
   "language": "python",
   "name": "python3"
  },
  "language_info": {
   "codemirror_mode": {
    "name": "ipython",
    "version": 3
   },
   "file_extension": ".py",
   "mimetype": "text/x-python",
   "name": "python",
   "nbconvert_exporter": "python",
   "pygments_lexer": "ipython3",
   "version": "3.7.6"
  },
  "latex_envs": {
   "LaTeX_envs_menu_present": true,
   "autoclose": false,
   "autocomplete": true,
   "bibliofile": "biblio.bib",
   "cite_by": "apalike",
   "current_citInitial": 1,
   "eqLabelWithNumbers": true,
   "eqNumInitial": 1,
   "hotkeys": {
    "equation": "Ctrl-E",
    "itemize": "Ctrl-I"
   },
   "labels_anchors": false,
   "latex_user_defs": false,
   "report_style_numbering": false,
   "user_envs_cfg": false
  },
  "toc": {
   "base_numbering": 1,
   "nav_menu": {},
   "number_sections": true,
   "sideBar": true,
   "skip_h1_title": false,
   "title_cell": "Table of Contents",
   "title_sidebar": "Contents",
   "toc_cell": false,
   "toc_position": {},
   "toc_section_display": true,
   "toc_window_display": true
  },
  "varInspector": {
   "cols": {
    "lenName": 16,
    "lenType": 16,
    "lenVar": 40
   },
   "kernels_config": {
    "python": {
     "delete_cmd_postfix": "",
     "delete_cmd_prefix": "del ",
     "library": "var_list.py",
     "varRefreshCmd": "print(var_dic_list())"
    },
    "r": {
     "delete_cmd_postfix": ") ",
     "delete_cmd_prefix": "rm(",
     "library": "var_list.r",
     "varRefreshCmd": "cat(var_dic_list()) "
    }
   },
   "types_to_exclude": [
    "module",
    "function",
    "builtin_function_or_method",
    "instance",
    "_Feature"
   ],
   "window_display": false
  }
 },
 "nbformat": 4,
 "nbformat_minor": 4
}
