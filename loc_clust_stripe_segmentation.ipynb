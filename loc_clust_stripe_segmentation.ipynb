{
 "cells": [
  {
   "cell_type": "code",
   "execution_count": null,
   "metadata": {
    "ExecuteTime": {
     "end_time": "2021-10-18T09:02:52.481816Z",
     "start_time": "2021-10-18T09:02:25.857Z"
    }
   },
   "outputs": [],
   "source": [
    "import numpy as np\n",
    "import datetime\n",
    "\n",
    "\n",
    "import matplotlib.pyplot as plt\n",
    "from PIL import Image\n",
    "\n",
    "from scipy.sparse import csr_matrix\n",
    "import matplotlib.pyplot as plt\n",
    "\n",
    "from sklearn.cluster import KMeans\n",
    "\n",
    "from numpy.linalg import norm\n",
    "from sklearn.feature_extraction import image\n",
    "import warnings\n",
    "warnings.filterwarnings(\"ignore\")\n"
   ]
  },
  {
   "cell_type": "code",
   "execution_count": 2,
   "metadata": {
    "ExecuteTime": {
     "end_time": "2021-10-18T05:26:01.878565Z",
     "start_time": "2021-10-18T05:26:01.864295Z"
    }
   },
   "outputs": [],
   "source": [
    "def get_B_and_weight_vec(n_nodes,threshold,sigma=1):\n",
    "    '''\n",
    "    Generate graph structure from the image to be segmented.\n",
    "    Inputs:\n",
    "        n_nodes: number of nodes, i.e. number of pixels\n",
    "        threshold: threshold to drop edges with small weights (weak similarities)\n",
    "        sigma: parameter to scale edge weights\n",
    "    Outputs:\n",
    "        B: Incidence matrix\n",
    "        Weight_vec: edge_wise weights\n",
    "    '''\n",
    "    N = n_nodes\n",
    "    row = []\n",
    "    col = []\n",
    "    data = []\n",
    "    weight_vec = []\n",
    "    cnt = 0\n",
    "#     \n",
    "    for i in range(N):\n",
    "        for j in [i+1,i+100]:\n",
    "            if j>=2900:\n",
    "                continue\n",
    "            if  np.exp(-norm(img[i]-img[j])/(2*sigma**2)) > threshold:\n",
    "                row.append(cnt)\n",
    "                col.append(i)\n",
    "                data.append(1)\n",
    "\n",
    "                row.append(cnt)\n",
    "                col.append(j)\n",
    "                data.append(-1)\n",
    "                cnt += 1\n",
    "                weight_vec.append(np.exp(-norm(img[i]-img[j])/(2*sigma**2)))\n",
    "\n",
    "    B = csr_matrix((data, (row, col)), shape=(cnt, N))\n",
    "    weight_vec = np.array(weight_vec)\n",
    "    return B, weight_vec"
   ]
  },
  {
   "cell_type": "code",
   "execution_count": 17,
   "metadata": {
    "ExecuteTime": {
     "end_time": "2021-10-18T09:00:40.851149Z",
     "start_time": "2021-10-18T09:00:40.811824Z"
    }
   },
   "outputs": [],
   "source": [
    "def algorithm(B, weight_vec, seeds,K=15000,alpha=0.02, lambda_nLasso=None, check_s=False):\n",
    "    E, N = B.shape\n",
    "#     weight_vec = np.ones(E)\n",
    "\n",
    "    Gamma_vec = np.array(1./(np.sum(abs(B), 0)))[0]  # \\in [0, 1]\n",
    "    Gamma = np.diag(Gamma_vec)\n",
    "\n",
    "    Sigma = 0.5\n",
    "\n",
    "    seednodesindicator= np.zeros(N)\n",
    "    seednodesindicator[seeds] = 1        \n",
    "\n",
    "\n",
    "    \n",
    "    noseednodeindicator = np.ones(N)\n",
    "    noseednodeindicator[seeds] = 0\n",
    "    \n",
    "    if lambda_nLasso == None:\n",
    "        lambda_nLasso = 2 / math.sqrt(np.sum(weight_vec))\n",
    "    \n",
    "    if check_s:\n",
    "        s = 0.0\n",
    "        for item in range(len(weight_vec)):\n",
    "            x = B[item].toarray()[0]\n",
    "            i = np.where(x == -1)[0][0]\n",
    "            j = np.where(x == 1)[0][0]\n",
    "            if i < N1 <= j:\n",
    "                s += weight_vec[item]\n",
    "            elif i >= N1 > j:\n",
    "                s += weight_vec[item]\n",
    "\n",
    "        if lambda_nLasso * s >= alpha * N2 / 2:\n",
    "            print ('eq(24)', lambda_nLasso * s, alpha * N2 / 2)\n",
    "    \n",
    "    fac_alpha = 1./(Gamma_vec*alpha+1)  # \\in [0, 1]\n",
    "\n",
    "    hatx = np.zeros(N)\n",
    "    newx = np.zeros(N)\n",
    "    prevx = np.zeros(N)\n",
    "    haty = np.array([x/(E-1) for x in range(0, E)])\n",
    "    history = []\n",
    "    for iterk in range(K):\n",
    "        # if 0 < np.max(abs(newx - prevx)) < 1e-4:\n",
    "        #     print(iterk)\n",
    "        #     break\n",
    "        tildex = 2 * hatx - prevx\n",
    "        newy = haty + Sigma * B.dot(tildex)  # chould be negative\n",
    "        haty = newy / np.maximum(abs(newy) / (lambda_nLasso * weight_vec), np.ones(E))  # could be negative\n",
    "\n",
    "        newx = hatx - Gamma_vec * B.T.dot(haty)  # could  be negative\n",
    "        newx[seeds] = (newx[seeds] + Gamma_vec[seeds]) / (1 + Gamma_vec[seeds])\n",
    "\n",
    "        newx = seednodesindicator * newx + noseednodeindicator * (newx * fac_alpha)\n",
    "        prevx = np.copy(hatx)\n",
    "        hatx = newx  # could be negative\n",
    "        history.append(newx)\n",
    "    \n",
    "    history = np.array(history)\n",
    "\n",
    "    return history\n",
    "       "
   ]
  },
  {
   "cell_type": "code",
   "execution_count": 26,
   "metadata": {
    "ExecuteTime": {
     "end_time": "2021-10-18T09:18:31.978062Z",
     "start_time": "2021-10-18T09:18:31.810370Z"
    }
   },
   "outputs": [],
   "source": [
    "#load the image\n",
    "img=Image.open(\"stripes.png\")"
   ]
  },
  {
   "cell_type": "markdown",
   "metadata": {},
   "source": [
    "# Preprocess the image"
   ]
  },
  {
   "cell_type": "code",
   "execution_count": 29,
   "metadata": {
    "ExecuteTime": {
     "end_time": "2021-10-18T09:18:44.641840Z",
     "start_time": "2021-10-18T09:18:44.224712Z"
    }
   },
   "outputs": [
    {
     "name": "stdout",
     "output_type": "stream",
     "text": [
      "(29, 100, 3)\n"
     ]
    },
    {
     "data": {
      "text/plain": [
       "<matplotlib.image.AxesImage at 0x7f8f8b2d0f10>"
      ]
     },
     "execution_count": 29,
     "metadata": {},
     "output_type": "execute_result"
    },
    {
     "data": {
      "image/png": "[encoded data removed]",
      "text/plain": [
       "<Figure size 432x288 with 1 Axes>"
      ]
     },
     "metadata": {
      "needs_background": "light"
     },
     "output_type": "display_data"
    }
   ],
   "source": [
    "# resize the image\n",
    "basewidth = 100\n",
    "wpercent = (basewidth / float(img.size[0]))\n",
    "hsize = int((float(img.size[1]) * float(wpercent)))\n",
    "img = img.resize((basewidth, hsize), Image.ANTIALIAS)\n",
    "img = np.array(img)[:,:,:3]\n",
    "print(img.shape)\n",
    "plt.imshow(img)"
   ]
  },
  {
   "cell_type": "code",
   "execution_count": 30,
   "metadata": {
    "ExecuteTime": {
     "end_time": "2021-10-18T09:18:45.451220Z",
     "start_time": "2021-10-18T09:18:45.434719Z"
    }
   },
   "outputs": [
    {
     "data": {
      "text/plain": [
       "(2900, 3)"
      ]
     },
     "execution_count": 30,
     "metadata": {},
     "output_type": "execute_result"
    }
   ],
   "source": [
    "img = img.reshape(-1,3)\n",
    "img.shape"
   ]
  },
  {
   "cell_type": "markdown",
   "metadata": {},
   "source": [
    "# Perform the segmentation task via Kmeans"
   ]
  },
  {
   "cell_type": "code",
   "execution_count": 31,
   "metadata": {
    "ExecuteTime": {
     "end_time": "2021-10-18T09:18:47.612352Z",
     "start_time": "2021-10-18T09:18:47.315157Z"
    }
   },
   "outputs": [
    {
     "data": {
      "text/plain": [
       "<matplotlib.image.AxesImage at 0x7f8f8ccdec10>"
      ]
     },
     "execution_count": 31,
     "metadata": {},
     "output_type": "execute_result"
    },
    {
     "data": {
      "image/png": "[encoded data removed]",
      "text/plain": [
       "<Figure size 432x288 with 1 Axes>"
      ]
     },
     "metadata": {
      "needs_background": "light"
     },
     "output_type": "display_data"
    }
   ],
   "source": [
    "kmeans = KMeans(n_clusters=2).fit(img)\n",
    "plt.imshow(kmeans.labels_.reshape(29,100))"
   ]
  },
  {
   "cell_type": "markdown",
   "metadata": {},
   "source": [
    "# Perform the task via our algorithm"
   ]
  },
  {
   "cell_type": "code",
   "execution_count": 32,
   "metadata": {
    "ExecuteTime": {
     "end_time": "2021-10-18T09:18:49.418946Z",
     "start_time": "2021-10-18T09:18:49.224223Z"
    },
    "scrolled": true
   },
   "outputs": [
    {
     "name": "stdout",
     "output_type": "stream",
     "text": [
      "number of nodes: 2900\n"
     ]
    }
   ],
   "source": [
    "# generate graph from image\n",
    "img = img.reshape(-1,3)/255\n",
    "n_nodes=img.shape[0]\n",
    "print(\"number of nodes:\",n_nodes )\n",
    "\n",
    "B,weight=get_B_and_weight_vec(n_nodes,0.2,1)\n",
    "# plt.hist(weight,bins=30)  #distribution of similarity measure"
   ]
  },
  {
   "cell_type": "code",
   "execution_count": 33,
   "metadata": {
    "ExecuteTime": {
     "end_time": "2021-10-18T09:18:50.294175Z",
     "start_time": "2021-10-18T09:18:50.279993Z"
    }
   },
   "outputs": [],
   "source": [
    "def run_seg(n_nodes,seeds,threshold, K=30, alpha=0.1, lambda_nLasso=0.1):\n",
    "    B, weight_vec = get_B_and_weight_vec(n_nodes,threshold)\n",
    "    \n",
    "    start = datetime.datetime.now()\n",
    "    history = algorithm(B, weight_vec, seeds=seeds, K=K, alpha=alpha, lambda_nLasso=lambda_nLasso)\n",
    "    print('our method time: ', datetime.datetime.now() - start)    \n",
    "    return history"
   ]
  },
  {
   "cell_type": "code",
   "execution_count": 34,
   "metadata": {
    "ExecuteTime": {
     "end_time": "2021-10-18T09:18:53.347867Z",
     "start_time": "2021-10-18T09:18:52.382354Z"
    },
    "scrolled": true
   },
   "outputs": [
    {
     "name": "stdout",
     "output_type": "stream",
     "text": [
      "our method time:  0:00:00.431303\n"
     ]
    },
    {
     "data": {
      "text/plain": [
       "<matplotlib.image.AxesImage at 0x7f8e2dc27c10>"
      ]
     },
     "execution_count": 34,
     "metadata": {},
     "output_type": "execute_result"
    },
    {
     "data": {
      "image/png": "[encoded data removed]",
      "text/plain": [
       "<Figure size 432x288 with 1 Axes>"
      ]
     },
     "metadata": {
      "needs_background": "light"
     },
     "output_type": "display_data"
    }
   ],
   "source": [
    "# generate seeds according to the labels assigned by kmeans\n",
    "seeds = np.random.choice(np.where(kmeans.labels_==0)[0],20)\n",
    "\n",
    "# run our algorithm  and visulize the result before feed it to kmeans\n",
    "history = run_seg(n_nodes=n_nodes,seeds=seeds,threshold = 0.95, K=1000,alpha=0.01, lambda_nLasso=1)\n",
    "plt.imshow(history[-1].reshape(29,100))"
   ]
  },
  {
   "cell_type": "code",
   "execution_count": 36,
   "metadata": {
    "ExecuteTime": {
     "end_time": "2021-10-18T09:19:07.256441Z",
     "start_time": "2021-10-18T09:19:01.280384Z"
    }
   },
   "outputs": [
    {
     "data": {
      "text/plain": [
       "<matplotlib.image.AxesImage at 0x7f8e2e13d090>"
      ]
     },
     "execution_count": 36,
     "metadata": {},
     "output_type": "execute_result"
    },
    {
     "data": {
      "image/png": "[encoded data removed]",
      "text/plain": [
       "<Figure size 432x288 with 1 Axes>"
      ]
     },
     "metadata": {
      "needs_background": "light"
     },
     "output_type": "display_data"
    }
   ],
   "source": [
    "# Feed the node signal from our algorithm to kmeans to complete clustering (2 clusters)\n",
    "history=np.nan_to_num(history)\n",
    "kmeans = KMeans(n_clusters=2).fit(history[-1].reshape(len(history[-1]), 1))\n",
    "\n",
    "#visulize the segmentation result\n",
    "segmented = kmeans.labels_\n",
    "plt.imshow(segmented.reshape((29,100)))"
   ]
  },
  {
   "cell_type": "markdown",
   "metadata": {},
   "source": [
    "# Perform the segmentation task via spectral clustering"
   ]
  },
  {
   "cell_type": "code",
   "execution_count": 37,
   "metadata": {
    "ExecuteTime": {
     "end_time": "2021-10-18T09:19:12.965839Z",
     "start_time": "2021-10-18T09:19:07.492269Z"
    }
   },
   "outputs": [
    {
     "data": {
      "text/plain": [
       "<matplotlib.image.AxesImage at 0x7f8ccacd6350>"
      ]
     },
     "execution_count": 37,
     "metadata": {},
     "output_type": "execute_result"
    },
    {
     "data": {
      "image/png": "[encoded data removed]",
      "text/plain": [
       "<Figure size 432x288 with 1 Axes>"
      ]
     },
     "metadata": {
      "needs_background": "light"
     },
     "output_type": "display_data"
    }
   ],
   "source": [
    "from sklearn.cluster import SpectralClustering\n",
    "\n",
    "s=SpectralClustering(2).fit(img)\n",
    "\n",
    "plt.imshow(s.labels_.reshape(29,100))"
   ]
  },
  {
   "cell_type": "code",
   "execution_count": 1,
   "metadata": {
    "ExecuteTime": {
     "end_time": "2021-10-20T13:43:40.696067Z",
     "start_time": "2021-10-20T13:43:40.534045Z"
    }
   },
   "outputs": [
    {
     "name": "stdout",
     "output_type": "stream",
     "text": [
      "Following is Breadth First Traversal (starting from vertex 2)\n",
      "2 0 3 1 "
     ]
    }
   ],
   "source": [
    "# Python3 Program to print BFS traversal\n",
    "# from a given source vertex. BFS(int s)\n",
    "# traverses vertices reachable from s.\n",
    "from collections import defaultdict\n",
    "\n",
    "# This class represents a directed graph\n",
    "# using adjacency list representation\n",
    "class Graph:\n",
    "\n",
    "\t# Constructor\n",
    "\tdef __init__(self):\n",
    "\n",
    "\t\t# default dictionary to store graph\n",
    "\t\tself.graph = defaultdict(list)\n",
    "\n",
    "\t# function to add an edge to graph\n",
    "\tdef addEdge(self,u,v):\n",
    "\t\tself.graph[u].append(v)\n",
    "\n",
    "\t# Function to print a BFS of graph\n",
    "\tdef BFS(self, s):\n",
    "\n",
    "\t\t# Mark all the vertices as not visited\n",
    "\t\tvisited = [False] * (max(self.graph) + 1)\n",
    "\n",
    "\t\t# Create a queue for BFS\n",
    "\t\tqueue = []\n",
    "\n",
    "\t\t# Mark the source node as\n",
    "\t\t# visited and enqueue it\n",
    "\t\tqueue.append(s)\n",
    "\t\tvisited[s] = True\n",
    "\n",
    "\t\twhile queue:\n",
    "\n",
    "\t\t\t# Dequeue a vertex from\n",
    "\t\t\t# queue and print it\n",
    "\t\t\ts = queue.pop(0)\n",
    "\t\t\tprint (s, end = \" \")\n",
    "\n",
    "\t\t\t# Get all adjacent vertices of the\n",
    "\t\t\t# dequeued vertex s. If a adjacent\n",
    "\t\t\t# has not been visited, then mark it\n",
    "\t\t\t# visited and enqueue it\n",
    "\t\t\tfor i in self.graph[s]:\n",
    "\t\t\t\tif visited[i] == False:\n",
    "\t\t\t\t\tqueue.append(i)\n",
    "\t\t\t\t\tvisited[i] = True\n",
    "\n",
    "# Driver code\n",
    "\n",
    "# Create a graph given in\n",
    "# the above diagram\n",
    "g = Graph()\n",
    "g.addEdge(0, 1)\n",
    "g.addEdge(0, 2)\n",
    "g.addEdge(1, 2)\n",
    "g.addEdge(2, 0)\n",
    "g.addEdge(2, 3)\n",
    "g.addEdge(3, 3)\n",
    "\n",
    "print (\"Following is Breadth First Traversal\"\n",
    "\t\t\t\t\" (starting from vertex 2)\")\n",
    "g.BFS(2)\n",
    "\n",
    "# This code is contributed by Neelam Yadav\n",
    "\n"
   ]
  },
  {
   "cell_type": "code",
   "execution_count": null,
   "metadata": {},
   "outputs": [],
   "source": []
  }
 ],
 "metadata": {
  "kernelspec": {
   "display_name": "Python 3",
   "language": "python",
   "name": "python3"
  },
  "language_info": {
   "codemirror_mode": {
    "name": "ipython",
    "version": 3
   },
   "file_extension": ".py",
   "mimetype": "text/x-python",
   "name": "python",
   "nbconvert_exporter": "python",
   "pygments_lexer": "ipython3",
   "version": "3.7.6"
  },
  "latex_envs": {
   "LaTeX_envs_menu_present": true,
   "autoclose": false,
   "autocomplete": true,
   "bibliofile": "biblio.bib",
   "cite_by": "apalike",
   "current_citInitial": 1,
   "eqLabelWithNumbers": true,
   "eqNumInitial": 1,
   "hotkeys": {
    "equation": "Ctrl-E",
    "itemize": "Ctrl-I"
   },
   "labels_anchors": false,
   "latex_user_defs": false,
   "report_style_numbering": false,
   "user_envs_cfg": false
  },
  "toc": {
   "base_numbering": 1,
   "nav_menu": {},
   "number_sections": true,
   "sideBar": true,
   "skip_h1_title": false,
   "title_cell": "Table of Contents",
   "title_sidebar": "Contents",
   "toc_cell": false,
   "toc_position": {},
   "toc_section_display": true,
   "toc_window_display": false
  },
  "varInspector": {
   "cols": {
    "lenName": 16,
    "lenType": 16,
    "lenVar": 40
   },
   "kernels_config": {
    "python": {
     "delete_cmd_postfix": "",
     "delete_cmd_prefix": "del ",
     "library": "var_list.py",
     "varRefreshCmd": "print(var_dic_list())"
    },
    "r": {
     "delete_cmd_postfix": ") ",
     "delete_cmd_prefix": "rm(",
     "library": "var_list.r",
     "varRefreshCmd": "cat(var_dic_list()) "
    }
   },
   "types_to_exclude": [
    "module",
    "function",
    "builtin_function_or_method",
    "instance",
    "_Feature"
   ],
   "window_display": false
  }
 },
 "nbformat": 4,
 "nbformat_minor": 4
}
