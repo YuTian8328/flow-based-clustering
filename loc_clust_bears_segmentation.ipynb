{
 "cells": [
  {
   "cell_type": "code",
   "execution_count": 1,
   "metadata": {
    "ExecuteTime": {
     "end_time": "2021-11-18T06:21:12.124093Z",
     "start_time": "2021-11-18T06:21:10.470860Z"
    }
   },
   "outputs": [],
   "source": [
    "import numpy as np\n",
    "import datetime\n",
    "\n",
    "import matplotlib.pyplot as plt\n",
    "from PIL import Image\n",
    "\n",
    "from scipy.sparse import csr_matrix\n",
    "import matplotlib.pyplot as plt\n",
    "\n",
    "from sklearn.cluster import KMeans,spectral_clustering\n",
    "from numpy.linalg import norm\n",
    "from sklearn.feature_extraction import image\n",
    "\n",
    "import warnings\n",
    "warnings.filterwarnings(\"ignore\")"
   ]
  },
  {
   "cell_type": "code",
   "execution_count": 2,
   "metadata": {
    "ExecuteTime": {
     "end_time": "2021-11-18T06:21:12.170399Z",
     "start_time": "2021-11-18T06:21:12.150082Z"
    }
   },
   "outputs": [],
   "source": [
    "def get_A_B_and_weight_vec(n_nodes,threshold,sigma=1):\n",
    "    '''\n",
    "    Generate graph structure from the image to be segmented.\n",
    "    Inputs:\n",
    "        n_nodes: number of nodes, i.e. number of pixels\n",
    "        threshold: threshold to drop edges with small weights (weak similarities)\n",
    "        sigma: parameter to scale edge weights\n",
    "    Outputs:\n",
    "        B: Incidence matrix\n",
    "        Weight_vec: edge_wise weights\n",
    "    '''\n",
    "    N = n_nodes\n",
    "    A = np.zeros((N,N))\n",
    "    row = []\n",
    "    col = []\n",
    "    data = []\n",
    "    weight_vec = []\n",
    "    cnt = 0\n",
    "    img_w = 100\n",
    "    for i in range(N):\n",
    "        for j in [i+1,i+2,i+img_w,i+img_w*2,i+(img_w-1),i+(img_w-1)*2,i+(img_w+1),i+(img_w+1)*2]:\n",
    "            if j>N-1:\n",
    "                continue\n",
    "            elif np.exp(-norm(img[i]-img[j])/(2*sigma**2)) > threshold:\n",
    "                row.append(cnt)\n",
    "                col.append(i)\n",
    "                data.append(1)\n",
    "\n",
    "                row.append(cnt)\n",
    "                col.append(j)\n",
    "                data.append(-1)\n",
    "                cnt += 1\n",
    "                weight_vec.append(np.exp(-norm(img[i]-img[j])/(2*sigma**2)))\n",
    "                A[i,j] = np.exp(-norm(img[i]-img[j])/(2*sigma**2))\n",
    "                A[j,i] = np.exp(-norm(img[i]-img[j])/(2*sigma**2))\n",
    "\n",
    "    B = csr_matrix((data, (row, col)), shape=(cnt, N))\n",
    "#     A = csr_matrix(A)\n",
    "    weight_vec = np.array(weight_vec)\n",
    "    return B, weight_vec,A"
   ]
  },
  {
   "cell_type": "code",
   "execution_count": 3,
   "metadata": {
    "ExecuteTime": {
     "end_time": "2021-11-18T06:21:12.468801Z",
     "start_time": "2021-11-18T06:21:12.450028Z"
    }
   },
   "outputs": [],
   "source": [
    "def algorithm(B, weight_vec, seeds,K=15000,alpha=0.02, lambda_nLasso=None, check_s=False):\n",
    "    E, N = B.shape\n",
    "#     weight_vec = np.ones(E)\n",
    "\n",
    "    Gamma_vec = np.array(1./(np.sum(abs(B), 0)))[0]  # \\in [0, 1]\n",
    "    Gamma = np.diag(Gamma_vec)\n",
    "\n",
    "    Sigma = 0.5\n",
    "\n",
    "    seednodesindicator= np.zeros(N)\n",
    "    seednodesindicator[seeds] = 1        \n",
    "\n",
    "\n",
    "    \n",
    "    noseednodeindicator = np.ones(N)\n",
    "    noseednodeindicator[seeds] = 0\n",
    "    \n",
    "    if lambda_nLasso == None:\n",
    "        lambda_nLasso = 2 / math.sqrt(np.sum(weight_vec))\n",
    "    \n",
    "    if check_s:\n",
    "        s = 0.0\n",
    "        for item in range(len(weight_vec)):\n",
    "            x = B[item].toarray()[0]\n",
    "            i = np.where(x == -1)[0][0]\n",
    "            j = np.where(x == 1)[0][0]\n",
    "            if i < N1 <= j:\n",
    "                s += weight_vec[item]\n",
    "            elif i >= N1 > j:\n",
    "                s += weight_vec[item]\n",
    "\n",
    "        if lambda_nLasso * s >= alpha * N2 / 2:\n",
    "            print ('eq(24)', lambda_nLasso * s, alpha * N2 / 2)\n",
    "    \n",
    "    fac_alpha = 1./(Gamma_vec*alpha+1)  # \\in [0, 1]\n",
    "\n",
    "    hatx = np.zeros(N)\n",
    "    newx = np.zeros(N)\n",
    "    prevx = np.zeros(N)\n",
    "    haty = np.array([x/(E-1) for x in range(0, E)])\n",
    "    history = []\n",
    "    for iterk in range(K):\n",
    "        # if 0 < np.max(abs(newx - prevx)) < 1e-4:\n",
    "        #     print(iterk)\n",
    "        #     break\n",
    "        tildex = 2 * hatx - prevx\n",
    "        newy = haty + Sigma * B.dot(tildex)  # chould be negative\n",
    "        haty = newy / np.maximum(abs(newy) / (lambda_nLasso * weight_vec), np.ones(E))  # could be negative\n",
    "\n",
    "        newx = hatx - Gamma_vec * B.T.dot(haty)  # could  be negative\n",
    "        newx[seeds] = (newx[seeds] + Gamma_vec[seeds]) / (1 + Gamma_vec[seeds])\n",
    "\n",
    "        newx = seednodesindicator * newx + noseednodeindicator * (newx * fac_alpha)\n",
    "        prevx = np.copy(hatx)\n",
    "        hatx = newx  # could be negative\n",
    "        history.append(newx)\n",
    "    \n",
    "    history = np.array(history)\n",
    "\n",
    "    return history\n",
    "    \n",
    "    "
   ]
  },
  {
   "cell_type": "code",
   "execution_count": 4,
   "metadata": {
    "ExecuteTime": {
     "end_time": "2021-11-18T06:21:17.453290Z",
     "start_time": "2021-11-18T06:21:17.428550Z"
    }
   },
   "outputs": [],
   "source": [
    "img=Image.open(\"bears.jpg\")\n",
    "# img=img.convert('L')"
   ]
  },
  {
   "cell_type": "code",
   "execution_count": 5,
   "metadata": {
    "ExecuteTime": {
     "end_time": "2021-11-18T06:21:18.437298Z",
     "start_time": "2021-11-18T06:21:18.422766Z"
    }
   },
   "outputs": [
    {
     "name": "stdout",
     "output_type": "stream",
     "text": [
      "(56, 100, 3)\n"
     ]
    }
   ],
   "source": [
    "basewidth = 100\n",
    "wpercent = (basewidth / float(img.size[0]))\n",
    "hsize = int((float(img.size[1]) * float(wpercent)))\n",
    "img = img.resize((basewidth, hsize), Image.ANTIALIAS)\n",
    "img = np.array(img)\n",
    "print(img.shape)"
   ]
  },
  {
   "cell_type": "code",
   "execution_count": 6,
   "metadata": {
    "ExecuteTime": {
     "end_time": "2021-11-18T06:21:19.340257Z",
     "start_time": "2021-11-18T06:21:19.286726Z"
    }
   },
   "outputs": [],
   "source": [
    "from skimage.data import coins"
   ]
  },
  {
   "cell_type": "code",
   "execution_count": 7,
   "metadata": {
    "ExecuteTime": {
     "end_time": "2021-11-18T06:21:21.127691Z",
     "start_time": "2021-11-18T06:21:20.906617Z"
    },
    "scrolled": true
   },
   "outputs": [
    {
     "data": {
      "text/plain": [
       "<matplotlib.image.AxesImage at 0x7fdde346c4d0>"
      ]
     },
     "execution_count": 7,
     "metadata": {},
     "output_type": "execute_result"
    },
    {
     "data": {
      "image/png": "[encoded data removed]",
      "text/plain": [
       "<Figure size 432x288 with 1 Axes>"
      ]
     },
     "metadata": {
      "needs_background": "light"
     },
     "output_type": "display_data"
    }
   ],
   "source": [
    "plt.imshow(img)"
   ]
  },
  {
   "cell_type": "markdown",
   "metadata": {},
   "source": [
    "# Segment the image via our method"
   ]
  },
  {
   "cell_type": "code",
   "execution_count": 8,
   "metadata": {
    "ExecuteTime": {
     "end_time": "2021-10-26T07:10:37.184660Z",
     "start_time": "2021-10-26T07:10:36.844230Z"
    }
   },
   "outputs": [
    {
     "data": {
      "text/plain": [
       "<matplotlib.image.AxesImage at 0x7fad653c79d0>"
      ]
     },
     "execution_count": 8,
     "metadata": {},
     "output_type": "execute_result"
    },
    {
     "data": {
      "image/png": "[encoded data removed]",
      "text/plain": [
       "<Figure size 432x288 with 1 Axes>"
      ]
     },
     "metadata": {
      "needs_background": "light"
     },
     "output_type": "display_data"
    }
   ],
   "source": [
    "img_seeds = np.copy(img)\n",
    "img_seeds[30:40,30:40]=[255,0,0]\n",
    "img_seeds[13:20,60:70]=[255,0,0]\n",
    "# img_seeds[120:140,190:210]=[255,0,0]\n",
    "# img_seeds[100:120,130:150]=[255,0,0]\n",
    "# img_seeds[120:130,220:230]=[255,0,0]\n",
    "plt.imshow(img_seeds)\n",
    "# plt.savefig('bears_seeds.jpg')"
   ]
  },
  {
   "cell_type": "code",
   "execution_count": 9,
   "metadata": {
    "ExecuteTime": {
     "end_time": "2021-10-26T07:10:37.281328Z",
     "start_time": "2021-10-26T07:10:37.197359Z"
    }
   },
   "outputs": [
    {
     "name": "stdout",
     "output_type": "stream",
     "text": [
      "number of seeds: 170\n"
     ]
    }
   ],
   "source": [
    "seeds = []\n",
    "for i in range(img.shape[0]*img.shape[1]):\n",
    "    if (img_seeds.reshape(-1,3)[i]==[255,0,0]).all():\n",
    "        seeds.append(i)\n",
    "print('number of seeds:',len(seeds))    "
   ]
  },
  {
   "cell_type": "code",
   "execution_count": 10,
   "metadata": {
    "ExecuteTime": {
     "end_time": "2021-10-26T07:10:37.305084Z",
     "start_time": "2021-10-26T07:10:37.286482Z"
    },
    "scrolled": true
   },
   "outputs": [
    {
     "name": "stdout",
     "output_type": "stream",
     "text": [
      "number of nodes: 5600\n"
     ]
    }
   ],
   "source": [
    "img = img.reshape(-1,3)/255\n",
    "n_nodes=img.shape[0]\n",
    "print(\"number of nodes:\",n_nodes )"
   ]
  },
  {
   "cell_type": "code",
   "execution_count": 11,
   "metadata": {
    "ExecuteTime": {
     "end_time": "2021-10-26T07:10:37.331868Z",
     "start_time": "2021-10-26T07:10:37.321933Z"
    },
    "scrolled": false
   },
   "outputs": [],
   "source": [
    "# B,weight,A =get_A_B_and_weight_vec(n_nodes,0,1)\n",
    "# plt.hist(weight,bins=30)  #distribution of similarity measure"
   ]
  },
  {
   "cell_type": "code",
   "execution_count": 12,
   "metadata": {
    "ExecuteTime": {
     "end_time": "2021-10-26T07:10:37.347063Z",
     "start_time": "2021-10-26T07:10:37.340942Z"
    }
   },
   "outputs": [],
   "source": [
    "def run_seg(n_nodes,seeds,threshold, K=30, alpha=0.1, lambda_nLasso=0.1):\n",
    "    B, weight_vec,A = get_A_B_and_weight_vec(n_nodes,threshold)\n",
    "    \n",
    "    start = datetime.datetime.now()\n",
    "    history = algorithm(B, weight_vec, seeds=seeds, K=K, alpha=alpha, lambda_nLasso=lambda_nLasso)\n",
    "    print('our method time: ', datetime.datetime.now() - start)    \n",
    "    return history"
   ]
  },
  {
   "cell_type": "code",
   "execution_count": 13,
   "metadata": {
    "ExecuteTime": {
     "end_time": "2021-10-26T07:10:45.137124Z",
     "start_time": "2021-10-26T07:10:37.362723Z"
    },
    "scrolled": true
   },
   "outputs": [
    {
     "name": "stdout",
     "output_type": "stream",
     "text": [
      "our method time:  0:00:05.378841\n"
     ]
    },
    {
     "data": {
      "text/plain": [
       "<matplotlib.image.AxesImage at 0x7fad5dc84b90>"
      ]
     },
     "execution_count": 13,
     "metadata": {},
     "output_type": "execute_result"
    },
    {
     "data": {
      "image/png": "[encoded data removed]",
      "text/plain": [
       "<Figure size 432x288 with 1 Axes>"
      ]
     },
     "metadata": {
      "needs_background": "light"
     },
     "output_type": "display_data"
    }
   ],
   "source": [
    "history = run_seg(n_nodes=n_nodes,seeds=seeds,threshold = 0.90, K=3000,alpha=0.001, lambda_nLasso=0.05)\n",
    "plt.imshow(history[-1].reshape(56,100),cmap=\"gray\")\n",
    "\n",
    "# plt.savefig('learned_bears.jpg')"
   ]
  },
  {
   "cell_type": "code",
   "execution_count": 14,
   "metadata": {
    "ExecuteTime": {
     "end_time": "2021-10-26T07:10:45.605016Z",
     "start_time": "2021-10-26T07:10:45.142236Z"
    }
   },
   "outputs": [
    {
     "data": {
      "text/plain": [
       "(array([3.678e+03, 0.000e+00, 0.000e+00, 1.000e+00, 0.000e+00, 0.000e+00,\n",
       "        1.000e+00, 0.000e+00, 1.000e+00, 1.919e+03]),\n",
       " array([-4.70044695e-19,  9.96346729e-02,  1.99269346e-01,  2.98904019e-01,\n",
       "         3.98538691e-01,  4.98173364e-01,  5.97808037e-01,  6.97442710e-01,\n",
       "         7.97077383e-01,  8.96712056e-01,  9.96346729e-01]),\n",
       " <a list of 10 Patch objects>)"
      ]
     },
     "execution_count": 14,
     "metadata": {},
     "output_type": "execute_result"
    },
    {
     "data": {
      "image/png": "[encoded data removed]",
      "text/plain": [
       "<Figure size 432x288 with 1 Axes>"
      ]
     },
     "metadata": {
      "needs_background": "light"
     },
     "output_type": "display_data"
    }
   ],
   "source": [
    "X = np.nan_to_num(history[-1])\n",
    "plt.hist(X)"
   ]
  },
  {
   "cell_type": "code",
   "execution_count": 15,
   "metadata": {
    "ExecuteTime": {
     "end_time": "2021-10-26T07:10:45.648753Z",
     "start_time": "2021-10-26T07:10:45.609079Z"
    }
   },
   "outputs": [],
   "source": [
    "# Run k-means to cluster node signals into 2 clusters\n",
    "kmeans = KMeans(n_clusters=2).fit(np.nan_to_num(X).reshape(len(history[-1]), 1))"
   ]
  },
  {
   "cell_type": "code",
   "execution_count": 16,
   "metadata": {
    "ExecuteTime": {
     "end_time": "2021-10-26T07:10:45.877904Z",
     "start_time": "2021-10-26T07:10:45.653866Z"
    },
    "scrolled": false
   },
   "outputs": [
    {
     "data": {
      "text/plain": [
       "<matplotlib.image.AxesImage at 0x7fad4dbeb9d0>"
      ]
     },
     "execution_count": 16,
     "metadata": {},
     "output_type": "execute_result"
    },
    {
     "data": {
      "image/png": "[encoded data removed]",
      "text/plain": [
       "<Figure size 432x288 with 1 Axes>"
      ]
     },
     "metadata": {
      "needs_background": "light"
     },
     "output_type": "display_data"
    }
   ],
   "source": [
    "segmented = kmeans.labels_\n",
    "plt.imshow(segmented.reshape((56,100)))  # run 20 iterations\n",
    "\n",
    "# plt.savefig('bears_seg.jpg')"
   ]
  },
  {
   "cell_type": "markdown",
   "metadata": {},
   "source": [
    "# Run KMeans alone to perform clustering"
   ]
  },
  {
   "cell_type": "code",
   "execution_count": 17,
   "metadata": {
    "ExecuteTime": {
     "end_time": "2021-10-26T07:10:46.119743Z",
     "start_time": "2021-10-26T07:10:45.880396Z"
    },
    "scrolled": true
   },
   "outputs": [
    {
     "data": {
      "text/plain": [
       "<matplotlib.image.AxesImage at 0x7fad36cd5a90>"
      ]
     },
     "execution_count": 17,
     "metadata": {},
     "output_type": "execute_result"
    },
    {
     "data": {
      "image/png": "[encoded data removed]",
      "text/plain": [
       "<Figure size 432x288 with 1 Axes>"
      ]
     },
     "metadata": {
      "needs_background": "light"
     },
     "output_type": "display_data"
    }
   ],
   "source": [
    "k = KMeans(2).fit(img)\n",
    "plt.imshow(k.labels_.reshape(56,100))"
   ]
  },
  {
   "cell_type": "markdown",
   "metadata": {},
   "source": [
    "# Run spectral clustering to perform clustering"
   ]
  },
  {
   "cell_type": "code",
   "execution_count": 18,
   "metadata": {
    "ExecuteTime": {
     "end_time": "2021-10-26T07:10:52.656378Z",
     "start_time": "2021-10-26T07:10:46.123416Z"
    }
   },
   "outputs": [
    {
     "data": {
      "text/plain": [
       "<matplotlib.image.AxesImage at 0x7fad3711a410>"
      ]
     },
     "execution_count": 18,
     "metadata": {},
     "output_type": "execute_result"
    },
    {
     "data": {
      "image/png": "[encoded data removed]",
      "text/plain": [
       "<Figure size 432x288 with 1 Axes>"
      ]
     },
     "metadata": {
      "needs_background": "light"
     },
     "output_type": "display_data"
    }
   ],
   "source": [
    "from sklearn.cluster import SpectralClustering\n",
    "\n",
    "s=SpectralClustering(2).fit(img)\n",
    "\n",
    "plt.imshow(s.labels_.reshape(56,100))"
   ]
  },
  {
   "cell_type": "code",
   "execution_count": 19,
   "metadata": {
    "ExecuteTime": {
     "end_time": "2021-10-26T07:10:52.667253Z",
     "start_time": "2021-10-26T07:10:52.660446Z"
    }
   },
   "outputs": [],
   "source": [
    "# img=Image.open(\"bears.jpg\")\n",
    "# plt.imshow(img)\n",
    "# for l in range(2):\n",
    "#     plt.contour(segmented.reshape((168,299)) == l,\n",
    "#                 colors=[plt.cm.nipy_spectral((l) / float(2)), ])\n",
    "# # plt.gca().invert_yaxis()\n",
    "# # plt.savefig('bears_contour.jpg')\n",
    "# plt.show()\n",
    "# # plt.savefig('bears_contour.jpg')"
   ]
  },
  {
   "cell_type": "code",
   "execution_count": null,
   "metadata": {},
   "outputs": [],
   "source": []
  }
 ],
 "metadata": {
  "kernelspec": {
   "display_name": "Python 3",
   "language": "python",
   "name": "python3"
  },
  "language_info": {
   "codemirror_mode": {
    "name": "ipython",
    "version": 3
   },
   "file_extension": ".py",
   "mimetype": "text/x-python",
   "name": "python",
   "nbconvert_exporter": "python",
   "pygments_lexer": "ipython3",
   "version": "3.7.6"
  },
  "latex_envs": {
   "LaTeX_envs_menu_present": true,
   "autoclose": false,
   "autocomplete": true,
   "bibliofile": "biblio.bib",
   "cite_by": "apalike",
   "current_citInitial": 1,
   "eqLabelWithNumbers": true,
   "eqNumInitial": 1,
   "hotkeys": {
    "equation": "Ctrl-E",
    "itemize": "Ctrl-I"
   },
   "labels_anchors": false,
   "latex_user_defs": false,
   "report_style_numbering": false,
   "user_envs_cfg": false
  },
  "toc": {
   "base_numbering": 1,
   "nav_menu": {},
   "number_sections": true,
   "sideBar": true,
   "skip_h1_title": false,
   "title_cell": "Table of Contents",
   "title_sidebar": "Contents",
   "toc_cell": false,
   "toc_position": {},
   "toc_section_display": true,
   "toc_window_display": false
  },
  "varInspector": {
   "cols": {
    "lenName": 16,
    "lenType": 16,
    "lenVar": 40
   },
   "kernels_config": {
    "python": {
     "delete_cmd_postfix": "",
     "delete_cmd_prefix": "del ",
     "library": "var_list.py",
     "varRefreshCmd": "print(var_dic_list())"
    },
    "r": {
     "delete_cmd_postfix": ") ",
     "delete_cmd_prefix": "rm(",
     "library": "var_list.r",
     "varRefreshCmd": "cat(var_dic_list()) "
    }
   },
   "types_to_exclude": [
    "module",
    "function",
    "builtin_function_or_method",
    "instance",
    "_Feature"
   ],
   "window_display": false
  }
 },
 "nbformat": 4,
 "nbformat_minor": 4
}
